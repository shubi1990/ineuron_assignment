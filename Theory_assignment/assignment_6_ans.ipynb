{
 "cells": [
  {
   "cell_type": "markdown",
   "id": "22ae674a",
   "metadata": {},
   "source": [
    "##### 1. What are escape characters, and how do you use them?"
   ]
  },
  {
   "cell_type": "markdown",
   "id": "f3b61329",
   "metadata": {},
   "source": [
    "An escape character is a backslash \\ followed by the character you want to insert.You will get an error if you use double quotes inside a string that is surrounded by double quotes to fix this problem, use the escape character \\\""
   ]
  },
  {
   "cell_type": "markdown",
   "id": "db4526c7",
   "metadata": {},
   "source": [
    "##### 2. What do the escape characters n and t stand for?\n"
   ]
  },
  {
   "cell_type": "markdown",
   "id": "d5d01ac7",
   "metadata": {},
   "source": [
    "Here, escape characters n stands for new line while t stands for tab"
   ]
  },
  {
   "cell_type": "markdown",
   "id": "fde7d5e4",
   "metadata": {},
   "source": [
    "##### 3. What is the way to include backslash characters in a string?"
   ]
  },
  {
   "cell_type": "markdown",
   "id": "d7b488d4",
   "metadata": {},
   "source": [
    "The \\\\\\ escape character will represent the backslash character in a string."
   ]
  },
  {
   "cell_type": "markdown",
   "id": "9092d4d9",
   "metadata": {},
   "source": [
    "##### 4. The string &quot;Howl&#39;s Moving Castle&quot; is a correct value. Why isn&#39;t the single quote character in theword Howl&#39;s not escaped a problem?"
   ]
  },
  {
   "cell_type": "markdown",
   "id": "e3fe67d6",
   "metadata": {},
   "source": [
    "The string \"Howl's Moving Castle\" is wrapped inside double quotes so it escaped the problem.  if its wrapped inside single quote then we have to use escape character \\' to show single quote in the final output"
   ]
  },
  {
   "cell_type": "markdown",
   "id": "e4c5d203",
   "metadata": {},
   "source": [
    "##### 5. How do you write a string of newlines if you don&#39;t want to use the n character?"
   ]
  },
  {
   "cell_type": "markdown",
   "id": "87b241ae",
   "metadata": {},
   "source": [
    "By using multiline string we can write a string of newlines without using n character"
   ]
  },
  {
   "cell_type": "markdown",
   "id": "feba471e",
   "metadata": {},
   "source": [
    "##### 6. What are the values of the given expressions?\n",
    "##### &#39;Hello, world!&#39;[1]\n",
    "##### &#39;Hello, world!&#39;[0:5]\n",
    "##### &#39;Hello, world!&#39;[:5]\n",
    "##### &#39;Hello, world!&#39;[3:]"
   ]
  },
  {
   "cell_type": "markdown",
   "id": "8e39e0f0",
   "metadata": {},
   "source": [
    "'Hello, world!'[1] - 'e'\\\n",
    "'Hello, world!'[0:5] - 'Hello'\\\n",
    "'Hello, world!'[:5] - 'Hello'\\\n",
    "'Hello, world!'[3:] - 'lo, world!'"
   ]
  },
  {
   "cell_type": "markdown",
   "id": "fcc5dcd0",
   "metadata": {},
   "source": [
    "##### 7. What are the values of the following expressions?\n",
    "##### &#39;Hello&#39;.upper()\n",
    "##### &#39;Hello&#39;.upper().isupper()\n",
    "##### &#39;Hello&#39;.upper().lower()"
   ]
  },
  {
   "cell_type": "markdown",
   "id": "a0d37235",
   "metadata": {},
   "source": [
    "'Hello'.upper() - 'HELLO'\\\n",
    "'Hello'.upper().isupper() - True\\\n",
    "'Hello'.upper().lower() - 'hello'"
   ]
  },
  {
   "cell_type": "markdown",
   "id": "544b8f51",
   "metadata": {},
   "source": [
    "##### 8. What are the values of the following expressions?\n",
    "##### &#39;Remember, remember, the fifth of July.&#39;.split()\n",
    "##### &#39;-&#39;.join(&#39;There can only one.&#39;.split())"
   ]
  },
  {
   "cell_type": "markdown",
   "id": "af60ca5c",
   "metadata": {},
   "source": [
    "'Remember, remember, the fifth of July.'.split() =>  ['Remember,', 'remember,', 'the', 'fifth', 'of', 'July.']\\\n",
    "'-'.join('There can only one.'.split()) => 'There-can-only-one.'\n"
   ]
  },
  {
   "cell_type": "markdown",
   "id": "9305cff7",
   "metadata": {},
   "source": [
    "##### 9. What are the methods for right-justifying, left-justifying, and centering a string?"
   ]
  },
  {
   "cell_type": "markdown",
   "id": "2e0a98a1",
   "metadata": {},
   "source": [
    "rjust(),ljust() and center() are the methods for right-justifying, left-justifying, and centering a string respectively."
   ]
  },
  {
   "cell_type": "markdown",
   "id": "57deebf8",
   "metadata": {},
   "source": [
    "##### 10. What is the best way to remove whitespace characters from the start or end?"
   ]
  },
  {
   "cell_type": "markdown",
   "id": "0e5658da",
   "metadata": {},
   "source": [
    "lstrip() and rstrip() are the methods to remove whitespaces from the start and end ."
   ]
  }
 ],
 "metadata": {
  "kernelspec": {
   "display_name": "Python 3 (ipykernel)",
   "language": "python",
   "name": "python3"
  },
  "language_info": {
   "codemirror_mode": {
    "name": "ipython",
    "version": 3
   },
   "file_extension": ".py",
   "mimetype": "text/x-python",
   "name": "python",
   "nbconvert_exporter": "python",
   "pygments_lexer": "ipython3",
   "version": "3.9.13"
  }
 },
 "nbformat": 4,
 "nbformat_minor": 5
}
