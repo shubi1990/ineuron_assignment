{
 "cells": [
  {
   "cell_type": "markdown",
   "id": "b94f17a3",
   "metadata": {},
   "source": [
    "##### 1. What exactly is []?"
   ]
  },
  {
   "cell_type": "markdown",
   "id": "15b0251a",
   "metadata": {},
   "source": [
    " Its an empty list"
   ]
  },
  {
   "cell_type": "markdown",
   "id": "9d6bc5eb",
   "metadata": {},
   "source": [
    "##### 2. In a list of values stored in a variable called spam, how would you assign the value &#39;hello&#39; as thethird value? (Assume [2, 4, 6, 8, 10] are in spam.)"
   ]
  },
  {
   "cell_type": "code",
   "execution_count": 3,
   "id": "8cb02063",
   "metadata": {},
   "outputs": [
    {
     "data": {
      "text/plain": [
       "[2, 4, 'hello', 6, 8, 10]"
      ]
     },
     "execution_count": 3,
     "metadata": {},
     "output_type": "execute_result"
    }
   ],
   "source": [
    "spam = [2,4,6,8,10]\n",
    "spam.insert(2, 'hello')\n",
    "spam"
   ]
  },
  {
   "cell_type": "markdown",
   "id": "a84870ad",
   "metadata": {},
   "source": [
    "##### Let&#39;s pretend the spam includes the list [&#39;a&#39;, &#39;b&#39;, &#39;c&#39;, &#39;d&#39;] for the next three queries."
   ]
  },
  {
   "cell_type": "markdown",
   "id": "a1c8d043",
   "metadata": {},
   "source": [
    "##### 3. What is the value of spam[int(int(&#39;3&#39; * 2) / 11)]?"
   ]
  },
  {
   "cell_type": "code",
   "execution_count": 5,
   "id": "0c84a4e7",
   "metadata": {},
   "outputs": [
    {
     "data": {
      "text/plain": [
       "'d'"
      ]
     },
     "execution_count": 5,
     "metadata": {},
     "output_type": "execute_result"
    }
   ],
   "source": [
    "spam = ['a','b','c','d']\n",
    "spam[int(int('3'*2)/11)]"
   ]
  },
  {
   "cell_type": "markdown",
   "id": "b6206a71",
   "metadata": {},
   "source": [
    "##### 4. What is the value of spam[-1]?"
   ]
  },
  {
   "cell_type": "code",
   "execution_count": 6,
   "id": "735fcd0b",
   "metadata": {},
   "outputs": [
    {
     "data": {
      "text/plain": [
       "'d'"
      ]
     },
     "execution_count": 6,
     "metadata": {},
     "output_type": "execute_result"
    }
   ],
   "source": [
    "spam[-1]"
   ]
  },
  {
   "cell_type": "markdown",
   "id": "8d6cd913",
   "metadata": {},
   "source": [
    "##### 5. What is the value of spam[:2]?"
   ]
  },
  {
   "cell_type": "code",
   "execution_count": 7,
   "id": "b5830ddf",
   "metadata": {},
   "outputs": [
    {
     "data": {
      "text/plain": [
       "['a', 'b']"
      ]
     },
     "execution_count": 7,
     "metadata": {},
     "output_type": "execute_result"
    }
   ],
   "source": [
    "spam[:2]"
   ]
  },
  {
   "cell_type": "markdown",
   "id": "a88b5d06",
   "metadata": {},
   "source": [
    "##### Let&#39;s pretend bacon has the list [3.14, &#39;cat,&#39; 11, &#39;cat,&#39; True] for the next three questions."
   ]
  },
  {
   "cell_type": "markdown",
   "id": "6f6f501f",
   "metadata": {},
   "source": [
    "##### 6. What is the value of bacon.index(&#39;cat&#39;)?"
   ]
  },
  {
   "cell_type": "code",
   "execution_count": 8,
   "id": "649d29a0",
   "metadata": {},
   "outputs": [
    {
     "data": {
      "text/plain": [
       "1"
      ]
     },
     "execution_count": 8,
     "metadata": {},
     "output_type": "execute_result"
    }
   ],
   "source": [
    "bacon = [3.14,'cat',11,'cat',True]\n",
    "bacon.index('cat')"
   ]
  },
  {
   "cell_type": "markdown",
   "id": "24b943de",
   "metadata": {},
   "source": [
    "##### 7. How does bacon.append(99) change the look of the list value in bacon?"
   ]
  },
  {
   "cell_type": "code",
   "execution_count": 9,
   "id": "8ca86f7b",
   "metadata": {},
   "outputs": [
    {
     "data": {
      "text/plain": [
       "[3.14, 'cat', 11, 'cat', True, 99]"
      ]
     },
     "execution_count": 9,
     "metadata": {},
     "output_type": "execute_result"
    }
   ],
   "source": [
    "bacon.append(99)\n",
    "bacon"
   ]
  },
  {
   "cell_type": "markdown",
   "id": "c9b1c283",
   "metadata": {},
   "source": [
    "##### 8. How does bacon.remove(&#39;cat&#39;) change the look of the list in bacon?"
   ]
  },
  {
   "cell_type": "code",
   "execution_count": 10,
   "id": "dec18fc5",
   "metadata": {},
   "outputs": [
    {
     "data": {
      "text/plain": [
       "[3.14, 11, 'cat', True, 99]"
      ]
     },
     "execution_count": 10,
     "metadata": {},
     "output_type": "execute_result"
    }
   ],
   "source": [
    "bacon.remove('cat')\n",
    "bacon"
   ]
  },
  {
   "cell_type": "markdown",
   "id": "bc2f57c2",
   "metadata": {},
   "source": [
    "##### 9. What are the list concatenation and list replication operators?"
   ]
  },
  {
   "cell_type": "markdown",
   "id": "d0651199",
   "metadata": {},
   "source": [
    "The operator for list concatenation is \"+\", while the operator for replication is \"*\"."
   ]
  },
  {
   "cell_type": "markdown",
   "id": "987c526f",
   "metadata": {},
   "source": [
    "##### 10. What is difference between the list methods append() and insert()?"
   ]
  },
  {
   "cell_type": "markdown",
   "id": "71e3b8a2",
   "metadata": {},
   "source": [
    "append() add an element to the end of the list whereas insert() add an element to the specified position in the list."
   ]
  },
  {
   "cell_type": "markdown",
   "id": "ac523db8",
   "metadata": {},
   "source": [
    "##### 11. What are the two methods for removing items from a list?"
   ]
  },
  {
   "cell_type": "markdown",
   "id": "2a8506b8",
   "metadata": {},
   "source": [
    "pop() and remove() are methods for removing items from a list."
   ]
  },
  {
   "cell_type": "markdown",
   "id": "8c84b789",
   "metadata": {},
   "source": [
    "##### 12. Describe how list values and string values are identical."
   ]
  },
  {
   "cell_type": "markdown",
   "id": "0514f255",
   "metadata": {},
   "source": [
    "List and string both are sequence and have lengths Each character in a string as well as each item in a list has a position, also called an index."
   ]
  },
  {
   "cell_type": "markdown",
   "id": "6c4f8766",
   "metadata": {},
   "source": [
    "##### 13. What&#39;s the difference between tuples and lists?"
   ]
  },
  {
   "cell_type": "markdown",
   "id": "dbc0f481",
   "metadata": {},
   "source": [
    "list is a mutable data type and tuple is an  immutable data type."
   ]
  },
  {
   "cell_type": "markdown",
   "id": "d1a8c403",
   "metadata": {},
   "source": [
    "##### 14. How do you type a tuple value that only contains the integer 42?"
   ]
  },
  {
   "cell_type": "code",
   "execution_count": 16,
   "id": "e9fe0ad5",
   "metadata": {},
   "outputs": [],
   "source": [
    "tuple = (42,)"
   ]
  },
  {
   "cell_type": "markdown",
   "id": "b7b9942a",
   "metadata": {},
   "source": [
    "##### 15. How do you get a list value&#39;s tuple form? How do you get a tuple value&#39;s list form?"
   ]
  },
  {
   "cell_type": "code",
   "execution_count": null,
   "id": "940d2f04",
   "metadata": {},
   "outputs": [],
   "source": [
    "#list value's tuple form\n",
    "l = [2, 3, 6, 7]\n",
    "t = tuple(l)\n",
    "#tuple value's list form\n",
    "t = (2, 4, 'cat')\n",
    "l = list(t)"
   ]
  },
  {
   "cell_type": "markdown",
   "id": "eaefbb77",
   "metadata": {},
   "source": [
    "##### 16. Variables that &quot;contain&quot; list values are not necessarily lists themselves. Instead, what do they contain?"
   ]
  },
  {
   "cell_type": "markdown",
   "id": "22e2fb7f",
   "metadata": {},
   "source": [
    "they contain refrences to the list values."
   ]
  },
  {
   "cell_type": "markdown",
   "id": "7e0cbd90",
   "metadata": {},
   "source": [
    "##### 17. How do you distinguish between copy.copy() and copy.deepcopy()?\n"
   ]
  },
  {
   "cell_type": "markdown",
   "id": "ba243354",
   "metadata": {},
   "source": [
    "copy.copy() made  changes  to a copy of an object do reflect in the original object whereas copy.deepcopy() made changes to a copy of the object do not reflect in the original object.   "
   ]
  },
  {
   "cell_type": "code",
   "execution_count": null,
   "id": "8f04da07",
   "metadata": {},
   "outputs": [],
   "source": []
  }
 ],
 "metadata": {
  "kernelspec": {
   "display_name": "Python 3 (ipykernel)",
   "language": "python",
   "name": "python3"
  },
  "language_info": {
   "codemirror_mode": {
    "name": "ipython",
    "version": 3
   },
   "file_extension": ".py",
   "mimetype": "text/x-python",
   "name": "python",
   "nbconvert_exporter": "python",
   "pygments_lexer": "ipython3",
   "version": "3.9.13"
  }
 },
 "nbformat": 4,
 "nbformat_minor": 5
}
