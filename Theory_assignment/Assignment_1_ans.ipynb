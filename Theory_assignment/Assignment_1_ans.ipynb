{
 "cells": [
  {
   "cell_type": "markdown",
   "id": "2ba86f46",
   "metadata": {},
   "source": [
    "**ans_1 -** values are 'hello', -88.6 and 6 and the expressions are *, -, / and +"
   ]
  },
  {
   "cell_type": "markdown",
   "id": "24d24f0a",
   "metadata": {},
   "source": [
    "**ans_2 -** Variables are the containers to hold the variables and process that at the time of program compilation while string             is a type of variable ."
   ]
  },
  {
   "cell_type": "markdown",
   "id": "9ec80110",
   "metadata": {},
   "source": [
    "**ans_3-** set - set is a data type in python that holds values in an unordered manner and doesnt hold duplicate values . It is            also a mutable and can hold hetrogeneous type of data .\n",
    "           \n",
    " Dictionary - It is a key pair value data type, there are keys to hold values for them and key should be different for each of value stored in a dict. Dictionaries are immutable and an unmordered collection of data types. \n",
    " \n",
    " Boolean - It is also a data type of python with two inbuilt values True and False. These values are uised to determine weather the given statement is true or false.Boolean values are also represented by '0' or '1'."
   ]
  },
  {
   "cell_type": "markdown",
   "id": "d87fbd87",
   "metadata": {},
   "source": [
    "**ans_4-** An expression is made up of literals , identifires, operators and function calls . It is used to do computation and do return a value that is the result of the computation."
   ]
  },
  {
   "cell_type": "markdown",
   "id": "1ce6eef9",
   "metadata": {},
   "source": [
    "**ans_5-** The basic difference between the statement and expresiion is that the expression is a combination of values , operations and varisble that yields a result in the form of a value. and a statement represents as action as a result "
   ]
  },
  {
   "cell_type": "markdown",
   "id": "d36f49f6",
   "metadata": {},
   "source": [
    "**ans_6-** 23"
   ]
  },
  {
   "cell_type": "markdown",
   "id": "3d915f1d",
   "metadata": {},
   "source": [
    "**ans_7-** 'spamspamspam'\n",
    "\n",
    "       'spamspamspam'"
   ]
  },
  {
   "cell_type": "markdown",
   "id": "b3f5c184",
   "metadata": {},
   "source": [
    "**ans_8-** A variable name can not start with a number it should be satrt with a letter or underscore and here 100 is started with a digit that is invalid,"
   ]
  },
  {
   "cell_type": "markdown",
   "id": "94470cfd",
   "metadata": {},
   "source": [
    "**ans_9-** int(), float() and str()"
   ]
  },
  {
   "cell_type": "markdown",
   "id": "c60aff7e",
   "metadata": {},
   "source": [
    "**ans_10-** give n expression cause an error because we can not concatenate a string with integer we can fix this by \n",
    "\n",
    "'i have eaten' + ' 99 ' + 'burritos.'"
   ]
  },
  {
   "cell_type": "code",
   "execution_count": null,
   "id": "f7020ec6",
   "metadata": {},
   "outputs": [],
   "source": []
  }
 ],
 "metadata": {
  "kernelspec": {
   "display_name": "Python 3 (ipykernel)",
   "language": "python",
   "name": "python3"
  },
  "language_info": {
   "codemirror_mode": {
    "name": "ipython",
    "version": 3
   },
   "file_extension": ".py",
   "mimetype": "text/x-python",
   "name": "python",
   "nbconvert_exporter": "python",
   "pygments_lexer": "ipython3",
   "version": "3.8.8"
  }
 },
 "nbformat": 4,
 "nbformat_minor": 5
}
