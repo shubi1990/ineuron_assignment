{
 "cells": [
  {
   "cell_type": "markdown",
   "id": "686d9d92",
   "metadata": {},
   "source": [
    "##### 1. What does an empty dictionary&#39;s code look like?"
   ]
  },
  {
   "cell_type": "code",
   "execution_count": 1,
   "id": "1b3fd68a",
   "metadata": {},
   "outputs": [],
   "source": [
    "dict = {}"
   ]
  },
  {
   "cell_type": "markdown",
   "id": "b807a4e5",
   "metadata": {},
   "source": [
    "##### 2. What is the value of a dictionary value with the key &#39;foo&#39; and the value 42?"
   ]
  },
  {
   "cell_type": "code",
   "execution_count": 5,
   "id": "94ecf7d6",
   "metadata": {},
   "outputs": [
    {
     "data": {
      "text/plain": [
       "dict_values([42])"
      ]
     },
     "execution_count": 5,
     "metadata": {},
     "output_type": "execute_result"
    }
   ],
   "source": [
    "dict = {'foo' : 42}\n",
    "dict.values()"
   ]
  },
  {
   "cell_type": "markdown",
   "id": "c401413f",
   "metadata": {},
   "source": [
    "##### 3. What is the most significant distinction between a dictionary and a list?"
   ]
  },
  {
   "cell_type": "markdown",
   "id": "3b63782a",
   "metadata": {},
   "source": [
    "list is an ordered datatype and dictionary is an unordered data type."
   ]
  },
  {
   "cell_type": "markdown",
   "id": "f2253897",
   "metadata": {},
   "source": [
    "##### 4. What happens if you try to access spam[&#39;foo&#39;] if spam is {&#39;bar&#39;: 100}?"
   ]
  },
  {
   "cell_type": "markdown",
   "id": "1892f2db",
   "metadata": {},
   "source": [
    "we will get an error"
   ]
  },
  {
   "cell_type": "markdown",
   "id": "d9ac62c4",
   "metadata": {},
   "source": [
    "##### 5. If a dictionary is stored in spam, what is the difference between the expressions &#39;cat&#39; in spam and&#39;cat&#39; in spam.keys()?"
   ]
  },
  {
   "cell_type": "markdown",
   "id": "929fd22e",
   "metadata": {},
   "source": [
    "There are no difference in both The in operator checks weather the 'cat' is exist in dictionary spam as a key or not"
   ]
  },
  {
   "cell_type": "markdown",
   "id": "f26ce718",
   "metadata": {},
   "source": [
    "##### 6. If a dictionary is stored in spam, what is the difference between the expressions &#39;cat&#39; in spam and&#39;cat&#39; in spam.values()?"
   ]
  },
  {
   "cell_type": "markdown",
   "id": "543ec141",
   "metadata": {},
   "source": [
    "'cat' in spam checks weather  cat key is there in the dictionary while 'cat' in spam.values() checks cat as value in the given dictioray spam"
   ]
  },
  {
   "cell_type": "markdown",
   "id": "44aca6a5",
   "metadata": {},
   "source": [
    "##### 7. What is a shortcut for the following code?\n",
    "###### if &#39;color&#39; not in spam:\n",
    "##### spam[&#39;color&#39;] = &#39;black&#39;"
   ]
  },
  {
   "cell_type": "code",
   "execution_count": 9,
   "id": "aeb5c559",
   "metadata": {},
   "outputs": [
    {
     "data": {
      "text/plain": [
       "'black'"
      ]
     },
     "execution_count": 9,
     "metadata": {},
     "output_type": "execute_result"
    }
   ],
   "source": [
    "spam.setdefault('color', 'black')"
   ]
  },
  {
   "cell_type": "markdown",
   "id": "5b3b1cee",
   "metadata": {},
   "source": [
    "##### 8. How do you &quot;pretty print&quot; dictionary values using which module and function?"
   ]
  },
  {
   "cell_type": "code",
   "execution_count": null,
   "id": "f875bcaa",
   "metadata": {},
   "outputs": [],
   "source": [
    "pprint.pprint()"
   ]
  },
  {
   "cell_type": "code",
   "execution_count": null,
   "id": "ee86a509",
   "metadata": {},
   "outputs": [],
   "source": []
  }
 ],
 "metadata": {
  "kernelspec": {
   "display_name": "Python 3 (ipykernel)",
   "language": "python",
   "name": "python3"
  },
  "language_info": {
   "codemirror_mode": {
    "name": "ipython",
    "version": 3
   },
   "file_extension": ".py",
   "mimetype": "text/x-python",
   "name": "python",
   "nbconvert_exporter": "python",
   "pygments_lexer": "ipython3",
   "version": "3.9.13"
  }
 },
 "nbformat": 4,
 "nbformat_minor": 5
}
