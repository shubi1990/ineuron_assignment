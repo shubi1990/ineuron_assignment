{
 "cells": [
  {
   "cell_type": "markdown",
   "id": "d0e34a2a",
   "metadata": {},
   "source": [
    "**ans_1-**  \n",
    "Functions stop us from writing the same logic various times we can put logics inside the function and then call the same over and over even with different arguments with the help of functions we can decompose complex problem into small pieces "
   ]
  },
  {
   "cell_type": "markdown",
   "id": "2bc71dcf",
   "metadata": {},
   "source": [
    "**ans_2-** \n",
    "at the time of calling function code runs"
   ]
  },
  {
   "cell_type": "markdown",
   "id": "59be6e17",
   "metadata": {},
   "source": [
    "**ans_3-** \n",
    "def function_name():"
   ]
  },
  {
   "cell_type": "markdown",
   "id": "7b8bcacd",
   "metadata": {},
   "source": [
    "**ans_4-** \n",
    "A function is nothing  but a piece of code and function call means invoking a function and without function call there is no use of the function itself."
   ]
  },
  {
   "cell_type": "markdown",
   "id": "e44ce852",
   "metadata": {},
   "source": [
    "**ans_5-** \n",
    "There’s only one global scope in a python program .Every time we call a function,we used to  create a new local scope in a program"
   ]
  },
  {
   "cell_type": "markdown",
   "id": "d0e083ec",
   "metadata": {},
   "source": [
    "**ans_6-** \n",
    "after a function call returns the variables in a local scope are destroyed"
   ]
  },
  {
   "cell_type": "markdown",
   "id": "655506cd",
   "metadata": {},
   "source": [
    "**ans_7-** \n",
    "it is a value return by a function as an output using a return statement.\n",
    "yes it is possible to have a return value in an expression \n"
   ]
  },
  {
   "cell_type": "markdown",
   "id": "271bc51b",
   "metadata": {},
   "source": [
    "**ans_8-** \n",
    "None"
   ]
  },
  {
   "cell_type": "markdown",
   "id": "ec71001b",
   "metadata": {},
   "source": [
    "**ans_9-** \n",
    "we can make a function variable as a global variable by using global keyword as a prefix with the variable name. eg. global x"
   ]
  },
  {
   "cell_type": "markdown",
   "id": "ab725ec7",
   "metadata": {},
   "source": [
    "**ans_10-** \n",
    "the data type of None is NoneType"
   ]
  },
  {
   "cell_type": "markdown",
   "id": "53db6043",
   "metadata": {},
   "source": [
    "**ans_11-**\n",
    "it imports a module name areallyourpetsnamederic"
   ]
  },
  {
   "cell_type": "markdown",
   "id": "58095bca",
   "metadata": {},
   "source": [
    "**ans_12-** \n",
    "spam.bacon()"
   ]
  },
  {
   "cell_type": "markdown",
   "id": "bb9f53a7",
   "metadata": {},
   "source": [
    "**ans_13-** \n",
    "we will use exception handling here by placing that line of code there will be error in a try block "
   ]
  },
  {
   "cell_type": "markdown",
   "id": "dfcef6e8",
   "metadata": {},
   "source": [
    "**ans_14-** \n",
    "the code that cause an error goes to the try block and if an error happens the except clause runs to handle that error"
   ]
  },
  {
   "cell_type": "code",
   "execution_count": null,
   "id": "a1b6f84b",
   "metadata": {},
   "outputs": [],
   "source": []
  }
 ],
 "metadata": {
  "kernelspec": {
   "display_name": "Python 3 (ipykernel)",
   "language": "python",
   "name": "python3"
  },
  "language_info": {
   "codemirror_mode": {
    "name": "ipython",
    "version": 3
   },
   "file_extension": ".py",
   "mimetype": "text/x-python",
   "name": "python",
   "nbconvert_exporter": "python",
   "pygments_lexer": "ipython3",
   "version": "3.8.8"
  }
 },
 "nbformat": 4,
 "nbformat_minor": 5
}
