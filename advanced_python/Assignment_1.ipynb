{
 "cells": [
  {
   "cell_type": "markdown",
   "id": "a3a4d0d2",
   "metadata": {},
   "source": [
    "### Q1. What is the purpose of Python&#39;s OOP?"
   ]
  },
  {
   "cell_type": "markdown",
   "id": "c87c2ee5",
   "metadata": {},
   "source": [
    "The purpose of Python OOPs (Object-Oriented Programming) is to organize and structure code in a way that makes it easier to manage, maintain, and scale. It allows you to create reusable code that can be easily modified and extended as needed. OOPs in Python provides a way to create objects that contain data and methods, which can interact with one another to perform tasks and solve problems."
   ]
  },
  {
   "cell_type": "markdown",
   "id": "82c6bfb9",
   "metadata": {},
   "source": [
    "### Q2. Where does an inheritance search look for an attribute?"
   ]
  },
  {
   "cell_type": "markdown",
   "id": "edf3ee49",
   "metadata": {},
   "source": [
    "An inheritance search for an attribute  in the following order:\n",
    "\n",
    "1. The object itself\n",
    "2. The object's class\n",
    "3. The base classes of the class\n",
    "If the attribute is not found in any of these places, a AttributeError will be raised."
   ]
  },
  {
   "cell_type": "markdown",
   "id": "00415627",
   "metadata": {},
   "source": [
    "### Q3. How do you distinguish between a class object and an instance object?"
   ]
  },
  {
   "cell_type": "markdown",
   "id": "d8060ab5",
   "metadata": {},
   "source": [
    "1. In object-oriented programming, a class is a blueprint or template that defines the properties and behaviors of a particular type of object.\n",
    "2. An instance is a specific occurrence or realization of that class, created by instantiating the class.\n",
    "3. A class object is the blueprint or template itself, while an instance object is a specific occurrence of that class.\n",
    "4. Class variables are shared by all instances of the class, while instance variables are specific to each instance of the class.\n",
    "5. Instances are created by calling the class constructor with arguments, which initializes the instance variables with specific values.\n",
    "6.In general, the class object defines the general structure and behavior of the instances, while instance objects represent specific data and behavior within that structurre."
   ]
  },
  {
   "cell_type": "markdown",
   "id": "32e77a7f",
   "metadata": {},
   "source": [
    "### Q4. What makes the first argument in a class’s method function special?"
   ]
  },
  {
   "cell_type": "markdown",
   "id": "f7b3cd45",
   "metadata": {},
   "source": [
    "1. The first argument of a method function in a class is conventionally named 'self'.\n",
    "2. 'self' refers to the instance of the class that the method is being called on.\n",
    "3. It allows methods to access and modify instance attributes.\n",
    "4. It distinguishes instance methods from class methods.\n",
    "5. It enables inheritance, where subclasses can override or extend the behavior of superclass methods.\n",
    "6. It enables polymorphism, where different objects can be treated as if they were of the same class.\n",
    "7. 'self' is a convention in Python and other object-oriented programming languages."
   ]
  },
  {
   "cell_type": "markdown",
   "id": "ea69561a",
   "metadata": {},
   "source": [
    "### Q5. What is the purpose of the __init__ method?"
   ]
  },
  {
   "cell_type": "markdown",
   "id": "a10494dc",
   "metadata": {},
   "source": [
    "The __init__ method is a special method in object-oriented programming that is called when an instance of a class is created. Its purpose is to initialize the instance variables of the class with values passed in as arguments, or with default values if no arguments are provided, and to perform any setup or initialization that needs to be done when an object is created."
   ]
  },
  {
   "cell_type": "markdown",
   "id": "084c279a",
   "metadata": {},
   "source": [
    "### Q6. What is the process for creating a class instance?|"
   ]
  },
  {
   "cell_type": "markdown",
   "id": "df095185",
   "metadata": {},
   "source": [
    "To create an instance of a class in Python:\n",
    "\n",
    "1. Define the class using the class keyword.\n",
    "2. Instantiate the class by calling the class name as a function with any required arguments in parentheses.\n",
    "3. Access the instance variables and methods of the newly created object using dot notation.\n",
    "```Here's an example:\n",
    "\n",
    "class Person:\n",
    "\n",
    "    def __init__(self, name, age):\n",
    "        self.name = name\n",
    "        self.age = age\n",
    "person1 = Person(\"Alice\", 25)\n",
    "\n",
    "print(person1.name)```\n",
    "\n",
    "In this example, we define a Person class with an __init__ method that takes two arguments (name and age). We then create an instance of the Person class by calling the class name as a function with the arguments \"Alice\" and 25, and assign the resulting object to the variable person1. Finally, we access the name instance variable of person1 using dot notation and print its value.\n",
    "\n",
    "\n",
    "\n",
    "\n",
    "\n"
   ]
  },
  {
   "cell_type": "markdown",
   "id": "a85c3fc2",
   "metadata": {},
   "source": [
    "### Q7. What is the process for creating a class?"
   ]
  },
  {
   "cell_type": "markdown",
   "id": "a04bf7c0",
   "metadata": {},
   "source": [
    "The purpose of creating a class is to define a blueprint or template for creating objects that share certain attributes and behaviors. By encapsulating related data and functions into a single unit, a class makes it easier to organize and manage code. This can improve code reusability, modularity, and maintainability, and also help to reduce errors and increase efficiency. Classes can be used in a wide range of applications, from simple programs to complex software systems."
   ]
  },
  {
   "cell_type": "markdown",
   "id": "71da5ff2",
   "metadata": {},
   "source": [
    "### Q8. How would you define the superclasses of a class?"
   ]
  },
  {
   "cell_type": "markdown",
   "id": "795c8f01",
   "metadata": {},
   "source": [
    "A superclass is a class that is inherited by a subclass and defines common attributes and behaviors. For example, the class \"Animal\" could be a superclass to the subclasses \"Dog\" and \"Cat\", which inherit attributes like \"name\" and \"age\" and behaviors like \"eat\" and \"sleep\".\n",
    "\n",
    "**Example:**\n",
    "```class Subclass(Superclass):\n",
    "    # Subclass code here```"
   ]
  },
  {
   "cell_type": "code",
   "execution_count": null,
   "id": "0810dee6",
   "metadata": {},
   "outputs": [],
   "source": []
  }
 ],
 "metadata": {
  "kernelspec": {
   "display_name": "Python 3 (ipykernel)",
   "language": "python",
   "name": "python3"
  },
  "language_info": {
   "codemirror_mode": {
    "name": "ipython",
    "version": 3
   },
   "file_extension": ".py",
   "mimetype": "text/x-python",
   "name": "python",
   "nbconvert_exporter": "python",
   "pygments_lexer": "ipython3",
   "version": "3.9.13"
  }
 },
 "nbformat": 4,
 "nbformat_minor": 5
}
