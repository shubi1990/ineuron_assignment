{
 "cells": [
  {
   "cell_type": "markdown",
   "id": "aa5f3013",
   "metadata": {},
   "source": [
    "### 1. What is the concept of an abstract superclass?"
   ]
  },
  {
   "cell_type": "markdown",
   "id": "4c2bf12e",
   "metadata": {},
   "source": [
    "In object-oriented programming, an abstract superclass is a class that is declared with the \"abstract\" keyword and contains at least one abstract method. An abstract method is a method without a body or implementation.\n",
    "\n",
    "An abstract superclass is designed to be extended by subclasses that inherit the abstract methods and provide their own implementation. The purpose of an abstract superclass is to define a common interface and behavior that subclasses can use and specialize.\n",
    "\n",
    "By defining an abstract superclass, you can enforce consistency and ensure that subclasses implement specific methods or behaviors. This can make it easier to write modular and reusable code, as well as improve the overall design and maintainability of your program.\n",
    "\n"
   ]
  },
  {
   "cell_type": "code",
   "execution_count": 2,
   "id": "5e05a87c",
   "metadata": {},
   "outputs": [],
   "source": [
    "from abc import ABC, abstractmethod\n",
    "\n",
    "class Animal(ABC):\n",
    "    @abstractmethod\n",
    "    def make_sound(self):\n",
    "        pass"
   ]
  },
  {
   "cell_type": "markdown",
   "id": "afe66059",
   "metadata": {},
   "source": [
    "In this example, Animal is an abstract superclass that has one abstract method make_sound(). Any subclass of Animal must implement this method, which defines how the animal makes a sound.\n",
    "\n",
    "Here's an example of a subclass of Animal:"
   ]
  },
  {
   "cell_type": "code",
   "execution_count": 3,
   "id": "01403233",
   "metadata": {},
   "outputs": [],
   "source": [
    "class Dog(Animal):\n",
    "    def make_sound(self):\n",
    "        return \"Woof!\""
   ]
  },
  {
   "cell_type": "markdown",
   "id": "fdfe710d",
   "metadata": {},
   "source": [
    "In this example, the Dog class extends Animal and implements the make_sound() method to return the string \"Woof!\". Since Animal has an abstract method make_sound(), Dog must implement it to be a concrete class."
   ]
  },
  {
   "cell_type": "markdown",
   "id": "4282ea5e",
   "metadata": {},
   "source": [
    "### 2. What happens when a class statement&#39;s top level contains a basic assignment statement?"
   ]
  },
  {
   "cell_type": "markdown",
   "id": "dfb7d885",
   "metadata": {},
   "source": [
    "When a class statement's top level contains a basic assignment statement, a new class-level variable is created in the class namespace.\n",
    "\n",
    "For example, consider the following Python code:\n",
    "\n",
    "```class MyClass:\n",
    "    x = 5```\n",
    "    \n",
    "In this example, a new class MyClass is created with a class-level variable x initialized to 5. This variable is accessible to all instances of the class as well as to the class itself.\n",
    "\n",
    "Here's an example of how to access the class-level variable from an instance of the class:\n",
    "\n",
    "```my_obj = MyClass()\n",
    "print(my_obj.x)  # prints 5```\n",
    "\n",
    "Here's an example of how to access the class-level variable from the class itself:\n",
    "\n",
    "```print(MyClass.x)  # prints 5```"
   ]
  },
  {
   "cell_type": "markdown",
   "id": "cd17f381",
   "metadata": {},
   "source": [
    "### 3. Why does a class need to manually call a superclass&#39;s __init__ method?"
   ]
  },
  {
   "cell_type": "markdown",
   "id": "10854a42",
   "metadata": {},
   "source": [
    "A class needs to manually call a superclass's __init__() method to properly initialize instance variables inherited from the superclass. By calling the superclass's __init__() method, the subclass can ensure that the object is properly initialized.\n",
    "\n",
    "class Animal:\n",
    "\n",
    "    def __init__(self, name):\n",
    "        self.name = name\n",
    "\n",
    "class Dog(Animal):\n",
    "\n",
    "    def __init__(self, name, breed):\n",
    "        self.breed = breed\n",
    "        super().__init__(name)\n",
    "        \n",
    "In this example, the Animal class has an __init__() method that initializes the instance variable name. The Dog class is a subclass of Animal and has its own __init__() method that initializes the instance variable breed.\n",
    "\n",
    "To properly initialize the name instance variable inherited from the Animal class, the Dog class needs to call the superclass's __init__() method using the super() function. This ensures that both name and breed are initialized when creating a new Dog object."
   ]
  },
  {
   "cell_type": "markdown",
   "id": "e3dc6a0a",
   "metadata": {},
   "source": [
    "### 4. How can you augment, instead of completely replacing, an inherited method?"
   ]
  },
  {
   "cell_type": "markdown",
   "id": "f40f5909",
   "metadata": {},
   "source": [
    "To augment, instead of completely replacing, an inherited method in a subclass, you can use method overriding.\n",
    "\n",
    "Method overriding allows a subclass to provide its own implementation of a method inherited from its superclass. Instead of completely replacing the inherited method, the subclass's implementation can augment the behavior of the inherited method.\n",
    "\n",
    "Here's an example:"
   ]
  },
  {
   "cell_type": "code",
   "execution_count": 4,
   "id": "ad4f8950",
   "metadata": {},
   "outputs": [
    {
     "name": "stdout",
     "output_type": "stream",
     "text": [
      "The animal makes a sound.\n",
      "The dog barks.\n"
     ]
    }
   ],
   "source": [
    "class Animal:\n",
    "    def make_sound(self):\n",
    "        print(\"The animal makes a sound.\")\n",
    "\n",
    "class Dog(Animal):\n",
    "    def make_sound(self):\n",
    "        super().make_sound()  # call the superclass's implementation\n",
    "        print(\"The dog barks.\")\n",
    "\n",
    "my_dog = Dog()\n",
    "my_dog.make_sound()"
   ]
  },
  {
   "cell_type": "markdown",
   "id": "9d6f1c3c",
   "metadata": {},
   "source": [
    "In this example, Animal is a superclass that defines a make_sound() method. Dog is a subclass of Animal that overrides the make_sound() method to augment the behavior of the inherited method.\n",
    "\n",
    "In Dog's implementation of make_sound(), it first calls the superclass's implementation using the super() function. This ensures that the original behavior of the method is preserved. Then, it adds its own behavior to the method by printing \"The dog barks.\".\n",
    "\n",
    "In this way, we have augmented the behavior of the inherited make_sound() method without completely replacing it."
   ]
  },
  {
   "cell_type": "markdown",
   "id": "e04a08b2",
   "metadata": {},
   "source": [
    "### 5. How is the local scope of a class different from that of a function?"
   ]
  },
  {
   "cell_type": "markdown",
   "id": "1cf660d2",
   "metadata": {},
   "source": [
    "The local scope of a class is different from that of a function because a class has its own namespace, uses the self keyword to access instance variables, has a longer lifetime, allows method definitions, and supports inheritance. In contrast, a function has access to its own local namespace and any namespaces that it is nested within."
   ]
  },
  {
   "cell_type": "code",
   "execution_count": null,
   "id": "8e0cb9c7",
   "metadata": {},
   "outputs": [],
   "source": []
  }
 ],
 "metadata": {
  "kernelspec": {
   "display_name": "Python 3 (ipykernel)",
   "language": "python",
   "name": "python3"
  },
  "language_info": {
   "codemirror_mode": {
    "name": "ipython",
    "version": 3
   },
   "file_extension": ".py",
   "mimetype": "text/x-python",
   "name": "python",
   "nbconvert_exporter": "python",
   "pygments_lexer": "ipython3",
   "version": "3.9.13"
  }
 },
 "nbformat": 4,
 "nbformat_minor": 5
}
