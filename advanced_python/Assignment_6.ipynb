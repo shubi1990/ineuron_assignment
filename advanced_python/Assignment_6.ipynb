{
 "cells": [
  {
   "cell_type": "markdown",
   "id": "ba90087d",
   "metadata": {},
   "source": [
    "## Q1. Describe three applications for exception processing."
   ]
  },
  {
   "cell_type": "markdown",
   "id": "2c7d9027",
   "metadata": {},
   "source": [
    "Exception processing is a technique used in programming to handle errors or unexpected events that occur during the execution of a program. Here are three common applications for exception processing:\n",
    "1. Error Handling: To detect and handle errors that occur during program execution.\n",
    "2. Event Handling: To handle unexpected events that occur during program execution.\n",
    "3. Resource Management: To handle resource-related errors and prevent crashes or resource leaks."
   ]
  },
  {
   "cell_type": "markdown",
   "id": "be0f06b9",
   "metadata": {},
   "source": [
    "## Q2. What happens if you don&#39;t do something extra to treat an exception?"
   ]
  },
  {
   "cell_type": "markdown",
   "id": "9dfef293",
   "metadata": {},
   "source": [
    "If an exception is not handled or treated in any way, the program will terminate abruptly, and an error message or stack trace will be displayed to the user. This can cause the program to crash, resulting in data loss or other unexpected behavior. Therefore, it is essential to handle or treat exceptions appropriately in order to prevent program crashes and ensure the program's reliability."
   ]
  },
  {
   "cell_type": "markdown",
   "id": "1e1add45",
   "metadata": {},
   "source": [
    "## Q3. What are your options for recovering from an exception in your script?"
   ]
  },
  {
   "cell_type": "markdown",
   "id": "ac0fb24c",
   "metadata": {},
   "source": [
    "When an exception occurs in a script, there are several options for recovering from it:\n",
    "\n",
    "1. Ignore the exception: If the exception is not critical and can be safely ignored, the script can continue execution without any action taken.\n",
    "\n",
    "2. Retry the operation: If the exception is due to a temporary condition, such as a network error, the script can retry the operation after a delay.\n",
    "\n",
    "3. Substitute a default value: If the exception is due to missing or invalid data, the script can substitute a default value or handle the error in a way that does not impact the user experience.\n",
    "\n",
    "4. Notify the user: If the exception is critical or requires user intervention, the script can display an error message or alert the user in some other way.\n",
    "\n",
    "5. Gracefully terminate the program: If the exception cannot be recovered from, the script can terminate gracefully, releasing any resources it has acquired and saving any necessary data."
   ]
  },
  {
   "cell_type": "markdown",
   "id": "e5e47d27",
   "metadata": {},
   "source": [
    "## Q4. Describe two methods for triggering exceptions in your script."
   ]
  },
  {
   "cell_type": "markdown",
   "id": "cee3c3b0",
   "metadata": {},
   "source": [
    "Two common methods for triggering exceptions in a script are:\n",
    "\n",
    "1. Using the raise statement: This method involves using the raise statement followed by an exception type, such as ValueError or TypeError, and an optional error message. For example, raise ValueError(\"Invalid input\") would raise a ValueError exception with the message \"Invalid input\". This method is typically used when a specific condition in the script is not met, and an error should be raised to signal that the script cannot proceed.\n",
    "\n",
    "2. Using assertions: This method involves using the assert statement to raise an AssertionError if a certain condition is not met. This method is useful for checking that certain assumptions or conditions hold true in the script, and can be used for debugging or testing purposes."
   ]
  },
  {
   "cell_type": "markdown",
   "id": "e724b8e7",
   "metadata": {},
   "source": [
    "## Q5. Identify two methods for specifying actions to be executed at termination time, regardless of whether or not an exception exists."
   ]
  },
  {
   "cell_type": "markdown",
   "id": "0b3ed403",
   "metadata": {},
   "source": [
    "Two common methods for specifying actions to be executed at termination time, regardless of whether or not an exception exists, are:\n",
    "\n",
    "1. Using finally blocks: This method involves using a try block to enclose the code that may raise an exception, followed by a finally block that contains code that should be executed regardless of whether or not an exception occurs. \n",
    "\n",
    "2. Using atexit module: This method involves using the atexit module, which provides a way to register functions that should be called when the program is about to exit."
   ]
  },
  {
   "cell_type": "code",
   "execution_count": null,
   "id": "be4c862d",
   "metadata": {},
   "outputs": [],
   "source": []
  }
 ],
 "metadata": {
  "kernelspec": {
   "display_name": "Python 3 (ipykernel)",
   "language": "python",
   "name": "python3"
  },
  "language_info": {
   "codemirror_mode": {
    "name": "ipython",
    "version": 3
   },
   "file_extension": ".py",
   "mimetype": "text/x-python",
   "name": "python",
   "nbconvert_exporter": "python",
   "pygments_lexer": "ipython3",
   "version": "3.9.13"
  }
 },
 "nbformat": 4,
 "nbformat_minor": 5
}
