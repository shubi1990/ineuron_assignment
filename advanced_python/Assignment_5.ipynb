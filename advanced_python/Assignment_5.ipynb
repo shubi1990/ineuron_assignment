{
 "cells": [
  {
   "cell_type": "markdown",
   "id": "9b7c3eca",
   "metadata": {},
   "source": [
    "### Q1. What is the meaning of multiple inheritance?"
   ]
  },
  {
   "cell_type": "markdown",
   "id": "568f4f07",
   "metadata": {},
   "source": [
    "Multiple inheritance is a feature in object-oriented programming languages that allows a class to inherit properties and methods from more than one parent class. In other words, a class can have multiple base classes and inherit their attributes and behaviors.\n",
    "\n",
    "example:"
   ]
  },
  {
   "cell_type": "code",
   "execution_count": 1,
   "id": "ef25bc59",
   "metadata": {},
   "outputs": [
    {
     "name": "stdout",
     "output_type": "stream",
     "text": [
      "Method A\n",
      "Method B\n",
      "Method C\n"
     ]
    }
   ],
   "source": [
    "class A:\n",
    "    def method_a(self):\n",
    "        print(\"Method A\")\n",
    "\n",
    "class B:\n",
    "    def method_b(self):\n",
    "        print(\"Method B\")\n",
    "\n",
    "class C(A, B):\n",
    "    def method_c(self):\n",
    "        print(\"Method C\")\n",
    "\n",
    "obj_c = C()\n",
    "obj_c.method_a() \n",
    "obj_c.method_b()  \n",
    "obj_c.method_c()  "
   ]
  },
  {
   "cell_type": "markdown",
   "id": "e214d886",
   "metadata": {},
   "source": [
    "### Q2. What is the concept of delegation?"
   ]
  },
  {
   "cell_type": "markdown",
   "id": "e0546842",
   "metadata": {},
   "source": [
    "Delegation is a programming pattern that allows one object to delegate certain tasks or responsibilities to another object. Delegation is a form of composition, where objects are composed of other objects to achieve functionality.\n",
    "\n",
    "The delegation pattern involves creating an object that contains an instance of another object and delegates method calls to that object. The delegating object does not implement the methods itself, but instead, it forwards the method calls to the delegated object.\n",
    "\n",
    "example:"
   ]
  },
  {
   "cell_type": "code",
   "execution_count": 1,
   "id": "3b161476",
   "metadata": {},
   "outputs": [
    {
     "data": {
      "text/plain": [
       "'Delegate method called'"
      ]
     },
     "execution_count": 1,
     "metadata": {},
     "output_type": "execute_result"
    }
   ],
   "source": [
    "class Delegator:\n",
    "    def __init__(self, delegate):\n",
    "        self.delegate = delegate\n",
    "\n",
    "    def delegate_method(self):\n",
    "        return self.delegate.delegate_method()\n",
    "\n",
    "class Delegate:\n",
    "    def delegate_method(self):\n",
    "        return \"Delegate method called\"\n",
    "\n",
    "d = Delegate()\n",
    "delegator = Delegator(d)\n",
    "delegator.delegate_method()"
   ]
  },
  {
   "cell_type": "markdown",
   "id": "43c5da1a",
   "metadata": {},
   "source": [
    "In this example, the Delegator class delegates the delegate_method method to the Delegate object. The Delegator class doesn't implement the delegate_method method itself, but instead, it forwards the call to the Delegate object using the self.delegate.delegate_method() syntax.\n",
    "\n",
    "Delegation can be useful when you want to reuse existing code without having to modify it. It allows you to separate the implementation details of a class from the higher-level behavior that you want to achieve. Delegation can also be used to create more flexible and modular code, by allowing you to swap out the delegated object with a different implementation at runtime."
   ]
  },
  {
   "cell_type": "markdown",
   "id": "1a73b5c9",
   "metadata": {},
   "source": [
    "## Q3. What is the concept of composition?"
   ]
  },
  {
   "cell_type": "markdown",
   "id": "12ee2fba",
   "metadata": {},
   "source": [
    "Composition is a fundamental concept in object-oriented programming where a complex object is built by combining smaller, simpler objects.\n",
    "\n",
    "For example, let's consider a Car class that needs a Engine and Wheels to be functional. Rather than inheriting from a Vehicle class, we can create the Engine and Wheels as separate classes, and then instantiate them as part of the Car class using composition:\n",
    "\n",
    "example:"
   ]
  },
  {
   "cell_type": "code",
   "execution_count": 2,
   "id": "4ca99e28",
   "metadata": {},
   "outputs": [],
   "source": [
    "class Engine:\n",
    "    def __init__(self):\n",
    "        pass\n",
    "\n",
    "class Wheels:\n",
    "    def __init__(self):\n",
    "        pass\n",
    "\n",
    "class Car:\n",
    "    def __init__(self):\n",
    "        self.engine = Engine()  \n",
    "        self.wheels = Wheels()  "
   ]
  },
  {
   "cell_type": "markdown",
   "id": "9e17bde2",
   "metadata": {},
   "source": [
    "In this example, the Engine and Wheels objects are created independently, and then added to the Car object as components. This approach makes the code more modular and easier to maintain, and allows for greater flexibility and extensibility."
   ]
  },
  {
   "cell_type": "markdown",
   "id": "5e2a7323",
   "metadata": {},
   "source": [
    "## Q4. What are bound methods and how do we use them?"
   ]
  },
  {
   "cell_type": "markdown",
   "id": "4f159f54",
   "metadata": {},
   "source": [
    "If a function is an attribute of class and it is accessed via the instances, they are called bound methods. A bound method is one that has self as its first argument. Since these are dependent on the instance of classes, these are also known as instance methods."
   ]
  },
  {
   "cell_type": "code",
   "execution_count": 3,
   "id": "c4affbf2",
   "metadata": {},
   "outputs": [
    {
     "name": "stdout",
     "output_type": "stream",
     "text": [
      "Tesla Model S (2022)\n"
     ]
    }
   ],
   "source": [
    "class Car:\n",
    "    def __init__(self, make, model, year):\n",
    "        self.make = make\n",
    "        self.model = model\n",
    "        self.year = year\n",
    "    \n",
    "    def description(self):\n",
    "        return f\"{self.make} {self.model} ({self.year})\"\n",
    "        \n",
    "my_car = Car(\"Tesla\", \"Model S\", 2022)\n",
    "\n",
    "# Call a bound method on the object\n",
    "print(my_car.description())\n"
   ]
  },
  {
   "cell_type": "markdown",
   "id": "97ddd2a4",
   "metadata": {},
   "source": [
    "In the example above, description() is a bound method of the Car class. We create an instance of the Car class called my_car, and then call the description() method on my_car. Since the description() method is a bound method, it has access to the make, model, and year attributes of the my_car object, and can return a description of the car as a string."
   ]
  },
  {
   "cell_type": "markdown",
   "id": "7bdbfd5e",
   "metadata": {},
   "source": [
    "## Q5. What is the purpose of pseudoprivate attributes?"
   ]
  },
  {
   "cell_type": "markdown",
   "id": "a4d3d78e",
   "metadata": {},
   "source": [
    "The purpose of pseudoprivate attributes in Python is to provide a way to avoid naming conflicts between attributes of a class and its subclasses or other classes, without actually enforcing privacy.\n",
    "\n",
    "They are not truly private as they can still be accessed outside the class, but their names are mangled to make them harder to access accidentally or intentionally.\n",
    "\n",
    "Here's an example:"
   ]
  },
  {
   "cell_type": "code",
   "execution_count": 5,
   "id": "5ae5afee",
   "metadata": {},
   "outputs": [
    {
     "name": "stdout",
     "output_type": "stream",
     "text": [
      "42\n"
     ]
    }
   ],
   "source": [
    "class MyClass:\n",
    "    def __init__(self):\n",
    "        self.__pseudoprivate = 42\n",
    "\n",
    "class MySubclass(MyClass):\n",
    "    def __init__(self):\n",
    "        super().__init__()\n",
    "        self.__pseudoprivate = \"hello\"\n",
    "\n",
    "obj = MySubclass()\n",
    "#print(obj.__pseudoprivate)  # This will raise an AttributeError\n",
    "print(obj._MyClass__pseudoprivate)  # This will print 42\n"
   ]
  },
  {
   "cell_type": "markdown",
   "id": "ef2e514c",
   "metadata": {},
   "source": [
    "In this example, MyClass has a pseudoprivate attribute __pseudoprivate. When MySubclass inherits from MyClass, it defines its own __pseudoprivate attribute. However, because the names are mangled, they do not clash with each other. If you try to access __pseudoprivate directly on an instance of MySubclass, it will raise an AttributeError, but you can still access it using the mangled name _MyClass__pseudoprivate."
   ]
  },
  {
   "cell_type": "code",
   "execution_count": null,
   "id": "a76b7c0a",
   "metadata": {},
   "outputs": [],
   "source": []
  }
 ],
 "metadata": {
  "kernelspec": {
   "display_name": "Python 3 (ipykernel)",
   "language": "python",
   "name": "python3"
  },
  "language_info": {
   "codemirror_mode": {
    "name": "ipython",
    "version": 3
   },
   "file_extension": ".py",
   "mimetype": "text/x-python",
   "name": "python",
   "nbconvert_exporter": "python",
   "pygments_lexer": "ipython3",
   "version": "3.9.13"
  }
 },
 "nbformat": 4,
 "nbformat_minor": 5
}
