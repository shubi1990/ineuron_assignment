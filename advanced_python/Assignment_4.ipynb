{
 "cells": [
  {
   "cell_type": "markdown",
   "id": "fe3129be",
   "metadata": {},
   "source": [
    "### Q1. Which two operator overloading methods can you use in your classes to support iteration?"
   ]
  },
  {
   "cell_type": "markdown",
   "id": "528e3ab1",
   "metadata": {},
   "source": [
    "To support iteration in a class, you can use the following two operator overloading methods:\n",
    "\n",
    "1. `__iter__`: This method returns an iterator object that defines the __next__ method. It is called when an iterable is used in a for loop or any other iterable context.\n",
    "2.` __next__`: This method returns the next value from the iterator, or raises the StopIteration exception if there are no more values to return. It is called by the iterator object returned by the __iter__ method.\n",
    "\n",
    "Together, these two methods allow you to define custom iteration behavior for your class. By defining an __iter__ method that returns an iterator object, and an __next__ method that defines the iteration logic, you can make your class iterable in a for loop or other iterable context."
   ]
  },
  {
   "cell_type": "markdown",
   "id": "53eafe1c",
   "metadata": {},
   "source": [
    "### Q2. In what contexts do the two operator overloading methods manage printing?"
   ]
  },
  {
   "cell_type": "markdown",
   "id": "e27cbff9",
   "metadata": {},
   "source": [
    "The two operator overloading methods that manage printing in a class are:\n",
    "\n",
    "1. `__str__`: This method is called by the str() built-in function and by the print() function to get a string representation of an object. It should return a string that represents the object in a human-readable format.\n",
    "\n",
    "2. `__repr__`: This method is called by the repr() built-in function to get a string representation of an object that can be used to recreate the object. It should return a string that represents the object in a machine-readable format.\n",
    "\n",
    "The `__str__` method is used in contexts where a human-readable representation of an object is needed, such as when printing an object or converting it to a string. The `__repr__` method is used in contexts where a machine-readable representation of an object is needed, such as when debugging or when creating a new object based on the string representation.\n",
    "\n",
    "Together, these two methods allow you to define custom string representations for your objects, making them more understandable and useful in different contexts.\n",
    "\n",
    "Here's an example that demonstrates the use of `__str__` and `__repr__` methods to manage printing in a class:"
   ]
  },
  {
   "cell_type": "code",
   "execution_count": 1,
   "id": "2c136e3d",
   "metadata": {},
   "outputs": [
    {
     "name": "stdout",
     "output_type": "stream",
     "text": [
      "Alice (30)\n",
      "Alice (30)\n",
      "Person('Alice', 30)\n",
      "Alice (30)\n"
     ]
    }
   ],
   "source": [
    "class Person:\n",
    "    def __init__(self, name, age):\n",
    "        self.name = name\n",
    "        self.age = age\n",
    "\n",
    "    def __str__(self):\n",
    "        return f\"{self.name} ({self.age})\"\n",
    "\n",
    "    def __repr__(self):\n",
    "        return f\"Person('{self.name}', {self.age})\"\n",
    "\n",
    "person = Person(\"Alice\", 30)\n",
    "\n",
    "# Calling str() or print() on the object uses the __str__ method:\n",
    "print(str(person))     \n",
    "print(person)          \n",
    "\n",
    "# Calling repr() on the object uses the __repr__ method:\n",
    "print(repr(person))    \n",
    "\n",
    "# You can recreate the object using eval():\n",
    "new_person = eval(repr(person))\n",
    "print(new_person)      "
   ]
  },
  {
   "cell_type": "markdown",
   "id": "58ef5d1a",
   "metadata": {},
   "source": [
    "### Q3. In a class, how do you intercept slice operations?"
   ]
  },
  {
   "cell_type": "markdown",
   "id": "7e73417f",
   "metadata": {},
   "source": [
    "In Python, you can intercept slice operations in a class by defining the __getitem__ method. This method is called when the instance of the class is accessed using square bracket notation, and it allows you to customize the behavior of slice operations.\n",
    "\n",
    "Here is an example:"
   ]
  },
  {
   "cell_type": "code",
   "execution_count": 2,
   "id": "186d4fba",
   "metadata": {},
   "outputs": [
    {
     "name": "stdout",
     "output_type": "stream",
     "text": [
      "[2, 3, 4]\n"
     ]
    }
   ],
   "source": [
    "class MyClass:\n",
    "    def __init__(self, data):\n",
    "        self.data = data\n",
    "\n",
    "    def __getitem__(self, slice_obj):\n",
    "       \n",
    "        if isinstance(slice_obj, slice):\n",
    "            # Perform custom slice operation on self.data\n",
    "            return self.data[slice_obj.start:slice_obj.stop:slice_obj.step]\n",
    "        else:\n",
    "            # If slice_obj is not a slice object, return a single item\n",
    "            return self.data[slice_obj]\n",
    "my_obj = MyClass([1, 2, 3, 4, 5])\n",
    "print(my_obj[1:4])  "
   ]
  },
  {
   "cell_type": "markdown",
   "id": "2f8fdadc",
   "metadata": {},
   "source": [
    "In this example, MyClass has a __getitem__ method that checks if the argument is a slice object. If it is a slice object, the method performs a custom slice operation on self.data. If it is not a slice object, the method returns a single item from self.data.,then we can  use instances of MyClass with slice notation. \n",
    "\n",
    "In this example, my_obj[1:4] returns a slice of self.data from index 1 to index 4. The __getitem__ method intercepts this slice operation and returns the custom slice."
   ]
  },
  {
   "cell_type": "markdown",
   "id": "2906a6f4",
   "metadata": {},
   "source": [
    "### Q4. In a class, how do you capture in-place addition?"
   ]
  },
  {
   "cell_type": "markdown",
   "id": "54395923",
   "metadata": {},
   "source": [
    "In-place addition is a common operation in programming where the value of a variable is updated by adding another value to it. In order to capture in-place addition in a class, you can define a method that overloads the \"+=\" operator.\n",
    "\n",
    "Here is an example in Python:"
   ]
  },
  {
   "cell_type": "code",
   "execution_count": 3,
   "id": "97ff55a4",
   "metadata": {},
   "outputs": [
    {
     "name": "stdout",
     "output_type": "stream",
     "text": [
      "15\n"
     ]
    }
   ],
   "source": [
    "class MyClass:\n",
    "    def __init__(self, value):\n",
    "        self.value = value\n",
    "    \n",
    "    def __iadd__(self, other):\n",
    "        self.value += other\n",
    "        return self\n",
    "    \n",
    "x = MyClass(10)\n",
    "x += 5\n",
    "print(x.value)"
   ]
  },
  {
   "cell_type": "markdown",
   "id": "4b19a612",
   "metadata": {},
   "source": [
    "In this example, the MyClass class has an `__iadd__` method that updates the value of the object's value attribute by adding the value of other. The method then returns self so that the updated object can be used in further calculations.\n",
    "\n",
    "The += operator in Python is called the \"in-place addition\" operator because it updates the value of the left operand in place. By overloading the `__iadd__` method, you can customize the behavior of this operator for your class."
   ]
  },
  {
   "cell_type": "markdown",
   "id": "b96d0237",
   "metadata": {},
   "source": [
    "### Q5. When is it appropriate to use operator overloading?"
   ]
  },
  {
   "cell_type": "markdown",
   "id": "7d17e820",
   "metadata": {},
   "source": [
    "Operator overloading is appropriate to use when the operator has a well-defined mathematical meaning for the class, makes the code more readable, is used frequently in your code, behaves consistently with the built-in types, and does not lead to confusion or unexpected behavior."
   ]
  },
  {
   "cell_type": "code",
   "execution_count": null,
   "id": "ad27427a",
   "metadata": {},
   "outputs": [],
   "source": []
  }
 ],
 "metadata": {
  "kernelspec": {
   "display_name": "Python 3 (ipykernel)",
   "language": "python",
   "name": "python3"
  },
  "language_info": {
   "codemirror_mode": {
    "name": "ipython",
    "version": 3
   },
   "file_extension": ".py",
   "mimetype": "text/x-python",
   "name": "python",
   "nbconvert_exporter": "python",
   "pygments_lexer": "ipython3",
   "version": "3.9.13"
  }
 },
 "nbformat": 4,
 "nbformat_minor": 5
}
