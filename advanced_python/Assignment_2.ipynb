{
 "cells": [
  {
   "cell_type": "markdown",
   "id": "064d647c",
   "metadata": {},
   "source": [
    "### Q1. What is the relationship between classes and modules?"
   ]
  },
  {
   "cell_type": "markdown",
   "id": "34f68070",
   "metadata": {},
   "source": [
    "The relationship between classes and modules:\n",
    "- Both classes and modules are used to organize code.\n",
    "- A class is a blueprint for creating objects with properties and behavior.\n",
    "- A module is a container for related functions, variables, and classes.\n",
    "- Classes are used to define objects and their behavior, while modules are used to organize and share code across an application.\n",
    "- Classes can have instances with their own unique state, while modules cannot be instantiated.\n",
    "- Modules can be used to avoid naming collisions and provide a way to control visibility and access to functions and variables."
   ]
  },
  {
   "cell_type": "markdown",
   "id": "05a3ca58",
   "metadata": {},
   "source": [
    "### Q2. How do you make instances and classes?"
   ]
  },
  {
   "cell_type": "markdown",
   "id": "ff48e2df",
   "metadata": {},
   "source": [
    "To make instances and classes in an object-oriented programming language, you typically follow these steps:\n",
    "\n",
    "1. Define a class: First, you need to define a class by specifying its name and its properties (attributes) and behavior (methods). For example, in Python, you can define a class using the class keyword:\n",
    "\n",
    "class Person:\n",
    "\n",
    "    def __init__(self, name, age):\n",
    "        self.name = name\n",
    "        self.age = age\n",
    "\n",
    "    def say_hello(self):\n",
    "        print(f\"Hello, my name is {self.name} and I'm {self.age} years old.\")\n",
    "        \n",
    "        \n",
    "This defines a 'Person' class with two attributes 'name and age' and a 'say_hello' method.\n",
    "\n",
    "2. Create an instance: Once you have defined a class, you can create instances of that class. To do this, you use the class name followed by parentheses, optionally passing any arguments required by the class's __init__ method:\n",
    "\n",
    "person1 = Person(\"Alice\", 30)\n",
    "person2 = Person(\"Bob\", 25)\n",
    "\n",
    "This creates two instances of the 'Person' class with different values for the 'name' and 'age' attributes."
   ]
  },
  {
   "cell_type": "markdown",
   "id": "a3c6c2ab",
   "metadata": {},
   "source": [
    "### Q3. Where and how should be class attributes created?"
   ]
  },
  {
   "cell_type": "markdown",
   "id": "504acfae",
   "metadata": {},
   "source": [
    "Class attributes are variables that are shared among all instances of a class. They are defined inside the class but outside of any methods, and are accessed using the class name, rather than an instance of the class.\n",
    "\n",
    "class Car:\n",
    "\n",
    "    # Class attribute\n",
    "    wheels = 4\n",
    "    \n",
    "    def __init__(self, make, model):\n",
    "        self.make = make\n",
    "        self.model = model\n",
    "\n",
    "car1 = Car(\"Honda\", \"Civic\")\n",
    "\n",
    "In this example, the wheels attribute is defined as a class attribute and is shared among all instances of the Car class. We can access and modify the wheels attribute using the class name or an instance of the class. "
   ]
  },
  {
   "cell_type": "markdown",
   "id": "69a4b7be",
   "metadata": {},
   "source": [
    "### Q4. Where and how are instance attributes created?"
   ]
  },
  {
   "cell_type": "markdown",
   "id": "7ba4e6cd",
   "metadata": {},
   "source": [
    "Instance attributes are variables that belong to an instance of a class, rather than to the class itself. They are created inside the class's __init__ method, which is called when a new instance of the class is created.\n",
    "\n",
    "class Rectangle:\n",
    "    def __init__(self, width, height):\n",
    "        self.width = width\n",
    "        self.height = height\n",
    "    \n",
    "    def area(self):\n",
    "        return self.width * self.height\n",
    "\n",
    "rect1 = Rectangle(5, 10)\n",
    "\n",
    "rect2 = Rectangle(3, 7)\n",
    "\n",
    "\n",
    "print(rect1.width)   \n",
    "print(rect2.height)  \n",
    "\n",
    "print(rect1.area())  \n",
    "print(rect2.area()) \n",
    "\n",
    "In this example, we define a Rectangle class with two instance attributes (width and height) inside the __init__ method. We also define an instance method area which calculates the area of the rectangle based on its width and height.\n",
    "\n",
    "We then create two instances of the Rectangle class (rect1 and rect2) with different width and height values. We can access these instance attributes using dot notation (e.g. rect1.width) and use them to call instance methods such as area.\n",
    "\n",
    "\n",
    "\n",
    "\n",
    "\n"
   ]
  },
  {
   "cell_type": "markdown",
   "id": "57e95d0c",
   "metadata": {},
   "source": [
    "### Q5. What does the term &quot;self&quot; in a Python class mean?"
   ]
  },
  {
   "cell_type": "markdown",
   "id": "5a6f49e7",
   "metadata": {},
   "source": [
    "In Python, self is a reference to the instance of a class. It is used as the first parameter to instance methods in a class definition. When an instance method is called on an instance of the class, the self parameter is automatically populated with a reference to that instance."
   ]
  },
  {
   "cell_type": "markdown",
   "id": "3e7d626e",
   "metadata": {},
   "source": [
    "### Q6. How does a Python class handle operator overloading?"
   ]
  },
  {
   "cell_type": "markdown",
   "id": "68209e65",
   "metadata": {},
   "source": [
    "Python classes handle operator overloading by defining special methods with names starting and ending with double underscores (__). These methods allow us to define how operators such as +, -, *, /, and so on behave with instances of our own classes. By defining these methods, we can customize the behavior of operators for our own classes.\n",
    "Example:\n",
    "\n",
    "class Person:\n",
    "\n",
    "    def __init__(self, name, age):\n",
    "        self.name = name\n",
    "        self.age = age\n",
    "        \n",
    "    def __eq__(self, other):\n",
    "        return self.name == other.name and self.age == other.age\n",
    "\n",
    "```p1 = Person(\"John\", 30)\n",
    "p2 = Person(\"Jane\", 25)\n",
    "p3 = Person(\"John\", 30)```\n",
    "\n",
    "```print(p1 == p2) \n",
    "print(p1 == p3)```  \n",
    "\n",
    "In this example, we define a Person class with an __eq__ method that overloads the == operator for instances of the class. The method compares the name and age attributes of the two instances and returns True if they are equal, and False otherwise. When we create three instances of the Person class (p1, p2, and p3) and compare them using the == operator, Python automatically calls the __eq__ method with p1 as self and p2 and p3 as other. We get False when we compare p1 and p2 because their name and age attributes are not equal, but we get True when we compare p1 and p3 because their name and age attributes are equal."
   ]
  },
  {
   "cell_type": "markdown",
   "id": "e959dcc9",
   "metadata": {},
   "source": [
    "### Q7. When do you consider allowing operator overloading of your classes?"
   ]
  },
  {
   "cell_type": "markdown",
   "id": "b9d67864",
   "metadata": {},
   "source": [
    "Whenever we want to have different meaning for the same operator accroding to the context we use operator overloading."
   ]
  },
  {
   "cell_type": "markdown",
   "id": "01bd3d0f",
   "metadata": {},
   "source": [
    "### Q8. What is the most popular form of operator overloading?"
   ]
  },
  {
   "cell_type": "markdown",
   "id": "ecafd49f",
   "metadata": {},
   "source": [
    "The most popular form of operator overloading in Python is probably the __add__ method, which allows us to overload the + operator for instances of our own classes. This is because adding two objects together is a common operation, and it is useful to be able to define what it means to add two instances of a custom class together. However, other operators such as -, *, /, %, **, ==, !=, <, >, <=, >=, and so on can also be overloaded using special methods with names starting and ending with double underscores (__)."
   ]
  },
  {
   "cell_type": "markdown",
   "id": "a8df6158",
   "metadata": {},
   "source": [
    "### Q9. What are the two most important concepts to grasp in order to comprehend Python OOP code?"
   ]
  },
  {
   "cell_type": "markdown",
   "id": "8caf6069",
   "metadata": {},
   "source": [
    "The two most important concepts to grasp in order to comprehend Python OOP code are:\n",
    "\n",
    "1. Classes: A class is a blueprint for creating objects. It defines a set of attributes and methods that the objects of the class will have. Understanding how to define and use classes is crucial for writing Python OOP code.\n",
    "\n",
    "2. Objects: An object is an instance of a class. It has its own unique state (i.e., values for its attributes) and behavior (i.e., methods that it can perform). Understanding how to create and work with objects of a class is also essential for writing Python OOP code."
   ]
  },
  {
   "cell_type": "code",
   "execution_count": null,
   "id": "20d978e9",
   "metadata": {},
   "outputs": [],
   "source": []
  }
 ],
 "metadata": {
  "kernelspec": {
   "display_name": "Python 3 (ipykernel)",
   "language": "python",
   "name": "python3"
  },
  "language_info": {
   "codemirror_mode": {
    "name": "ipython",
    "version": 3
   },
   "file_extension": ".py",
   "mimetype": "text/x-python",
   "name": "python",
   "nbconvert_exporter": "python",
   "pygments_lexer": "ipython3",
   "version": "3.9.13"
  }
 },
 "nbformat": 4,
 "nbformat_minor": 5
}
