{
 "cells": [
  {
   "cell_type": "markdown",
   "id": "4445dacc",
   "metadata": {},
   "source": [
    "## Q1. What are the two latest user-defined exception constraints in Python 3.X?"
   ]
  },
  {
   "cell_type": "markdown",
   "id": "9725d97c",
   "metadata": {},
   "source": [
    "The two latest user-defined exception constraints in Python 3.x are:\n",
    "\n",
    "1. PEP 3134: New raise statement.\n",
    "2. PEP 409: Suppressing exception context."
   ]
  },
  {
   "cell_type": "markdown",
   "id": "1dfc36e4",
   "metadata": {},
   "source": [
    "## Q2. How are class-based exceptions that have been raised matched to handlers?"
   ]
  },
  {
   "cell_type": "markdown",
   "id": "b8280839",
   "metadata": {},
   "source": [
    "When a class-based exception is raised, it is matched to handlers based on the exception hierarchy. Here's a small example to illustrate how class-based exceptions are matched to handlers:"
   ]
  },
  {
   "cell_type": "code",
   "execution_count": 1,
   "id": "1c9b191c",
   "metadata": {},
   "outputs": [
    {
     "name": "stdout",
     "output_type": "stream",
     "text": [
      "CustomException handler\n"
     ]
    }
   ],
   "source": [
    "class CustomException(Exception):\n",
    "    pass\n",
    "\n",
    "class SpecificException(CustomException):\n",
    "    pass\n",
    "\n",
    "try:\n",
    "    raise SpecificException(\"An error occurred\")\n",
    "except CustomException:\n",
    "    print(\"CustomException handler\")\n",
    "except Exception:\n",
    "    print(\"Exception handler\")"
   ]
  },
  {
   "cell_type": "markdown",
   "id": "07d824fb",
   "metadata": {},
   "source": [
    "In this example, we have defined a custom exception hierarchy with a base class CustomException and a subclass SpecificException.\n",
    "\n",
    "When the SpecificException is raised within the try block, Python searches for a suitable handler. It checks the except clauses sequentially.\n",
    "\n",
    "In this case, the except CustomException clause matches the raised exception since SpecificException is a subclass of CustomException. Therefore, the code within the corresponding except block is executed, and the output will be \"CustomException handler\"."
   ]
  },
  {
   "cell_type": "markdown",
   "id": "11366eef",
   "metadata": {},
   "source": [
    "If the order of the except clauses were reversed, with except Exception before except CustomException, the output would be \"Exception handler\"."
   ]
  },
  {
   "cell_type": "markdown",
   "id": "a93d40bf",
   "metadata": {},
   "source": [
    "This demonstrates how class-based exceptions are matched to handlers based on the exception hierarchy and the order of the except clauses."
   ]
  },
  {
   "cell_type": "markdown",
   "id": "08490707",
   "metadata": {},
   "source": [
    "## Q3. Describe two methods for attaching context information to exception artefacts."
   ]
  },
  {
   "cell_type": "markdown",
   "id": "972351c6",
   "metadata": {},
   "source": [
    "Certainly! Here are two additional methods for attaching context information to exception artifacts:\n",
    "\n",
    "1. Exception with Context:\n",
    "The with_traceback() method allows you to attach context information to an exception by providing a traceback object. You can create a traceback object using the traceback module and associate it with an exception using the with_traceback() method. This method is useful when you have detailed traceback information that you want to include with the exception.\n",
    "\n",
    "Example:"
   ]
  },
  {
   "cell_type": "code",
   "execution_count": null,
   "id": "b5ac74a3",
   "metadata": {},
   "outputs": [],
   "source": [
    "import traceback\n",
    "\n",
    "try:\n",
    "    # Code that may raise an exception\n",
    "except ValueError as ve:\n",
    "    tb = traceback.extract_tb(ve.__traceback__)\n",
    "    new_exception = Exception(\"An error occurred\").with_traceback(tb)\n",
    "    raise new_exception\n"
   ]
  },
  {
   "cell_type": "markdown",
   "id": "254c6a6c",
   "metadata": {},
   "source": [
    "2. Error Context Manager:\n",
    "You can create a custom error context manager to wrap the code that may raise an exception. The context manager can capture relevant context information before and after the execution of the code. It can store this information within the exception object or handle it separately for later analysis.\n",
    "\n",
    "Example:"
   ]
  },
  {
   "cell_type": "code",
   "execution_count": null,
   "id": "c9dafed6",
   "metadata": {},
   "outputs": [],
   "source": [
    "class ErrorContextManager:\n",
    "    def __enter__(self):\n",
    "        # Set up context information\n",
    "        self.context_info = \"Additional context information\"\n",
    "\n",
    "    def __exit__(self, exc_type, exc_value, traceback):\n",
    "        # Clean up resources or handle context information\n",
    "        pass\n",
    "\n",
    "with ErrorContextManager():\n",
    "    # Code that may raise an exception\n"
   ]
  },
  {
   "cell_type": "markdown",
   "id": "24c0c19a",
   "metadata": {},
   "source": [
    "By using exception chaining, custom exception attributes, exception with context, or error context managers, you can attach valuable context information to exception artifacts, enabling better error understanding and debugging.\n",
    "\n",
    "\n",
    "\n",
    "\n"
   ]
  },
  {
   "cell_type": "markdown",
   "id": "19e777fa",
   "metadata": {},
   "source": [
    "## Q4. Describe two methods for specifying the text of an exception object&#39;s error message."
   ]
  },
  {
   "cell_type": "markdown",
   "id": "54c39c74",
   "metadata": {},
   "source": [
    "raise and assert are two methods for specifying the text of an exception object's error message.raise statement is used to trigger explicit exception, if certain condition is not as per requirement of programmer. it helps in triggering exception as per need of programmer and logic.\n",
    "\n",
    "There are few assertions that programmer always want to be True to avoid code failure. This type of requirment is fullfilled by assert statement. This statement takes a Boolean Condition output of which if True, further program executes. if output of assert statement is False it raises an Assertion Error."
   ]
  },
  {
   "cell_type": "markdown",
   "id": "0e149580",
   "metadata": {},
   "source": [
    "## Q5. Why do you no longer use string-based exceptions?"
   ]
  },
  {
   "cell_type": "markdown",
   "id": "3fb5ea85",
   "metadata": {},
   "source": [
    " By using specific exception types rather than string-based exceptions promotes more robust, maintainable, and localized error handling in software development."
   ]
  },
  {
   "cell_type": "code",
   "execution_count": null,
   "id": "e276c04c",
   "metadata": {},
   "outputs": [],
   "source": []
  }
 ],
 "metadata": {
  "kernelspec": {
   "display_name": "Python 3 (ipykernel)",
   "language": "python",
   "name": "python3"
  },
  "language_info": {
   "codemirror_mode": {
    "name": "ipython",
    "version": 3
   },
   "file_extension": ".py",
   "mimetype": "text/x-python",
   "name": "python",
   "nbconvert_exporter": "python",
   "pygments_lexer": "ipython3",
   "version": "3.9.13"
  }
 },
 "nbformat": 4,
 "nbformat_minor": 5
}
