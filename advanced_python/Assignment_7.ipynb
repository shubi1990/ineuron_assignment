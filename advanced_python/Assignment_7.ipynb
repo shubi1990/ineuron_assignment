{
 "cells": [
  {
   "cell_type": "markdown",
   "id": "918ee25a",
   "metadata": {},
   "source": [
    "## Q1. What is the purpose of the try statement?\n"
   ]
  },
  {
   "cell_type": "markdown",
   "id": "fd1dd80d",
   "metadata": {},
   "source": [
    "The purpose of the try statement is to enclose a block of code that might potentially throw an exception. It allows you to handle potential errors or exceptions that may occur during the execution of the code. By using a try statement, you can specify how the program should respond when an exception is thrown, such as providing alternative instructions, logging an error message, or gracefully terminating the program."
   ]
  },
  {
   "cell_type": "code",
   "execution_count": 1,
   "id": "805db764",
   "metadata": {},
   "outputs": [
    {
     "name": "stdout",
     "output_type": "stream",
     "text": [
      "Division by Zero is Not Possible\n"
     ]
    }
   ],
   "source": [
    "try:\n",
    "    print(10/0)\n",
    "except ZeroDivisionError:\n",
    "    print('Division by Zero is Not Possible')"
   ]
  },
  {
   "cell_type": "markdown",
   "id": "f14e4e03",
   "metadata": {},
   "source": [
    "## Q2. What are the two most popular try statement variations?"
   ]
  },
  {
   "cell_type": "markdown",
   "id": "daed9e8e",
   "metadata": {},
   "source": [
    "1. try-catch: Handles specific types of exceptions that may occur within the try block.\n",
    "2. try-finally: Executes certain code regardless of whether an exception occurs or not."
   ]
  },
  {
   "cell_type": "markdown",
   "id": "d1f3d32c",
   "metadata": {},
   "source": [
    "## Q3. What is the purpose of the raise statement?"
   ]
  },
  {
   "cell_type": "markdown",
   "id": "1bf6d3c5",
   "metadata": {},
   "source": [
    "The purpose of the raise statement is to manually raise an exception in a program. It allows you to explicitly trigger and raise exceptions based on certain conditions or situations that you define. By using the raise statement, you can interrupt the normal flow of execution and indicate that an exceptional circumstance has occurred. This can be useful for handling specific error conditions or implementing custom error handling logic in your code."
   ]
  },
  {
   "cell_type": "markdown",
   "id": "9c45aa28",
   "metadata": {},
   "source": [
    "## Q4. What does the assert statement do, and what other statement is it like?"
   ]
  },
  {
   "cell_type": "markdown",
   "id": "08c387a1",
   "metadata": {},
   "source": [
    "The assert statement is used for debugging and error checking purposes in a program. It evaluates a condition and, if the condition is false, raises an AssertionError exception. It is primarily used to assert that certain conditions are true at specific points in the code.\n",
    "\n",
    "The assert statement is similar to the if statement but is specifically designed for checking conditions that should always be true during program execution. While if statements are used for conditional branching and can handle various scenarios, assert statements are typically used to validate assumptions and catch programming errors during development.\n",
    "\n",
    "Example usage of the assert statement:"
   ]
  },
  {
   "cell_type": "code",
   "execution_count": 4,
   "id": "9b1f02a2",
   "metadata": {},
   "outputs": [
    {
     "ename": "AssertionError",
     "evalue": "Error: Division by zero",
     "output_type": "error",
     "traceback": [
      "\u001b[1;31m---------------------------------------------------------------------------\u001b[0m",
      "\u001b[1;31mAssertionError\u001b[0m                            Traceback (most recent call last)",
      "\u001b[1;32m~\\AppData\\Local\\Temp\\ipykernel_10980\\3662937300.py\u001b[0m in \u001b[0;36m<module>\u001b[1;34m\u001b[0m\n\u001b[0;32m      1\u001b[0m \u001b[0mx\u001b[0m \u001b[1;33m=\u001b[0m \u001b[1;36m10\u001b[0m\u001b[1;33m\u001b[0m\u001b[1;33m\u001b[0m\u001b[0m\n\u001b[0;32m      2\u001b[0m \u001b[0my\u001b[0m \u001b[1;33m=\u001b[0m \u001b[1;36m0\u001b[0m\u001b[1;33m\u001b[0m\u001b[1;33m\u001b[0m\u001b[0m\n\u001b[1;32m----> 3\u001b[1;33m \u001b[1;32massert\u001b[0m \u001b[0my\u001b[0m \u001b[1;33m!=\u001b[0m \u001b[1;36m0\u001b[0m\u001b[1;33m,\u001b[0m \u001b[1;34m\"Error: Division by zero\"\u001b[0m\u001b[1;33m\u001b[0m\u001b[1;33m\u001b[0m\u001b[0m\n\u001b[0m\u001b[0;32m      4\u001b[0m \u001b[0mresult\u001b[0m \u001b[1;33m=\u001b[0m \u001b[0mx\u001b[0m \u001b[1;33m/\u001b[0m \u001b[0my\u001b[0m\u001b[1;33m\u001b[0m\u001b[1;33m\u001b[0m\u001b[0m\n\u001b[0;32m      5\u001b[0m \u001b[0mprint\u001b[0m\u001b[1;33m(\u001b[0m\u001b[1;34m\"Result:\"\u001b[0m\u001b[1;33m,\u001b[0m \u001b[0mresult\u001b[0m\u001b[1;33m)\u001b[0m\u001b[1;33m\u001b[0m\u001b[1;33m\u001b[0m\u001b[0m\n",
      "\u001b[1;31mAssertionError\u001b[0m: Error: Division by zero"
     ]
    }
   ],
   "source": [
    "x = 10\n",
    "y = 0\n",
    "assert y != 0, \"Error: Division by zero\"\n",
    "result = x / y\n",
    "print(\"Result:\", result)\n"
   ]
  },
  {
   "cell_type": "markdown",
   "id": "b5c6921e",
   "metadata": {},
   "source": [
    "In this example, the assert statement checks if y is not equal to zero. If the condition is false, an AssertionError exception is raised, and the corresponding error message is displayed. If the condition is true, the program continues executing the subsequent code."
   ]
  },
  {
   "cell_type": "markdown",
   "id": "20b4e508",
   "metadata": {},
   "source": [
    "## Q5. What is the purpose of the with/as argument, and what other statement is it like?"
   ]
  },
  {
   "cell_type": "markdown",
   "id": "535a1a8a",
   "metadata": {},
   "source": [
    "The with/as statement is used for resource management in Python. It provides a convenient way to handle the acquisition and release of resources, such as files or network connections, in a clean and efficient manner. The with statement ensures that the resource is properly initialized and automatically cleaned up after its usage, even if exceptions occur within the block.\n",
    "\n",
    "The with/as statement is similar to the try/finally statement, as both are used for resource management. However, the with/as statement provides a more concise and readable syntax, specifically designed for managing resources, while the try/finally statement is a more general construct for exception handling and cleanup operations.\n"
   ]
  },
  {
   "cell_type": "code",
   "execution_count": null,
   "id": "015b078f",
   "metadata": {},
   "outputs": [],
   "source": []
  }
 ],
 "metadata": {
  "kernelspec": {
   "display_name": "Python 3 (ipykernel)",
   "language": "python",
   "name": "python3"
  },
  "language_info": {
   "codemirror_mode": {
    "name": "ipython",
    "version": 3
   },
   "file_extension": ".py",
   "mimetype": "text/x-python",
   "name": "python",
   "nbconvert_exporter": "python",
   "pygments_lexer": "ipython3",
   "version": "3.9.13"
  }
 },
 "nbformat": 4,
 "nbformat_minor": 5
}
