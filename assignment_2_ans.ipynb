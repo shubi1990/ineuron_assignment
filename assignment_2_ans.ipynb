{
 "cells": [
  {
   "cell_type": "markdown",
   "id": "0a2591d5",
   "metadata": {},
   "source": [
    "**ans_1-** the two values of Boolean dat type are True and False. we write them by using capital letters T and F with the rest of the words in lowercase."
   ]
  },
  {
   "cell_type": "markdown",
   "id": "2c5771b0",
   "metadata": {},
   "source": [
    "**ans_2-** Boolean operators are - and , or, not"
   ]
  },
  {
   "cell_type": "markdown",
   "id": "51cd60e2",
   "metadata": {},
   "source": [
    "**ans_3-**\n",
    "       \n",
    "  **AND Table**\n",
    "\n",
    "| **value_1** | **value_2** | **result** |\n",
    "| :-------: | :------------:| :----------:\n",
    "| T | T | T |\n",
    "| T | F | F |\n",
    "| F | T | F |\n",
    "| F | F | F |\n",
    " \n",
    "  **OR Table**\n",
    " \n",
    "| **value_1** | **value_2** | **result** |\n",
    "| :-------: | :------------:| :----------:\n",
    "| T | T | T |\n",
    "| T | F | T |\n",
    "| F | T | T |\n",
    "| F | F | F |\n",
    "\n",
    "  **NOT Table**\n",
    "\n",
    "| x | x' |\n",
    "| :-------: | :------------:|\n",
    "| T | F |\n",
    "| F | T |\n",
    " "
   ]
  },
  {
   "cell_type": "markdown",
   "id": "488ab109",
   "metadata": {},
   "source": [
    "**ans_4-**\n",
    "\n",
    "False\n",
    "\n",
    "False\n",
    "\n",
    "True\n",
    "\n",
    "False\n",
    "\n",
    "False\n",
    "\n",
    "True"
   ]
  },
  {
   "cell_type": "markdown",
   "id": "95d50c3c",
   "metadata": {},
   "source": [
    "**ans_5-** \n",
    "\n",
    "1. (<)    less than\n",
    "2. (>)    greater than\n",
    "3. (<=)   less than or equal to\n",
    "4. (>=)   greater than or equal to\n",
    "5. (==)   equal to\n",
    "6. (!= )  not equal to"
   ]
  },
  {
   "cell_type": "markdown",
   "id": "320410f4",
   "metadata": {},
   "source": [
    "**ans_6-** Assignment operator is used for assigning the value to the variable and equal to operator is used for comparing two values and return values in the form of true and false.\n",
    "\n",
    "if i want to assigns 5 to a variable a then i will use assignment operator like a = 5\n",
    "\n",
    "if i want to check that variable a is equal to 5 or not then i will use equal to operator like a == 5"
   ]
  },
  {
   "cell_type": "markdown",
   "id": "47aef722",
   "metadata": {},
   "source": [
    "**ans_7-** \n",
    "\n",
    "1. if spam == 10: print('eggs)\n",
    "   \n",
    "2. if spam > 5:print('bacon')\n",
    "    \n",
    "3. else:\n",
    "    print('ham')\n",
    "    \n",
    "   "
   ]
  },
  {
   "cell_type": "markdown",
   "id": "999c18ef",
   "metadata": {},
   "source": [
    "**ans_8-**"
   ]
  },
  {
   "cell_type": "code",
   "execution_count": 13,
   "id": "6aae88b9",
   "metadata": {},
   "outputs": [
    {
     "name": "stdout",
     "output_type": "stream",
     "text": [
      "Hello\n"
     ]
    }
   ],
   "source": [
    "spam = 1\n",
    "if spam == 1:\n",
    "    print('Hello')\n",
    "elif spam == 2:\n",
    "    print('Howdy')\n",
    "else:\n",
    "    print('Greetings!')"
   ]
  },
  {
   "cell_type": "markdown",
   "id": "688758a2",
   "metadata": {},
   "source": [
    "**ans_9-** Ctrl+c"
   ]
  },
  {
   "cell_type": "markdown",
   "id": "5332a50d",
   "metadata": {},
   "source": [
    "**ans_10-** break terminates the execution of remaining iteration of the loop and continue terminates only the current iteration of the loop and resume the control of the program to the next iteration of the same loop"
   ]
  },
  {
   "cell_type": "markdown",
   "id": "6b028615",
   "metadata": {},
   "source": [
    "**ans_11-** in a for loop all of three gives us same output by printing 0 t0 9 in range(10) 10 is presenting upper bound and by default lower bound is 0 and step size is 1 same as range (0, 10, 1)"
   ]
  },
  {
   "cell_type": "markdown",
   "id": "bd750929",
   "metadata": {},
   "source": [
    "**ans_12-**"
   ]
  },
  {
   "cell_type": "code",
   "execution_count": 6,
   "id": "8813c7c8",
   "metadata": {},
   "outputs": [
    {
     "name": "stdout",
     "output_type": "stream",
     "text": [
      "1\n",
      "2\n",
      "3\n",
      "4\n",
      "5\n",
      "6\n",
      "7\n",
      "8\n",
      "9\n",
      "10\n"
     ]
    }
   ],
   "source": [
    "for i in range(1, 11):\n",
    "    print(i)\n",
    "    "
   ]
  },
  {
   "cell_type": "code",
   "execution_count": 12,
   "id": "29301570",
   "metadata": {},
   "outputs": [
    {
     "name": "stdout",
     "output_type": "stream",
     "text": [
      "1\n",
      "2\n",
      "3\n",
      "4\n",
      "5\n",
      "6\n",
      "7\n",
      "8\n",
      "9\n",
      "10\n"
     ]
    }
   ],
   "source": [
    "i = 1\n",
    "while i < 11:\n",
    "    print(i)\n",
    "    i = i +1"
   ]
  },
  {
   "cell_type": "markdown",
   "id": "8138138e",
   "metadata": {},
   "source": [
    "**ans_13-**  spam.bacon()"
   ]
  },
  {
   "cell_type": "code",
   "execution_count": null,
   "id": "e2d8236c",
   "metadata": {},
   "outputs": [],
   "source": []
  }
 ],
 "metadata": {
  "kernelspec": {
   "display_name": "Python 3",
   "language": "python",
   "name": "python3"
  },
  "language_info": {
   "codemirror_mode": {
    "name": "ipython",
    "version": 3
   },
   "file_extension": ".py",
   "mimetype": "text/x-python",
   "name": "python",
   "nbconvert_exporter": "python",
   "pygments_lexer": "ipython3",
   "version": "3.8.8"
  }
 },
 "nbformat": 4,
 "nbformat_minor": 5
}
