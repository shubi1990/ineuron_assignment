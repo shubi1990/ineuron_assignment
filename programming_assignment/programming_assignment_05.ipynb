{
 "cells": [
  {
   "cell_type": "markdown",
   "id": "481d0b4a",
   "metadata": {},
   "source": [
    "## 1. Write a Python Program to Find LCM?"
   ]
  },
  {
   "cell_type": "code",
   "execution_count": 3,
   "id": "7319b401",
   "metadata": {},
   "outputs": [
    {
     "name": "stdout",
     "output_type": "stream",
     "text": [
      "Enter first number = 4\n",
      "Enter second number = 10\n",
      "The L.C.M. of the given numbers =  20\n"
     ]
    }
   ],
   "source": [
    "def lcm(x, y):\n",
    "    if x > y:\n",
    "        greater = x\n",
    "    else:\n",
    "        greater = y\n",
    "    \n",
    "    while(True):\n",
    "        if ((greater % x == 0) and (greater % y == 0)):\n",
    "            lcm = greater\n",
    "            break\n",
    "        greater +=1\n",
    "    return lcm\n",
    "x = int(input(\"Enter first number = \"))\n",
    "y = int(input(\"Enter second number = \"))\n",
    "print(\"The L.C.M. of the given numbers = \", lcm(x, y))"
   ]
  },
  {
   "cell_type": "markdown",
   "id": "9ac86477",
   "metadata": {},
   "source": [
    "## 2. Write a Python Program to Find HCF?"
   ]
  },
  {
   "cell_type": "code",
   "execution_count": 4,
   "id": "32faec9c",
   "metadata": {},
   "outputs": [
    {
     "name": "stdout",
     "output_type": "stream",
     "text": [
      "Enter first number = 4\n",
      "Enter second number = 10\n",
      "The H.C.F. of the given numbers =  2\n"
     ]
    }
   ],
   "source": [
    "def hcf(x, y):\n",
    "    if x > y:\n",
    "        smaller = y\n",
    "    else:\n",
    "        smaller = x\n",
    "    for i in range(1, smaller + 1):\n",
    "        if((x % i ==0) and (y % i == 0)):\n",
    "            hcf = i\n",
    "    return hcf\n",
    "x = int(input(\"Enter first number = \"))\n",
    "y = int(input(\"Enter second number = \"))\n",
    "print(\"The H.C.F. of the given numbers = \", hcf(x, y))"
   ]
  },
  {
   "cell_type": "markdown",
   "id": "31e685b0",
   "metadata": {},
   "source": [
    "## 3. Write a Python Program to Convert Decimal to Binary, Octal and Hexadecimal?"
   ]
  },
  {
   "cell_type": "code",
   "execution_count": 7,
   "id": "7bb69912",
   "metadata": {},
   "outputs": [
    {
     "name": "stdout",
     "output_type": "stream",
     "text": [
      "Enter a number = 5\n",
      "Binary Number : 0b101\n",
      "Octal Number : 0o5\n",
      "Hexadecimal Number : 0x5\n"
     ]
    }
   ],
   "source": [
    "dec_num = int(input(\"Enter a number = \"))\n",
    "\n",
    "def dec_to_other(dec_num):\n",
    "    print(f'Binary Number : {bin(dec_num)}')\n",
    "    print(f'Octal Number : {oct(dec_num)}')\n",
    "    print(f'Hexadecimal Number : {hex(dec_num)}')\n",
    "    \n",
    "dec_to_other(dec_num)"
   ]
  },
  {
   "cell_type": "markdown",
   "id": "96a01826",
   "metadata": {},
   "source": [
    "## 4. Write a Python Program To Find ASCII value of a character?"
   ]
  },
  {
   "cell_type": "code",
   "execution_count": 11,
   "id": "0e803e3e",
   "metadata": {},
   "outputs": [
    {
     "name": "stdout",
     "output_type": "stream",
     "text": [
      "Enter a character = A\n",
      "The ASCII value of A is 65\n"
     ]
    }
   ],
   "source": [
    "char = input(\"Enter a character = \")\n",
    "print(\"The ASCII value of \" + char + \" is\", ord(char))"
   ]
  },
  {
   "cell_type": "markdown",
   "id": "e9a85893",
   "metadata": {},
   "source": [
    "## 5. Write a Python Program to Make a Simple Calculator with 4 basic mathematical operations?"
   ]
  },
  {
   "cell_type": "code",
   "execution_count": 18,
   "id": "5d1bf8be",
   "metadata": {},
   "outputs": [
    {
     "name": "stdout",
     "output_type": "stream",
     "text": [
      "Select an operator: *\n",
      "Enter first number = 10\n",
      "Enter second number = 20\n",
      "200\n"
     ]
    }
   ],
   "source": [
    "def calculator():\n",
    "  \n",
    "  operation = input(\"Select an operator: \")\n",
    "  \n",
    "  First_number = int(input(\"Enter first number = \"))\n",
    "  Second_number = int(input(\"Enter second number = \"))\n",
    "\n",
    "  if operation == '+': \n",
    "    print(First_number + Second_number)\n",
    "\n",
    "  elif operation == '-': \n",
    "    print(First_number - Second_number)\n",
    "\n",
    "  elif operation == '*':\n",
    "    print(First_number * Second_number)\n",
    "\n",
    "  elif operation == '/': \n",
    "    print(First_number / Second_number)\n",
    "\n",
    "  else:\n",
    "    print('Invalid Input')\n",
    "\n",
    "calculator()"
   ]
  },
  {
   "cell_type": "code",
   "execution_count": null,
   "id": "72dd702a",
   "metadata": {},
   "outputs": [],
   "source": []
  }
 ],
 "metadata": {
  "kernelspec": {
   "display_name": "Python 3 (ipykernel)",
   "language": "python",
   "name": "python3"
  },
  "language_info": {
   "codemirror_mode": {
    "name": "ipython",
    "version": 3
   },
   "file_extension": ".py",
   "mimetype": "text/x-python",
   "name": "python",
   "nbconvert_exporter": "python",
   "pygments_lexer": "ipython3",
   "version": "3.8.8"
  }
 },
 "nbformat": 4,
 "nbformat_minor": 5
}
