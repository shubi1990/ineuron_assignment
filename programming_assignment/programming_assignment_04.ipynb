{
 "cells": [
  {
   "cell_type": "markdown",
   "id": "3f4f1fe4",
   "metadata": {},
   "source": [
    "## 1. Write a Python Program to Find the Factorial of a Number?"
   ]
  },
  {
   "cell_type": "code",
   "execution_count": 2,
   "id": "07cf6938",
   "metadata": {},
   "outputs": [
    {
     "name": "stdout",
     "output_type": "stream",
     "text": [
      "Enter a number: 4\n",
      "The factorial of 4 is 24\n"
     ]
    }
   ],
   "source": [
    "num = int(input(\"Enter a number: \"))    \n",
    "fact = 1    \n",
    "if num < 0:    \n",
    "   print(\" Factorial does not exist for negative numbers\")    \n",
    "elif num == 0:    \n",
    "   print(\"The factorial of 0 is = 1\")    \n",
    "else:    \n",
    "   for i in range(1,num + 1):    \n",
    "       fact = fact*i    \n",
    "   print(\"The factorial of\",num,\"is\",fact)    "
   ]
  },
  {
   "cell_type": "markdown",
   "id": "8a57ee03",
   "metadata": {},
   "source": [
    "## 2. Write a Python Program to Display the multiplication Table?"
   ]
  },
  {
   "cell_type": "code",
   "execution_count": 6,
   "id": "2b59c2b7",
   "metadata": {},
   "outputs": [
    {
     "name": "stdout",
     "output_type": "stream",
     "text": [
      "Enter a number for multiplication table = 20\n",
      "20 * 1 = 20\n",
      "20 * 2 = 40\n",
      "20 * 3 = 60\n",
      "20 * 4 = 80\n",
      "20 * 5 = 100\n",
      "20 * 6 = 120\n",
      "20 * 7 = 140\n",
      "20 * 8 = 160\n",
      "20 * 9 = 180\n",
      "20 * 10 = 200\n"
     ]
    }
   ],
   "source": [
    "num = int(input(\"Enter a number for multiplication table = \"))\n",
    "for i in range(1, 11):\n",
    "    print(num,\"*\",i,\"=\",num*i)"
   ]
  },
  {
   "cell_type": "markdown",
   "id": "7f460cc1",
   "metadata": {},
   "source": [
    "## 3. Write a Python Program to Print the Fibonacci sequence?"
   ]
  },
  {
   "cell_type": "code",
   "execution_count": 8,
   "id": "e1a3994f",
   "metadata": {},
   "outputs": [
    {
     "name": "stdout",
     "output_type": "stream",
     "text": [
      "Enter the number : 5\n",
      "Fibonacci Series of the given number : \n",
      "0 1 1 2 3 "
     ]
    }
   ],
   "source": [
    "num = int(input(\"Enter the number : \"))\n",
    "a = 0\n",
    "b = 1\n",
    "i = 0\n",
    "count = 1\n",
    "print(\"Fibonacci Series of the given number : \")\n",
    "while(count <= num):\n",
    "  print(i, end = \" \")\n",
    "  count = count + 1\n",
    "  a = b\n",
    "  b = i\n",
    "  i = a + b"
   ]
  },
  {
   "cell_type": "markdown",
   "id": "ec2a3aff",
   "metadata": {},
   "source": [
    "## 4. Write a Python Program to Check Armstrong Number?"
   ]
  },
  {
   "cell_type": "code",
   "execution_count": 18,
   "id": "878f0ca7",
   "metadata": {},
   "outputs": [
    {
     "name": "stdout",
     "output_type": "stream",
     "text": [
      "Enter the number : 153\n",
      "153 is an Armstrong Number.\n"
     ]
    }
   ],
   "source": [
    "num = int(input(\"Enter the number : \"))\n",
    "\n",
    "sum = 0\n",
    "temp = num\n",
    "\n",
    "while temp > 0:\n",
    "    d = temp % 10\n",
    "    sum = sum + d**3\n",
    "    temp = temp // 10\n",
    "    \n",
    "if num == sum:\n",
    "    print(num,\"is an Armstrong Number.\")\n",
    "else:\n",
    "    print(num,\"is not an Armstrong Number\")"
   ]
  },
  {
   "cell_type": "markdown",
   "id": "8e3078f3",
   "metadata": {},
   "source": [
    "## 5. Write a Python Program to Find Armstrong Number in an Interval?"
   ]
  },
  {
   "cell_type": "code",
   "execution_count": 21,
   "id": "05a32783",
   "metadata": {},
   "outputs": [
    {
     "name": "stdout",
     "output_type": "stream",
     "text": [
      "Enter lower range of the interval : 10\n",
      "Enter higher range of the interval : 1000\n",
      "153\n",
      "370\n",
      "371\n",
      "407\n"
     ]
    }
   ],
   "source": [
    "lower_range = int(input(\"Enter lower range of the interval : \"))\n",
    "higher_range = int(input(\"Enter higher range of the interval : \"))\n",
    "\n",
    "for i in range (lower_range, higher_range + 1):\n",
    "    sum = 0\n",
    "    temp = i\n",
    "    while temp > 0 :\n",
    "        d = temp % 10\n",
    "        sum = sum + d**3\n",
    "        temp = temp // 10\n",
    "    \n",
    "    if i == sum :\n",
    "        print(i)\n",
    "    "
   ]
  },
  {
   "cell_type": "markdown",
   "id": "ac216bf1",
   "metadata": {},
   "source": [
    "## 6. Write a Python Program to Find the Sum of Natural Numbers?"
   ]
  },
  {
   "cell_type": "code",
   "execution_count": 22,
   "id": "34603cf0",
   "metadata": {},
   "outputs": [
    {
     "name": "stdout",
     "output_type": "stream",
     "text": [
      "Enter the number : 5\n",
      "Sum of the given number is =  15\n"
     ]
    }
   ],
   "source": [
    "num = int(input(\"Enter the number : \"))\n",
    "\n",
    "sum = 0\n",
    "while num > 0:\n",
    "    sum += num\n",
    "    num -= 1\n",
    "print(\"Sum of the given number is = \", sum)"
   ]
  },
  {
   "cell_type": "code",
   "execution_count": null,
   "id": "94f2d422",
   "metadata": {},
   "outputs": [],
   "source": []
  }
 ],
 "metadata": {
  "kernelspec": {
   "display_name": "Python 3 (ipykernel)",
   "language": "python",
   "name": "python3"
  },
  "language_info": {
   "codemirror_mode": {
    "name": "ipython",
    "version": 3
   },
   "file_extension": ".py",
   "mimetype": "text/x-python",
   "name": "python",
   "nbconvert_exporter": "python",
   "pygments_lexer": "ipython3",
   "version": "3.8.8"
  }
 },
 "nbformat": 4,
 "nbformat_minor": 5
}
