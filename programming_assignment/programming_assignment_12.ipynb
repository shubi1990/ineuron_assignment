{
 "cells": [
  {
   "cell_type": "markdown",
   "id": "f268fcae",
   "metadata": {},
   "source": [
    "## 1. Write a Python program to Extract Unique values dictionary values?"
   ]
  },
  {
   "cell_type": "code",
   "execution_count": 9,
   "id": "eb7a6ab9",
   "metadata": {},
   "outputs": [
    {
     "name": "stdout",
     "output_type": "stream",
     "text": [
      "Enter no of elements : 5\n",
      "Enter employee's name: A\n",
      "Enter employee's salary: 5000\n",
      "Enter employee's name: B\n",
      "Enter employee's salary: 10000\n",
      "Enter employee's name: C\n",
      "Enter employee's salary: 15000\n",
      "Enter employee's name: D\n",
      "Enter employee's salary: 5000\n",
      "Enter employee's name: E\n",
      "Enter employee's salary: 10000\n",
      "Employee Dictionary :  {'A': 5000, 'B': 10000, 'C': 15000, 'D': 5000, 'E': 10000}\n",
      "Unique dictionary values are :  [5000, 10000, 15000]\n"
     ]
    }
   ],
   "source": [
    "employees = {}\n",
    "n = int(input(\"Enter no of elements : \"))\n",
    "for i in range(n):\n",
    "    name = input(\"Enter employee's name: \")\n",
    "    salary = int(input(\"Enter employee's salary: \"))\n",
    "\n",
    "    employees[name] = salary\n",
    "print(\"Employee Dictionary : \", employees)\n",
    "unique_val = []\n",
    "for i in employees.values():\n",
    "    if i in unique_val:\n",
    "        continue\n",
    "    else:\n",
    "        unique_val.append(i)\n",
    "print(\"Unique dictionary values are : \", unique_val)"
   ]
  },
  {
   "cell_type": "markdown",
   "id": "a90ad466",
   "metadata": {},
   "source": [
    "## 2. Write a Python program to find the sum of all items in a dictionary?"
   ]
  },
  {
   "cell_type": "code",
   "execution_count": 10,
   "id": "6447b3c2",
   "metadata": {},
   "outputs": [
    {
     "name": "stdout",
     "output_type": "stream",
     "text": [
      "Sum of all items in a dictionary =  45000\n"
     ]
    }
   ],
   "source": [
    "sum = 0\n",
    "for i in employees.values():\n",
    "    sum+=i\n",
    "print(\"Sum of all items in a dictionary = \", sum)\n",
    "    "
   ]
  },
  {
   "cell_type": "markdown",
   "id": "03397d18",
   "metadata": {},
   "source": [
    "## 3. Write a Python program to Merging two Dictionaries?"
   ]
  },
  {
   "cell_type": "code",
   "execution_count": 11,
   "id": "5d2c8d5f",
   "metadata": {},
   "outputs": [
    {
     "name": "stdout",
     "output_type": "stream",
     "text": [
      "After merging two dictionaries :  {'A': 5000, 'B': 10000, 'C': 15000, 'D': 5000, 'E': 10000, 'F': 20000, 'G': 15000}\n"
     ]
    }
   ],
   "source": [
    "employees2 = {'F' : 20000, 'G' : 15000}\n",
    "new_employee = {**employees, **employees2}\n",
    "print(\"After merging two dictionaries : \",new_employee)"
   ]
  },
  {
   "cell_type": "markdown",
   "id": "dd8e56b0",
   "metadata": {},
   "source": [
    "## 4. Write a Python program to convert key-values list to flat dictionary?"
   ]
  },
  {
   "cell_type": "code",
   "execution_count": 18,
   "id": "dcd4c149",
   "metadata": {},
   "outputs": [
    {
     "name": "stdout",
     "output_type": "stream",
     "text": [
      "The actual dictionary :  {'name': ['A', 'B', 'C'], 'marks': [80, 70, 60]}\n",
      "Flat dictionary :  {'A': 80, 'B': 70, 'C': 60}\n"
     ]
    }
   ],
   "source": [
    "students = {'name': ['A', 'B', 'C'], 'marks': [80, 70, 60]}\n",
    "print(\"The actual dictionary : \", students)\n",
    "flat_dict = dict(zip(students['name'], students['marks']))\n",
    "print(\"Flat dictionary : \",flat_dict)"
   ]
  },
  {
   "cell_type": "markdown",
   "id": "1d1db833",
   "metadata": {},
   "source": [
    "## 5. Write a Python program to insertion at the beginning in OrderedDict?"
   ]
  },
  {
   "cell_type": "code",
   "execution_count": 20,
   "id": "a6766ded",
   "metadata": {},
   "outputs": [
    {
     "name": "stdout",
     "output_type": "stream",
     "text": [
      "The ordered dictionary is :  OrderedDict([('A', '5000'), ('B', '10000'), ('C', '15000')])\n",
      "The final dictionary is :  OrderedDict([('D', '20000'), ('A', '5000'), ('B', '10000'), ('C', '15000')])\n"
     ]
    }
   ],
   "source": [
    "from collections import OrderedDict\n",
    "\n",
    "emp = OrderedDict([('A', '5000'), ('B', '10000'), ('C', '15000')])\n",
    "print(\"The ordered dictionary is : \",emp)\n",
    "\n",
    "emp.update({'D':'20000'})\n",
    "emp.move_to_end('D', last = False)\n",
    "\n",
    "print(\"The final dictionary is : \", emp)\n"
   ]
  },
  {
   "cell_type": "markdown",
   "id": "12ca4dd1",
   "metadata": {},
   "source": [
    "## 6. Write a Python program to check order of character in string using OrderedDict()?"
   ]
  },
  {
   "cell_type": "code",
   "execution_count": 7,
   "id": "3bd5dbd2",
   "metadata": {},
   "outputs": [
    {
     "name": "stdout",
     "output_type": "stream",
     "text": [
      "The order of pattern is incorrect\n"
     ]
    }
   ],
   "source": [
    "from collections import OrderedDict \n",
    "string = 'hello world'\n",
    "char_order = 'hle'\n",
    "dict = OrderedDict.fromkeys(string) \n",
    "x = 0\n",
    "for key,value in dict.items(): \n",
    "    if (key == char_order[x]): \n",
    "        x = x + 1\n",
    "    if (x == (len(char_order))): \n",
    "        print(\"The order of pattern is correct\")\n",
    "print(\"The order of pattern is incorrect\")\n",
    "\n"
   ]
  },
  {
   "cell_type": "markdown",
   "id": "b719b64c",
   "metadata": {},
   "source": [
    "## 7. Write a Python program to sort Python Dictionaries by Key or Value?"
   ]
  },
  {
   "cell_type": "code",
   "execution_count": 16,
   "id": "f0101acd",
   "metadata": {},
   "outputs": [
    {
     "name": "stdout",
     "output_type": "stream",
     "text": [
      "The actual dictionary :  {'A': 5000, 'B': 10000, 'C': 15000, 'D': 5000, 'E': 10000, 'F': 20000, 'G': 15000}\n",
      "Sorted dictionary by value :  [5000, 5000, 10000, 10000, 15000, 15000, 20000]\n"
     ]
    }
   ],
   "source": [
    "print(\"The actual dictionary : \",new_employee)\n",
    "print(\"Sorted dictionary by value : \" ,sorted(new_employee.values()))"
   ]
  },
  {
   "cell_type": "code",
   "execution_count": null,
   "id": "a8b161b5",
   "metadata": {},
   "outputs": [],
   "source": []
  }
 ],
 "metadata": {
  "kernelspec": {
   "display_name": "Python 3 (ipykernel)",
   "language": "python",
   "name": "python3"
  },
  "language_info": {
   "codemirror_mode": {
    "name": "ipython",
    "version": 3
   },
   "file_extension": ".py",
   "mimetype": "text/x-python",
   "name": "python",
   "nbconvert_exporter": "python",
   "pygments_lexer": "ipython3",
   "version": "3.8.8"
  }
 },
 "nbformat": 4,
 "nbformat_minor": 5
}
