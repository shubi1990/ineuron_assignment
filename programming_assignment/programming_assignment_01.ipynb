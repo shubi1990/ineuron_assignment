{
 "cells": [
  {
   "cell_type": "markdown",
   "id": "15771eb3",
   "metadata": {},
   "source": [
    "## 1. Write a Python program to print &quot;Hello Python&quot;?"
   ]
  },
  {
   "cell_type": "code",
   "execution_count": 1,
   "id": "053abdd1",
   "metadata": {},
   "outputs": [
    {
     "name": "stdout",
     "output_type": "stream",
     "text": [
      "Hello Python\n"
     ]
    }
   ],
   "source": [
    "print(\"Hello Python\")"
   ]
  },
  {
   "cell_type": "markdown",
   "id": "fa571b90",
   "metadata": {},
   "source": [
    "## 2. Write a Python program to do arithmetical operations addition and division.?"
   ]
  },
  {
   "cell_type": "code",
   "execution_count": 4,
   "id": "42bc2d2d",
   "metadata": {},
   "outputs": [
    {
     "name": "stdout",
     "output_type": "stream",
     "text": [
      "Addition =  15\n",
      "Division =  2.0\n"
     ]
    }
   ],
   "source": [
    "a = int(input(\"First input =  \"))\n",
    "b = int(input(\"Second input = \"))\n",
    "c = a + b\n",
    "d = a/b\n",
    "print(\"Addition = \", c)\n",
    "print(\"Division = \", d)"
   ]
  },
  {
   "cell_type": "markdown",
   "id": "0482e06c",
   "metadata": {},
   "source": [
    "## Q.3) Write a Python program to find the area of a triangle ?"
   ]
  },
  {
   "cell_type": "code",
   "execution_count": 2,
   "id": "12bfd256",
   "metadata": {},
   "outputs": [
    {
     "name": "stdout",
     "output_type": "stream",
     "text": [
      " 10\n",
      "5\n",
      "Area of triange =  25.0\n"
     ]
    }
   ],
   "source": [
    "height = int(input(\" \"))\n",
    "base = int(input(\"\"))\n",
    "Area = (1/2)* (base * height)\n",
    "print(\"Area of triange = \", Area)"
   ]
  },
  {
   "cell_type": "markdown",
   "id": "229ecc8c",
   "metadata": {},
   "source": [
    "## Q.4) Write a Python program to swap two variables?"
   ]
  },
  {
   "cell_type": "code",
   "execution_count": 3,
   "id": "9f5ac854",
   "metadata": {},
   "outputs": [
    {
     "name": "stdout",
     "output_type": "stream",
     "text": [
      "Enter first var = 2\n",
      "Enter second var = 3\n",
      "3\n",
      "2\n"
     ]
    }
   ],
   "source": [
    "a = input(\"Enter first var = \")\n",
    "b = input(\"Enter second var = \")\n",
    "a, b = b, a\n",
    "print(a)\n",
    "print(b)"
   ]
  },
  {
   "cell_type": "markdown",
   "id": "d42570f4",
   "metadata": {},
   "source": [
    "## 5. Write a Python program to generate a random number?"
   ]
  },
  {
   "cell_type": "code",
   "execution_count": 9,
   "id": "7f502313",
   "metadata": {},
   "outputs": [
    {
     "name": "stdout",
     "output_type": "stream",
     "text": [
      "Random number = 8\n"
     ]
    }
   ],
   "source": [
    "import random\n",
    "n = random.randint(0, 20)\n",
    "print(\"Random number =\",n)"
   ]
  },
  {
   "cell_type": "code",
   "execution_count": null,
   "id": "fe5e7ef1",
   "metadata": {},
   "outputs": [],
   "source": []
  }
 ],
 "metadata": {
  "kernelspec": {
   "display_name": "Python 3 (ipykernel)",
   "language": "python",
   "name": "python3"
  },
  "language_info": {
   "codemirror_mode": {
    "name": "ipython",
    "version": 3
   },
   "file_extension": ".py",
   "mimetype": "text/x-python",
   "name": "python",
   "nbconvert_exporter": "python",
   "pygments_lexer": "ipython3",
   "version": "3.8.8"
  },
  "vscode": {
   "interpreter": {
    "hash": "4400b065a9dd64c9599b01811f990b32fb4905a6c2d1be90f452bd8be80c8236"
   }
  }
 },
 "nbformat": 4,
 "nbformat_minor": 5
}
