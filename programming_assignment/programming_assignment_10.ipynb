{
 "cells": [
  {
   "cell_type": "markdown",
   "id": "ba67c316",
   "metadata": {},
   "source": [
    "## 1. Write a Python program to find sum of elements in list?"
   ]
  },
  {
   "cell_type": "code",
   "execution_count": 1,
   "id": "6ec189dc",
   "metadata": {},
   "outputs": [
    {
     "name": "stdout",
     "output_type": "stream",
     "text": [
      "Enter the total number of elements : 5\n",
      "element 1 = 5\n",
      "element 2 = 45\n",
      "element 3 = 78\n",
      "element 4 = 89\n",
      "element 5 = 3\n",
      "Total sum of elements in list =  220\n"
     ]
    }
   ],
   "source": [
    "list = []\n",
    "num = int(input(\"Enter the total number of elements : \"))\n",
    "for i in range(1, num+1):\n",
    "    ele = int (input(\"element %d = \"  %i))\n",
    "    list.append(ele)\n",
    "    \n",
    "total_sum = sum(list)\n",
    "print(\"Total sum of elements in list = \", total_sum)\n",
    "    "
   ]
  },
  {
   "cell_type": "markdown",
   "id": "86a9596b",
   "metadata": {},
   "source": [
    "## 2. Write a Python program to Multiply all numbers in the list?"
   ]
  },
  {
   "cell_type": "code",
   "execution_count": 5,
   "id": "2b108e4f",
   "metadata": {},
   "outputs": [
    {
     "name": "stdout",
     "output_type": "stream",
     "text": [
      "Enter the total number of elements : 5\n",
      "element 1 = 1\n",
      "element 2 = 2\n",
      "element 3 = 3\n",
      "element 4 = 4\n",
      "element 5 = 5\n",
      "multiplication of all the elements in the list =  120\n"
     ]
    }
   ],
   "source": [
    "list = []\n",
    "num = int(input(\"Enter the total number of elements : \"))\n",
    "for i in range(1, num+1):\n",
    "    ele = int (input(\"element %d = \"  %i))\n",
    "    list.append(ele)\n",
    "mul = 1\n",
    "for i in range (num):\n",
    "    mul *= list[i]\n",
    "print(\"multiplication of all the elements in the list = \", mul)"
   ]
  },
  {
   "cell_type": "markdown",
   "id": "67fc0261",
   "metadata": {},
   "source": [
    "## 3. Write a Python program to find smallest number in a list?"
   ]
  },
  {
   "cell_type": "code",
   "execution_count": 14,
   "id": "4855b75f",
   "metadata": {},
   "outputs": [
    {
     "name": "stdout",
     "output_type": "stream",
     "text": [
      "Enter the total number of elements : 5\n",
      "6\n",
      "5\n",
      "1\n",
      "4\n",
      "7\n",
      "Smallest number =  1\n"
     ]
    }
   ],
   "source": [
    "list = []\n",
    "num = int(input(\"Enter the total number of elements : \"))\n",
    "for i in range(1, num+1):\n",
    "    list.append(int(input()))\n",
    "min = list[0]\n",
    "for j in range(len(list)):\n",
    "    if list[j] < min:\n",
    "        min = list[j]\n",
    "print(\"Smallest number = \",min)"
   ]
  },
  {
   "cell_type": "markdown",
   "id": "d6adef34",
   "metadata": {},
   "source": [
    "## 4. Write a Python program to find largest number in a list?"
   ]
  },
  {
   "cell_type": "code",
   "execution_count": 15,
   "id": "146fbe10",
   "metadata": {},
   "outputs": [
    {
     "name": "stdout",
     "output_type": "stream",
     "text": [
      "Enter the total number of elements : 5\n",
      "2\n",
      "4\n",
      "8\n",
      "5\n",
      "6\n",
      "Largest Number = 8\n"
     ]
    }
   ],
   "source": [
    "list = []\n",
    "num = int(input(\"Enter the total number of elements : \"))\n",
    "for i in range(1, num+1):\n",
    "    list.append(int(input()))\n",
    "max = list[0]\n",
    "for j in range(len(list)):\n",
    "    if list[j] > max:\n",
    "        max = list[j]\n",
    "print(\"Largest Number =\",max)"
   ]
  },
  {
   "cell_type": "markdown",
   "id": "9367ad2e",
   "metadata": {},
   "source": [
    "## 5. Write a Python program to find second largest number in a list?"
   ]
  },
  {
   "cell_type": "code",
   "execution_count": 2,
   "id": "a73d3851",
   "metadata": {},
   "outputs": [
    {
     "name": "stdout",
     "output_type": "stream",
     "text": [
      "Enter the total number of elements : 5\n",
      "4\n",
      "8\n",
      "3\n",
      "6\n",
      "4\n",
      "[4, 8, 3, 6, 4]\n",
      "Second largest number is: 6\n"
     ]
    }
   ],
   "source": [
    "list = []\n",
    "num = int(input(\"Enter the total number of elements : \"))\n",
    "for i in range(1, num+1):\n",
    "    list.append(int(input()))\n",
    "print(list)\n",
    "list.sort()\n",
    "print(\"Second largest number is:\",list[num-2])"
   ]
  },
  {
   "cell_type": "markdown",
   "id": "3273d38b",
   "metadata": {},
   "source": [
    "## 6. Write a Python program to find N largest elements from a list?"
   ]
  },
  {
   "cell_type": "code",
   "execution_count": 9,
   "id": "e7c8a6ae",
   "metadata": {},
   "outputs": [
    {
     "name": "stdout",
     "output_type": "stream",
     "text": [
      "Enter the total number of elements : 5\n",
      "2\n",
      "67\n",
      "45\n",
      "12\n",
      "89\n",
      "[2, 67, 45, 12, 89]\n",
      "Enter the total number of largest elements :3\n",
      "The n-largest elements in the list are =  [89, 67, 45]\n"
     ]
    }
   ],
   "source": [
    "list = []\n",
    "num = int(input(\"Enter the total number of elements : \"))\n",
    "for i in range(1, num+1):\n",
    "    list.append(int(input()))\n",
    "print(list)\n",
    "list.sort()\n",
    "n = int(input(\"Enter the total number of largest elements :\"))\n",
    "n_large = []\n",
    "for i in range(n):\n",
    "    n_large.append(list.pop())\n",
    "print(\"The n-largest elements in the list are = \",n_large)"
   ]
  },
  {
   "cell_type": "markdown",
   "id": "b367ce23",
   "metadata": {},
   "source": [
    "## 7. Write a Python program to print even numbers in a list?"
   ]
  },
  {
   "cell_type": "code",
   "execution_count": 2,
   "id": "5ba471bb",
   "metadata": {},
   "outputs": [
    {
     "name": "stdout",
     "output_type": "stream",
     "text": [
      "Enter the total number of elements : 5\n",
      "2\n",
      "3\n",
      "4\n",
      "5\n",
      "6\n",
      "[2, 3, 4, 5, 6]\n",
      "Even numbers in the list are :  [2, 4, 6]\n"
     ]
    }
   ],
   "source": [
    "list = []\n",
    "num = int(input(\"Enter the total number of elements : \"))\n",
    "for i in range(1, num+1):\n",
    "    list.append(int(input()))\n",
    "print(list)\n",
    "even_list = []\n",
    "for i in range(len(list)):\n",
    "    if list[i]%2 == 0:\n",
    "        even_list.append(list[i])\n",
    "print(\"Even numbers in the list are : \",even_list )\n",
    "       "
   ]
  },
  {
   "cell_type": "markdown",
   "id": "921dc890",
   "metadata": {},
   "source": [
    "## 8. Write a Python program to print odd numbers in a List?"
   ]
  },
  {
   "cell_type": "code",
   "execution_count": 3,
   "id": "585edba7",
   "metadata": {},
   "outputs": [
    {
     "name": "stdout",
     "output_type": "stream",
     "text": [
      "Enter the total number of elements : 5\n",
      "1\n",
      "2\n",
      "3\n",
      "4\n",
      "5\n",
      "[1, 2, 3, 4, 5]\n",
      "Odd numbers in the list are :  [1, 3, 5]\n"
     ]
    }
   ],
   "source": [
    "list = []\n",
    "num = int(input(\"Enter the total number of elements : \"))\n",
    "for i in range(1, num+1):\n",
    "    list.append(int(input()))\n",
    "print(list)\n",
    "odd_list = []\n",
    "for i in range(len(list)):\n",
    "    if list[i]%2 != 0:\n",
    "        odd_list.append(list[i])\n",
    "print(\"Odd numbers in the list are : \",odd_list )\n",
    "       "
   ]
  },
  {
   "cell_type": "markdown",
   "id": "ce6d6fac",
   "metadata": {},
   "source": [
    "## 9. Write a Python program to Remove empty List from List?"
   ]
  },
  {
   "cell_type": "code",
   "execution_count": 9,
   "id": "98aea931",
   "metadata": {},
   "outputs": [
    {
     "name": "stdout",
     "output_type": "stream",
     "text": [
      "List after removing empty list :  [1, 2, 4, 6, 8, 9]\n"
     ]
    }
   ],
   "source": [
    "list = [1,2,[],4,[],6,[],8,9]\n",
    " \n",
    "while [] in list :\n",
    "    list.remove([])\n",
    " \n",
    "print(\"List after removing empty list : \", list)"
   ]
  },
  {
   "cell_type": "markdown",
   "id": "89656b41",
   "metadata": {},
   "source": [
    "## 10. Write a Python program to Cloning or Copying a list?"
   ]
  },
  {
   "cell_type": "code",
   "execution_count": 12,
   "id": "9afc20aa",
   "metadata": {},
   "outputs": [
    {
     "name": "stdout",
     "output_type": "stream",
     "text": [
      "Enter the total number of elements : 5\n",
      "5\n",
      "6\n",
      "7\n",
      "3\n",
      "2\n",
      "Original list :  [5, 6, 7, 3, 2]\n",
      "Cloned list : [5, 6, 7, 3, 2]\n"
     ]
    }
   ],
   "source": [
    "list = []\n",
    "num = int(input(\"Enter the total number of elements : \"))\n",
    "for i in range(1, num+1):\n",
    "    list.append(int(input()))\n",
    "\n",
    "print(\"Original list : \", list)\n",
    "cloned_list = list.copy()\n",
    "print(\"Cloned list :\" ,cloned_list)"
   ]
  },
  {
   "cell_type": "markdown",
   "id": "3bc4ec70",
   "metadata": {},
   "source": [
    "## 11. Write a Python program to Count occurrences of an element in a list?"
   ]
  },
  {
   "cell_type": "code",
   "execution_count": 1,
   "id": "94b00d38",
   "metadata": {},
   "outputs": [
    {
     "name": "stdout",
     "output_type": "stream",
     "text": [
      "Enter the total number of elements : 8\n",
      "3\n",
      "4\n",
      "5\n",
      "2\n",
      "3\n",
      "4\n",
      "7\n",
      "5\n",
      "Enter the element want to count :4\n",
      "Occurrences of the element : 2\n"
     ]
    }
   ],
   "source": [
    "list = []\n",
    "num = int(input(\"Enter the total number of elements : \"))\n",
    "for i in range(1, num+1):\n",
    "    list.append(int(input()))\n",
    "x = int(input(\"Enter the element want to count :\"))\n",
    "count=0\n",
    "for i in range(len(list)):\n",
    "    if list[i]==x:\n",
    "        count+=1\n",
    "print(\"Occurrences of the element :\",count)        \n",
    "    "
   ]
  },
  {
   "cell_type": "code",
   "execution_count": null,
   "id": "4c95e47f",
   "metadata": {},
   "outputs": [],
   "source": []
  }
 ],
 "metadata": {
  "kernelspec": {
   "display_name": "Python 3 (ipykernel)",
   "language": "python",
   "name": "python3"
  },
  "language_info": {
   "codemirror_mode": {
    "name": "ipython",
    "version": 3
   },
   "file_extension": ".py",
   "mimetype": "text/x-python",
   "name": "python",
   "nbconvert_exporter": "python",
   "pygments_lexer": "ipython3",
   "version": "3.8.8"
  }
 },
 "nbformat": 4,
 "nbformat_minor": 5
}
