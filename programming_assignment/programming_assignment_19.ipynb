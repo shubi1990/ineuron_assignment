{
 "cells": [
  {
   "cell_type": "markdown",
   "id": "f70fc842",
   "metadata": {},
   "source": [
    "### Question1. Create a function that takes a string and returns a string in which each character is repeated once.\n",
    "\n",
    "Examples:\n",
    "\n",
    "- double_char(&quot;String&quot;) ➞ &quot;SSttrriinngg&quot;\n",
    "- double_char(&quot;Hello World!&quot;) ➞ &quot;HHeelllloo WWoorrlldd!!&quot;\n",
    "- double_char(&quot;1234!_ &quot;) ➞ &quot;11223344!!__ &quot;"
   ]
  },
  {
   "cell_type": "code",
   "execution_count": 1,
   "id": "d2bb7412",
   "metadata": {},
   "outputs": [
    {
     "name": "stdout",
     "output_type": "stream",
     "text": [
      "double_char(\"String\") ➞  SSttrriinngg\n",
      "double_char(\"Hello World!\") ➞  HHeelllloo  WWoorrlldd!!\n",
      "double_char(\"1234!_\") ➞  11223344!!__\n"
     ]
    }
   ],
   "source": [
    "def repeatChar(string):\n",
    "    new_str = \"\"\n",
    "    for i in string:\n",
    "        new_str += i*2\n",
    "    return new_str\n",
    "\n",
    "print('double_char(\"String\") ➞ ',repeatChar(\"String\"))\n",
    "print('double_char(\"Hello World!\") ➞ ',repeatChar(\"Hello World!\"))\n",
    "print('double_char(\"1234!_\") ➞ ',repeatChar(\"1234!_\"))"
   ]
  },
  {
   "cell_type": "markdown",
   "id": "ed58f576",
   "metadata": {},
   "source": [
    "### Question2. Create a function that reverses a boolean value and returns the string \"boolean expected\" if another variable type is given.if another variable type is given.\n",
    "\n",
    "Examples:\n",
    "\n",
    "- reverse(True) ➞ False\n",
    "- reverse(False) ➞ True\n",
    "- reverse(0) ➞ &quot;boolean expected&quot;\n",
    "- reverse(None) ➞ &quot;boolean expected&quot;"
   ]
  },
  {
   "cell_type": "code",
   "execution_count": 7,
   "id": "ee2d05db",
   "metadata": {},
   "outputs": [
    {
     "name": "stdout",
     "output_type": "stream",
     "text": [
      "reverse(True) ➞  False\n",
      "reverse(False) ➞  True\n",
      "reverse(0) ➞  boolean expected\n",
      "reverse(None) ➞  boolean expected\n"
     ]
    }
   ],
   "source": [
    "def reverseBool(x):\n",
    "    if type(x) == bool:\n",
    "        return not x\n",
    "    return \"boolean expected\"\n",
    "\n",
    "print('reverse(True) ➞ ',reverseBool(True))\n",
    "print('reverse(False) ➞ ',reverseBool(False))\n",
    "print('reverse(0) ➞ ',reverseBool(0))\n",
    "print('reverse(None) ➞ ',reverseBool(None))"
   ]
  },
  {
   "cell_type": "markdown",
   "id": "c3e52ac2",
   "metadata": {},
   "source": [
    "### Question3. Create a function that returns the thickness (in meters) of a piece of paper after folding it n number of times. The paper starts off with a thickness of 0.5mm.\n",
    "\n",
    "Examples:\n",
    "\n",
    "- num_layers(1) ➞ \"0.001m\"\n",
    "      Paper folded once is 1mm (equal to 0.001m)\n",
    "- num_layers(4) ➞ \"0.008m\"\n",
    "      Paper folded 4 times is 8mm (equal to 0.008m)\n",
    "- num_layers(21) ➞ \"1048.576m\"\n",
    "      Paper folded 21 times is 1048576mm (equal to 1048.576m)"
   ]
  },
  {
   "cell_type": "code",
   "execution_count": 8,
   "id": "72c25cb3",
   "metadata": {},
   "outputs": [
    {
     "name": "stdout",
     "output_type": "stream",
     "text": [
      "num_layers(1) ➞  0.001 m\n",
      "num_layers(4) ➞  0.008 m\n",
      "num_layers(21) ➞  1048.576 m\n"
     ]
    }
   ],
   "source": [
    "def numOfLayers(n):\n",
    "    thickness = 0.5\n",
    "    for i in range(n):\n",
    "        thickness *= 2\n",
    "    return (thickness/1000)\n",
    "\n",
    "print('num_layers(1) ➞ ', numOfLayers(1),'m')\n",
    "print('num_layers(4) ➞ ', numOfLayers(4),'m')\n",
    "print('num_layers(21) ➞ ', numOfLayers(21),'m')"
   ]
  },
  {
   "cell_type": "markdown",
   "id": "e58a3e83",
   "metadata": {},
   "source": [
    "### Question4. Create a function that takes a single string as argument and returns an ordered list containing the indices of all capital letters in the string.\n",
    "\n",
    "Examples:\n",
    "\n",
    "- index_of_caps(\"eDaBiT\") ➞ [1, 3, 5]\n",
    "- index_of_caps(\"eQuINoX\") ➞ [1, 3, 4, 6]\n",
    "- index_of_caps(\"determine\") ➞ []\n",
    "- index_of_caps(\"STRIKE\") ➞ [0, 1, 2, 3, 4, 5]\n",
    "- index_of_caps(\"sUn\") ➞ [1]"
   ]
  },
  {
   "cell_type": "code",
   "execution_count": 23,
   "id": "7539af5c",
   "metadata": {},
   "outputs": [
    {
     "name": "stdout",
     "output_type": "stream",
     "text": [
      "index_of_caps(\"eDaBiT\") ➞  [1, 3, 5]\n",
      "index_of_caps(\"eQuINoX\") ➞  [1, 3, 4, 6]\n",
      "index_of_caps(\"determine\") ➞  []\n",
      "index_of_caps(\"STRIKE\") ➞  [0, 1, 2, 3, 4, 5]\n",
      "index_of_caps(\"sUn\") ➞  [1]\n"
     ]
    }
   ],
   "source": [
    "def indexOfCap(string):\n",
    "    L = []\n",
    "    for i in range(len(string)):\n",
    "        if string[i].isupper() == True:\n",
    "            L.append(i)\n",
    "    return L\n",
    "print('index_of_caps(\"eDaBiT\") ➞ ',indexOfCap(\"eDaBiT\"))\n",
    "print('index_of_caps(\"eQuINoX\") ➞ ',indexOfCap(\"eQuINoX\"))\n",
    "print('index_of_caps(\"determine\") ➞ ',indexOfCap(\"determine\"))\n",
    "print('index_of_caps(\"STRIKE\") ➞ ',indexOfCap(\"STRIKE\"))\n",
    "print('index_of_caps(\"sUn\") ➞ ',indexOfCap(\"sUn\"))"
   ]
  },
  {
   "cell_type": "markdown",
   "id": "668fcb39",
   "metadata": {},
   "source": [
    "### Question5. Using list comprehensions, create a function that finds all even numbers from 1 to the given number.\n",
    "\n",
    "Examples:\n",
    "\n",
    "- find_even_nums(8) ➞ [2, 4, 6, 8]\n",
    "- find_even_nums(4) ➞ [2, 4]\n",
    "- find_even_nums(2) ➞ [2]"
   ]
  },
  {
   "cell_type": "code",
   "execution_count": 25,
   "id": "fee29c3c",
   "metadata": {},
   "outputs": [
    {
     "name": "stdout",
     "output_type": "stream",
     "text": [
      "find_even_nums(8) ➞  [2, 4, 6, 8]\n",
      "find_even_nums(4) ➞  [2, 4]\n",
      "find_even_nums(2) ➞  [2]\n"
     ]
    }
   ],
   "source": [
    "def is_even(num):\n",
    "    x = [i for i in range(1, num+1) if i%2 == 0]\n",
    "    return x\n",
    "print('find_even_nums(8) ➞ ',is_even(8))\n",
    "print('find_even_nums(4) ➞ ',is_even(4))\n",
    "print('find_even_nums(2) ➞ ',is_even(2))"
   ]
  },
  {
   "cell_type": "code",
   "execution_count": null,
   "id": "6d19bdae",
   "metadata": {},
   "outputs": [],
   "source": []
  }
 ],
 "metadata": {
  "kernelspec": {
   "display_name": "Python 3 (ipykernel)",
   "language": "python",
   "name": "python3"
  },
  "language_info": {
   "codemirror_mode": {
    "name": "ipython",
    "version": 3
   },
   "file_extension": ".py",
   "mimetype": "text/x-python",
   "name": "python",
   "nbconvert_exporter": "python",
   "pygments_lexer": "ipython3",
   "version": "3.9.13"
  }
 },
 "nbformat": 4,
 "nbformat_minor": 5
}
