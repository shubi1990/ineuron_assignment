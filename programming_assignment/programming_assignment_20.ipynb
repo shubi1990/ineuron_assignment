{
 "cells": [
  {
   "cell_type": "markdown",
   "id": "601985cb",
   "metadata": {},
   "source": [
    "### Question1. Create a function that takes a list of strings and integers, and filters out the list so that it returns a list of integers only.\n",
    "\n",
    "Examples:\n",
    "\n",
    "- filter_list([1, 2, 3, \"a\", \"b\", 4]) ➞ [1, 2, 3, 4]\n",
    "- filter_list([\"A\", 0, \"Edabit\", 1729, \"Python\", \"1729\"]) ➞ [0, 1729]\n",
    "- filter_list([\"Nothing\", \"here\"]) ➞ []"
   ]
  },
  {
   "cell_type": "code",
   "execution_count": 1,
   "id": "b19532bc",
   "metadata": {},
   "outputs": [
    {
     "name": "stdout",
     "output_type": "stream",
     "text": [
      "filter_list([1, 2, 3, \"a\", \"b\", 4]) ➞  [1, 2, 3, 4]\n",
      "filter_list([\"A\", 0, \"Edabit\", 1729, \"Python\", \"1729\"]) ➞  [0, 1729]\n",
      "filter_list([\"Nothing\", \"here\"]) ➞  []\n"
     ]
    }
   ],
   "source": [
    "def filterList(L):\n",
    "    new_list = []\n",
    "    for i in L:\n",
    "        if type(i) != str:\n",
    "            new_list.append(i)\n",
    "    return new_list\n",
    "\n",
    "print('filter_list([1, 2, 3, \"a\", \"b\", 4]) ➞ ',filterList([1, 2, 3, \"a\", \"b\", 4]))\n",
    "print('filter_list([\"A\", 0, \"Edabit\", 1729, \"Python\", \"1729\"]) ➞ ',filterList([\"A\", 0, \"Edabit\", 1729, \"Python\", \"1729\"]))\n",
    "print('filter_list([\"Nothing\", \"here\"]) ➞ ',filterList([\"Nothing\", \"here\"]))"
   ]
  },
  {
   "cell_type": "markdown",
   "id": "8fad32a5",
   "metadata": {},
   "source": [
    "### Question2.Given a list of numbers, create a function which returns the list but with each element's index in the list added to itself. This means you add 0 to the number at index 0, add 1 to the number at index 1, etc...\n",
    "\n",
    "Examples:\n",
    "\n",
    "- add_indexes([0, 0, 0, 0, 0]) ➞ [0, 1, 2, 3, 4]\n",
    "- add_indexes([1, 2, 3, 4, 5]) ➞ [1, 3, 5, 7, 9]\n",
    "- add_indexes([5, 4, 3, 2, 1]) ➞ [5, 5, 5, 5, 5]"
   ]
  },
  {
   "cell_type": "code",
   "execution_count": 13,
   "id": "e8bd3d71",
   "metadata": {},
   "outputs": [
    {
     "name": "stdout",
     "output_type": "stream",
     "text": [
      "add_indexes([0, 0, 0, 0, 0]) ➞  [0, 1, 2, 3, 4]\n",
      "add_indexes([1, 2, 3, 4, 5]) ➞  [1, 3, 5, 7, 9]\n",
      "add_indexes([5, 4, 3, 2, 1]) ➞  [5, 5, 5, 5, 5]\n"
     ]
    }
   ],
   "source": [
    "def addIndexes(L):\n",
    "    new_list = []\n",
    "    for i in range(len(L)):\n",
    "        new_list.append(L[i] + i)\n",
    "    return new_list\n",
    "print('add_indexes([0, 0, 0, 0, 0]) ➞ ',addIndexes([0, 0, 0, 0, 0]))\n",
    "print('add_indexes([1, 2, 3, 4, 5]) ➞ ',addIndexes([1, 2, 3, 4, 5]))\n",
    "print('add_indexes([5, 4, 3, 2, 1]) ➞ ',addIndexes([5, 4, 3, 2, 1]))"
   ]
  },
  {
   "cell_type": "markdown",
   "id": "e53dfcbb",
   "metadata": {},
   "source": [
    "### Question3. Create a function that takes the height and radius of a cone as arguments and returns the volume of the cone rounded to the nearest hundredth. See the resources tab for the formula.\n",
    "\n",
    "Examples:\n",
    "\n",
    "- cone_volume(3, 2) ➞ 12.57\n",
    "- cone_volume(15, 6) ➞ 565.49\n",
    "- cone_volume(18, 0) ➞ 0"
   ]
  },
  {
   "cell_type": "code",
   "execution_count": 17,
   "id": "7c8efb4b",
   "metadata": {},
   "outputs": [
    {
     "name": "stdout",
     "output_type": "stream",
     "text": [
      "cone_volume(3, 2) ➞  12.57\n",
      "cone_volume(15, 6) ➞  565.49\n",
      "cone_volume(18, 0) ➞  0.0\n"
     ]
    }
   ],
   "source": [
    "import math\n",
    "def coneVolume(h, r):\n",
    "    volume = (math.pi)*(r**2)*(h/3)\n",
    "    return round(volume, 2)\n",
    "print('cone_volume(3, 2) ➞ ',coneVolume(3, 2))\n",
    "print('cone_volume(15, 6) ➞ ',coneVolume(15, 6))\n",
    "print('cone_volume(18, 0) ➞ ',coneVolume(18, 0))"
   ]
  },
  {
   "cell_type": "markdown",
   "id": "1f599dd5",
   "metadata": {},
   "source": [
    "### Question4. This Triangular Number Sequence is generated from a pattern of dots that form a triangle. The first 5 numbers of the sequence, or dots, are:1, 3, 6, 10, 15\n",
    "### This means that the first triangle has just one dot, the second one has three dots, the third one has 6 dots and so on.\n",
    "### Write a function that gives the number of dots with its corresponding triangle number of the sequence.\n",
    "\n",
    "Examples:\n",
    "\n",
    "- triangle(1) ➞ 1\n",
    "- triangle(6) ➞ 21\n",
    "- triangle(215) ➞ 23220"
   ]
  },
  {
   "cell_type": "code",
   "execution_count": 19,
   "id": "0ccb74b9",
   "metadata": {},
   "outputs": [
    {
     "name": "stdout",
     "output_type": "stream",
     "text": [
      "triangle(1) ➞  1\n",
      "triangle(6) ➞  21\n",
      "triangle(215) ➞  23220\n"
     ]
    }
   ],
   "source": [
    "def triangle(dots):\n",
    "    return (dots*(dots+1))//2\n",
    "\n",
    "print('triangle(1) ➞ ', triangle(1))\n",
    "print('triangle(6) ➞ ', triangle(6))\n",
    "print('triangle(215) ➞ ', triangle(215))"
   ]
  },
  {
   "cell_type": "markdown",
   "id": "435befda",
   "metadata": {},
   "source": [
    "### Question5. Create a function that takes a list of numbers between 1 and 10 (excluding one number) and returns the missing number.\n",
    "\n",
    "Examples:\n",
    "\n",
    "- missing_num([1, 2, 3, 4, 6, 7, 8, 9, 10]) ➞ 5\n",
    "- missing_num([7, 2, 3, 6, 5, 9, 1, 4, 8]) ➞ 10\n",
    "- missing_num([10, 5, 1, 2, 4, 6, 8, 3, 9]) ➞ 7"
   ]
  },
  {
   "cell_type": "code",
   "execution_count": 20,
   "id": "d1fb12b1",
   "metadata": {},
   "outputs": [
    {
     "name": "stdout",
     "output_type": "stream",
     "text": [
      "missing_num([1, 2, 3, 4, 6, 7, 8, 9, 10]) ➞  5\n",
      "missing_num([7, 2, 3, 6, 5, 9, 1, 4, 8]) ➞  10\n",
      "missing_num([10, 5, 1, 2, 4, 6, 8, 3, 9]) ➞  7\n"
     ]
    }
   ],
   "source": [
    "def missingNumber(L):\n",
    "    for i in range(1, 11):\n",
    "        if i not in L:\n",
    "            return i\n",
    "\n",
    "print('missing_num([1, 2, 3, 4, 6, 7, 8, 9, 10]) ➞ ',missingNumber([1, 2, 3, 4, 6, 7, 8, 9, 10]))\n",
    "print('missing_num([7, 2, 3, 6, 5, 9, 1, 4, 8]) ➞ ',missingNumber([7, 2, 3, 6, 5, 9, 1, 4, 8]))\n",
    "print('missing_num([10, 5, 1, 2, 4, 6, 8, 3, 9]) ➞ ',missingNumber([10, 5, 1, 2, 4, 6, 8, 3, 9]))"
   ]
  },
  {
   "cell_type": "code",
   "execution_count": null,
   "id": "f4a3bf0d",
   "metadata": {},
   "outputs": [],
   "source": []
  }
 ],
 "metadata": {
  "kernelspec": {
   "display_name": "Python 3 (ipykernel)",
   "language": "python",
   "name": "python3"
  },
  "language_info": {
   "codemirror_mode": {
    "name": "ipython",
    "version": 3
   },
   "file_extension": ".py",
   "mimetype": "text/x-python",
   "name": "python",
   "nbconvert_exporter": "python",
   "pygments_lexer": "ipython3",
   "version": "3.9.13"
  }
 },
 "nbformat": 4,
 "nbformat_minor": 5
}
