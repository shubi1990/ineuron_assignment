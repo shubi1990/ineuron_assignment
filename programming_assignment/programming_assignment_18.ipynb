{
 "cells": [
  {
   "cell_type": "markdown",
   "id": "f36678b5",
   "metadata": {},
   "source": [
    "### Question 1 Create a function that takes a list of non-negative integers and strings and return a new list without the strings.\n",
    "\n",
    "Examples:\n",
    "\n",
    "- filter_list([1, 2, &quot;a&quot;, &quot;b&quot;]) ➞ [1, 2]\n",
    "- filter_list([1, &quot;a&quot;, &quot;b&quot;, 0, 15]) ➞ [1, 0, 15]\n",
    "- filter_list([1, 2, &quot;aasf&quot;, &quot;1&quot;, &quot;123&quot;, 123]) ➞ [1, 2, 123]"
   ]
  },
  {
   "cell_type": "code",
   "execution_count": 3,
   "id": "1dfc9c74",
   "metadata": {},
   "outputs": [
    {
     "name": "stdout",
     "output_type": "stream",
     "text": [
      "filter_list([1, 2, \"a\", \"b\"]) ➞  [1, 2]\n",
      "filter_list([1, \"a\", \"b\", 0, 15]) ➞  [1, 0, 15]\n",
      "filter_list([1, 2, \"aasf\", \"1\", \"123\", 123]) ➞  [1, 2, 123]\n"
     ]
    }
   ],
   "source": [
    "def filterList(L):\n",
    "    new_list = []\n",
    "    for i in L:\n",
    "        if type(i) != str:\n",
    "            new_list.append(i)\n",
    "    return new_list\n",
    "\n",
    "print('filter_list([1, 2, \"a\", \"b\"]) ➞ ',filterList(L=[1, 2, \"a\", \"b\"]))\n",
    "print('filter_list([1, \"a\", \"b\", 0, 15]) ➞ ',filterList([1, \"a\", \"b\", 0, 15]))\n",
    "print('filter_list([1, 2, \"aasf\", \"1\", \"123\", 123]) ➞ ', filterList([1, 2, \"aasf\", \"1\", \"123\", 123]))\n",
    "    "
   ]
  },
  {
   "cell_type": "markdown",
   "id": "9fe957f7",
   "metadata": {},
   "source": [
    "### Question 2. The &quot;Reverser&quot; takes a string as input and returns that string in reverse order, with the opposite case.\n",
    "\n",
    "Examples:\n",
    "\n",
    "- reverse(&quot;Hello World&quot;) ➞ &quot;DLROw OLLEh&quot;\n",
    "- reverse(&quot;ReVeRsE&quot;) ➞ &quot;eSrEvEr&quot;\n",
    "- reverse(&quot;Radar&quot;) ➞ &quot;RADAr&quot;"
   ]
  },
  {
   "cell_type": "code",
   "execution_count": 7,
   "id": "1d005963",
   "metadata": {},
   "outputs": [
    {
     "name": "stdout",
     "output_type": "stream",
     "text": [
      "reverse(\"Hello World\") ➞  DLROw OLLEh\n",
      "reverse(\"ReVeRsE\") ➞  eSrEvEr\n",
      "reverse(\"Radar\") ➞  RADAr\n"
     ]
    }
   ],
   "source": [
    "def reverser(string):\n",
    "    return string[::-1].swapcase()\n",
    "\n",
    "print('reverse(\"Hello World\") ➞ ',reverser(\"Hello World\"))\n",
    "print('reverse(\"ReVeRsE\") ➞ ',reverser(\"ReVeRsE\"))\n",
    "print('reverse(\"Radar\") ➞ ',reverser(\"Radar\"))"
   ]
  },
  {
   "cell_type": "markdown",
   "id": "0f7de9e1",
   "metadata": {},
   "source": [
    "### Question 3. You can assign variables from lists like this:\n",
    "lst = [1, 2, 3, 4, 5, 6], first = lst[0], middle = lst[1:-1], last = lst[-1]\n",
    "\n",
    "- print(first) ➞ outputs 1\n",
    "- print(middle) ➞ outputs [2, 3, 4, 5]\n",
    "- print(last) ➞ outputs 6\n",
    "\n",
    "#### With Python 3, you can assign variables from lists in a much more succinct way. Create variables first, middle and last from the given list using destructuring assignment\n",
    "\n",
    "(check the Resources tab for some examples), where:\n",
    "- first ➞ 1\n",
    "- middle ➞ [2, 3, 4, 5]\n",
    "- last ➞ 6\n",
    "\n",
    "Your task is to unpack the list write your code here into three variables, being first, middle, and last, with middle being everything in between the first and last element. Then print all three variables."
   ]
  },
  {
   "cell_type": "code",
   "execution_count": 8,
   "id": "8a1c09aa",
   "metadata": {},
   "outputs": [
    {
     "name": "stdout",
     "output_type": "stream",
     "text": [
      "first ➞ 1\n",
      "middle ➞ [2, 3, 4, 5]\n",
      "last ➞ 6\n"
     ]
    }
   ],
   "source": [
    "first, *middle, last = [1,2,3,4,5,6]\n",
    "print(f'first ➞ {first}')\n",
    "print(f'middle ➞ {middle}')\n",
    "print(f'last ➞ {last}')"
   ]
  },
  {
   "cell_type": "markdown",
   "id": "6f1e57e5",
   "metadata": {},
   "source": [
    "### Question 4. Write a function that calculates the factorial of a number recursively.\n",
    "\n",
    "Examples:\n",
    "\n",
    "- factorial(5) ➞ 120\n",
    "- actorial(3) ➞ 6\n",
    "- factorial(1) ➞ 1\n",
    "- factorial(0) ➞ 1"
   ]
  },
  {
   "cell_type": "code",
   "execution_count": 9,
   "id": "69249b8b",
   "metadata": {},
   "outputs": [
    {
     "name": "stdout",
     "output_type": "stream",
     "text": [
      "factorial(5) ➞  120\n",
      "factorial(3) ➞  6\n",
      "factorial(1) ➞  1\n",
      "factorial(0) ➞  1\n"
     ]
    }
   ],
   "source": [
    "def factorial(n):\n",
    "    if n == 0:\n",
    "        return 1\n",
    "    return n * factorial(n-1)\n",
    "\n",
    "print(\"factorial(5) ➞ \",factorial(5))\n",
    "print(\"factorial(3) ➞ \",factorial(3))\n",
    "print(\"factorial(1) ➞ \",factorial(1))\n",
    "print(\"factorial(0) ➞ \",factorial(0))"
   ]
  },
  {
   "cell_type": "markdown",
   "id": "d51e06e1",
   "metadata": {},
   "source": [
    "### Question 5. Write a function that moves all elements of one type to the end of the list.\n",
    "\n",
    "Examples:\n",
    "\n",
    "- move_to_end([1, 3, 2, 4, 4, 1], 1) ➞ [3, 2, 4, 4, 1, 1]\n",
    "- move_to_end([7, 8, 9, 1, 2, 3, 4], 9) ➞ [7, 8, 1, 2, 3, 4, 9]\n",
    "- move_to_end([\"a\", \"a\", \"a\", \"b\"], \"a\") ➞ [\"b\", \"a\", \"a\", \"a\"]"
   ]
  },
  {
   "cell_type": "code",
   "execution_count": 3,
   "id": "b528e556",
   "metadata": {},
   "outputs": [
    {
     "name": "stdout",
     "output_type": "stream",
     "text": [
      "move_to_end([1, 3, 2, 4, 4, 1], 1) ➞  [3, 2, 4, 4, 1, 1]\n",
      "move_to_end([7, 8, 9, 1, 2, 3, 4], 9) ➞  [7, 8, 1, 2, 3, 4, 9]\n",
      "move_to_end([\"a\", \"a\", \"a\", \"b\"], \"a\") ➞  ['b', 'a', 'a', 'a']\n"
     ]
    }
   ],
   "source": [
    "def moveToEnd(L, ele):\n",
    "    new_list = []\n",
    "    last_elements = []\n",
    "    for i in L:\n",
    "        if i != ele:\n",
    "            new_list.append(i)\n",
    "        else:\n",
    "            last_elements.append(i)\n",
    "            \n",
    "    new_list.extend(last_elements)\n",
    "    return new_list\n",
    "print('move_to_end([1, 3, 2, 4, 4, 1], 1) ➞ ',moveToEnd([1, 3, 2, 4, 4, 1], 1))\n",
    "print('move_to_end([7, 8, 9, 1, 2, 3, 4], 9) ➞ ',moveToEnd([7, 8, 9, 1, 2, 3, 4], 9))\n",
    "print('move_to_end([\"a\", \"a\", \"a\", \"b\"], \"a\") ➞ ',moveToEnd([\"a\", \"a\", \"a\", \"b\"], \"a\"))"
   ]
  },
  {
   "cell_type": "code",
   "execution_count": null,
   "id": "fad779b0",
   "metadata": {},
   "outputs": [],
   "source": []
  }
 ],
 "metadata": {
  "kernelspec": {
   "display_name": "Python 3 (ipykernel)",
   "language": "python",
   "name": "python3"
  },
  "language_info": {
   "codemirror_mode": {
    "name": "ipython",
    "version": 3
   },
   "file_extension": ".py",
   "mimetype": "text/x-python",
   "name": "python",
   "nbconvert_exporter": "python",
   "pygments_lexer": "ipython3",
   "version": "3.9.13"
  }
 },
 "nbformat": 4,
 "nbformat_minor": 5
}
