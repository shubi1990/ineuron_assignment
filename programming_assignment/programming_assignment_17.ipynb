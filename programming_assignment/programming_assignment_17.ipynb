{
 "cells": [
  {
   "cell_type": "markdown",
   "id": "7727c2a9",
   "metadata": {},
   "source": [
    "### Question1.Create a function that takes three arguments a, b, c and returns the sum of the numbers that are evenly divided by c from the range a, b inclusive ?\n",
    "Examples:\n",
    "\n",
    "- evenly_divisible(1, 10, 20) ➞ 0 # No number between 1 and 10 can be evenly divided by 20.\n",
    "- evenly_divisible(1, 10, 2) ➞ 30 # 2 + 4 + 6 + 8 + 10 = 30 \n",
    "- evenly_divisible(1, 10, 3) ➞ 18 # 3 + 6 + 9 = 18"
   ]
  },
  {
   "cell_type": "code",
   "execution_count": 3,
   "id": "d0ebb357",
   "metadata": {},
   "outputs": [
    {
     "name": "stdout",
     "output_type": "stream",
     "text": [
      "evenly_divisible(1, 10, 20) ➞ 0\n",
      "evenly_divisible(1, 10, 2) ➞ 30\n",
      "evenly_divisible(1, 10, 3) ➞ 18\n"
     ]
    }
   ],
   "source": [
    "def evenDivisible(a,b,c):\n",
    "    sum = 0\n",
    "    for i in range(a, b+1):\n",
    "        if i%c == 0:\n",
    "            sum += i\n",
    "    print(f\"evenly_divisible{a,b,c} ➞ {sum}\")\n",
    "\n",
    "evenDivisible(1,10,20)\n",
    "evenDivisible(1,10,2)\n",
    "evenDivisible(1,10,3)"
   ]
  },
  {
   "cell_type": "markdown",
   "id": "2f193553",
   "metadata": {},
   "source": [
    "### Question2.Create a function that returns True if a given inequality expression is correct and False otherwise ?\n",
    "Examples:\n",
    "\n",
    "- correct_signs(\"3 < 7 < 11\") ➞ True\n",
    "- correct_signs(\"13 > 44 > 33 > 1\") ➞ False\n",
    "- correct_signs(\"1 < 2 < 6 < 9 > 3\") ➞ True"
   ]
  },
  {
   "cell_type": "code",
   "execution_count": 10,
   "id": "ab8bfe92",
   "metadata": {},
   "outputs": [
    {
     "name": "stdout",
     "output_type": "stream",
     "text": [
      "Enter expression : 3 < 7 < 11\n",
      "correct_signs(3 < 7 < 11) ➞ True\n",
      "Enter expression : 13 > 44 > 33 > 1\n",
      "correct_signs(13 > 44 > 33 > 1) ➞ False\n",
      "Enter expression : 1 < 2 < 6 < 9 > 3\n",
      "correct_signs(1 < 2 < 6 < 9 > 3) ➞ True\n"
     ]
    }
   ],
   "source": [
    "def equalityCheck():\n",
    "    exp = input(\"Enter expression : \")\n",
    "    out = eval(exp)\n",
    "    print(f\"correct_signs({exp}) ➞ {out}\")\n",
    "    \n",
    "for i in range(3):\n",
    "    equalityCheck()"
   ]
  },
  {
   "cell_type": "markdown",
   "id": "45edb389",
   "metadata": {},
   "source": [
    "### Question3.Create a function that replaces all the vowels in a string with a specified character ?\n",
    "Examples:\n",
    "\n",
    "- replace_vowels(\"the aardvark\", \"#\") ➞ \"th# ##rdv#rk\"\n",
    "- replace_vowels(\"minnie mouse\", \"?\") ➞ \"m?nn?? m??s?\"\n",
    "- replace_vowels(\"shakespeare\", \"*\") ➞ \"shksp**r\""
   ]
  },
  {
   "cell_type": "code",
   "execution_count": 24,
   "id": "06d205c6",
   "metadata": {},
   "outputs": [
    {
     "name": "stdout",
     "output_type": "stream",
     "text": [
      "replace_vowels(\"the aardvark\", \"#\") ➞ th# ##rdv#rk\n",
      "replace_vowels(\"minnie mouse\", \"?\") ➞ m?nn?? m??s?\n",
      "replace_vowels(\"shakespeare\", \"*\") ➞ sh*k*sp**r*\n"
     ]
    }
   ],
   "source": [
    "def replaceVowels(string, specified_character):\n",
    "    vowels = ['a','e','i','o','u']\n",
    "    new_string = \"\"\n",
    "    for i in string:\n",
    "        if i not in vowels:\n",
    "            new_string = new_string + i\n",
    "        else: \n",
    "            new_string = new_string + specified_character\n",
    "    return new_string\n",
    "    \n",
    "            \n",
    "print('replace_vowels(\"the aardvark\", \"#\") ➞',replaceVowels(\"the aardvark\", \"#\"))\n",
    "print('replace_vowels(\"minnie mouse\", \"?\") ➞',replaceVowels(\"minnie mouse\", \"?\"))\n",
    "print('replace_vowels(\"shakespeare\", \"*\") ➞',replaceVowels(\"shakespeare\", \"*\"))"
   ]
  },
  {
   "cell_type": "markdown",
   "id": "eacfac7e",
   "metadata": {},
   "source": [
    "### Question4.Write a function that calculates the factorial of a number recursively ?\n",
    "Examples:\n",
    "\n",
    "- factorial(5) ➞ 120\n",
    "- factorial(3) ➞ 6\n",
    "- factorial(1) ➞ 1\n",
    "- factorial(0) ➞ 1"
   ]
  },
  {
   "cell_type": "code",
   "execution_count": 21,
   "id": "76d2cf5c",
   "metadata": {},
   "outputs": [
    {
     "name": "stdout",
     "output_type": "stream",
     "text": [
      "factorial(5) ➞  120\n",
      "factorial(3) ➞  6\n",
      "factorial(1) ➞  1\n",
      "factorial(0) ➞  1\n"
     ]
    }
   ],
   "source": [
    "def factorial(n):\n",
    "    if n == 0:\n",
    "        return 1\n",
    "    return n * factorial(n-1)\n",
    "\n",
    "print(\"factorial(5) ➞ \",factorial(5))\n",
    "print(\"factorial(3) ➞ \",factorial(3))\n",
    "print(\"factorial(1) ➞ \",factorial(1))\n",
    "print(\"factorial(0) ➞ \",factorial(0))\n",
    "        "
   ]
  },
  {
   "cell_type": "markdown",
   "id": "da9689d9",
   "metadata": {},
   "source": [
    "### Question5.Hamming distance is the number of characters that differ between two strings ?\n",
    "To illustrate:\n",
    "\n",
    "String1: \"abcbba\"      String2: \"abcbda\"\n",
    "\n",
    "Hamming Distance: 1 - \"b\" vs. \"d\" is the only difference.\n",
    "\n",
    "Create a function that computes the hamming distance between two strings.\n",
    "\n",
    "Examples:\n",
    "\n",
    "- hamming_distance(\"abcde\", \"bcdef\") ➞ 5\n",
    "- hamming_distance(\"abcde\", \"abcde\") ➞ 0\n",
    "- hamming_distance(\"strong\", \"strung\") ➞ 1"
   ]
  },
  {
   "cell_type": "code",
   "execution_count": 28,
   "id": "fc99e3f3",
   "metadata": {},
   "outputs": [
    {
     "name": "stdout",
     "output_type": "stream",
     "text": [
      "hamming_distance(\"abcde\", \"bcdef\") ➞  5\n",
      "hamming_distance(\"abcde\", \"abcde\") ➞  0\n",
      "hamming_distance(\"strong\", \"strung\") ➞  1\n"
     ]
    }
   ],
   "source": [
    "def hammingDistance(String1, String2):\n",
    "    count = 0\n",
    "    for i in range(len(String1)):\n",
    "        if String1[i] != String2[i]:\n",
    "            count += 1\n",
    "    return count\n",
    "print('hamming_distance(\"abcde\", \"bcdef\") ➞ ', hammingDistance(\"abcde\", \"bcdef\"))\n",
    "print('hamming_distance(\"abcde\", \"abcde\") ➞ ', hammingDistance(\"abcde\", \"abcde\"))\n",
    "print('hamming_distance(\"strong\", \"strung\") ➞ ', hammingDistance(\"strong\", \"strung\"))"
   ]
  },
  {
   "cell_type": "code",
   "execution_count": null,
   "id": "b30668ac",
   "metadata": {},
   "outputs": [],
   "source": []
  }
 ],
 "metadata": {
  "kernelspec": {
   "display_name": "Python 3 (ipykernel)",
   "language": "python",
   "name": "python3"
  },
  "language_info": {
   "codemirror_mode": {
    "name": "ipython",
    "version": 3
   },
   "file_extension": ".py",
   "mimetype": "text/x-python",
   "name": "python",
   "nbconvert_exporter": "python",
   "pygments_lexer": "ipython3",
   "version": "3.9.13"
  }
 },
 "nbformat": 4,
 "nbformat_minor": 5
}
