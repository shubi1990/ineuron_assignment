{
 "cells": [
  {
   "cell_type": "markdown",
   "id": "2dd3d723",
   "metadata": {},
   "source": [
    "### Question1.Create a function that takes three parameters where:\n",
    "\n",
    "- x is the start of the range (inclusive).\n",
    "- y is the end of the range (inclusive).\n",
    "- n is the divisor to be checked against.\n",
    "\n",
    "Return an ordered list with numbers in the range that are divisible by the third parameter n.\n",
    "Return an empty list if there are no numbers that are divisible by n.\n",
    "Examples:\n",
    "\n",
    "- list_operation(1, 10, 3) ➞ [3, 6, 9]\n",
    "- list_operation(7, 9, 2) ➞ [8]\n",
    "- list_operation(15, 20, 7) ➞ []"
   ]
  },
  {
   "cell_type": "code",
   "execution_count": 1,
   "id": "d810fbf6",
   "metadata": {},
   "outputs": [
    {
     "name": "stdout",
     "output_type": "stream",
     "text": [
      "list_operation(1, 10, 3) ➞  [3, 6, 9]\n",
      "list_operation(7, 9, 2) ➞  [8]\n",
      "list_operation(15, 20, 7) ➞  []\n"
     ]
    }
   ],
   "source": [
    "def list_operation(x, y, n):\n",
    "    new_list = []\n",
    "    for i in range(x, y+1):\n",
    "        if i%n == 0 :\n",
    "            new_list.append(i)\n",
    "    return new_list\n",
    "\n",
    "print('list_operation(1, 10, 3) ➞ ', list_operation(1, 10, 3))\n",
    "print('list_operation(7, 9, 2) ➞ ', list_operation(7, 9, 2))\n",
    "print('list_operation(15, 20, 7) ➞ ', list_operation(15, 20, 7))"
   ]
  },
  {
   "cell_type": "markdown",
   "id": "872a1f37",
   "metadata": {},
   "source": [
    "### Question2. Create a function that takes in two lists and returns True if the second list follows the first list by one element, and False otherwise. In other words, determine if the second list is the firstlist shifted to the right by1.\n",
    "\n",
    "Examples:\n",
    "\n",
    "- simon_says([1, 2], [5, 1]) ➞ True\n",
    "- simon_says([1, 2], [5, 5]) ➞ False\n",
    "- simon_says([1, 2, 3, 4, 5], [0, 1, 2, 3, 4]) ➞ True\n",
    "- simon_says([1, 2, 3, 4, 5], [5, 5, 1, 2, 3]) ➞ False\n",
    "\n",
    "Notes:\n",
    "\n",
    "1. Both input lists will be of the same length, and will have a minimum length of 2.\n",
    "2. The values of the 0-indexed element in the second list and the n-1th indexed element in the first list do not matter."
   ]
  },
  {
   "cell_type": "code",
   "execution_count": 5,
   "id": "10ec13c8",
   "metadata": {},
   "outputs": [
    {
     "name": "stdout",
     "output_type": "stream",
     "text": [
      "simon_says([1, 2], [5, 1]) ➞  True\n",
      "simon_says([1, 2], [5, 5]) ➞  False\n",
      "simon_says([1, 2, 3, 4, 5], [0, 1, 2, 3, 4]) ➞  True\n",
      "simon_says([1, 2, 3, 4, 5], [5, 5, 1, 2, 3]) ➞  False\n"
     ]
    }
   ],
   "source": [
    "def simon_says(L1, L2):\n",
    "    if (len(L1) == len(L2)) and (len(L1)>=2) and (len(L2)>=2):\n",
    "        if L1[0] == L2[1]:\n",
    "            return True\n",
    "        return False\n",
    "    \n",
    "print('simon_says([1, 2], [5, 1]) ➞ ', simon_says([1, 2], [5, 1]))\n",
    "print('simon_says([1, 2], [5, 5]) ➞ ', simon_says([1, 2], [5, 5]))\n",
    "print('simon_says([1, 2, 3, 4, 5], [0, 1, 2, 3, 4]) ➞ ', simon_says([1, 2, 3, 4, 5], [0, 1, 2, 3, 4]))\n",
    "print('simon_says([1, 2, 3, 4, 5], [5, 5, 1, 2, 3]) ➞ ', simon_says([1, 2, 3, 4, 5], [5, 5, 1, 2, 3]))"
   ]
  },
  {
   "cell_type": "markdown",
   "id": "d3ba07e8",
   "metadata": {},
   "source": [
    "### Question3. A group of friends have decided to start a secret society. The name will be the first letter of each of their names, sorted in alphabetical order. Create a function that takes in a list of names and returns the name of the secret society.\n",
    "\n",
    "Examples:\n",
    "\n",
    "1. society_name([\"Adam\", \"Sarah\", \"Malcolm\"]) ➞ \"AMS\"\n",
    "2. society_name([\"Harry\", \"Newt\", \"Luna\", \"Cho\"]) ➞ \"CHLN\"\n",
    "3. society_name([\"Phoebe\", \"Chandler\", \"Rachel\", \"Ross\", \"Monica\", \"Joey\"])"
   ]
  },
  {
   "cell_type": "code",
   "execution_count": 7,
   "id": "7036b4b6",
   "metadata": {},
   "outputs": [
    {
     "name": "stdout",
     "output_type": "stream",
     "text": [
      "society_name([\"Adam\", \"Sarah\", \"Malcolm\"]) ➞  AMS\n",
      "society_name([\"Harry\", \"Newt\", \"Luna\", \"Cho\"]) ➞  CHLN\n",
      "society_name([\"Phoebe\", \"Chandler\", \"Rachel\", \"Ross\", \"Monica\", \"Joey\"]) ➞  CJMPRR\n"
     ]
    }
   ],
   "source": [
    "def society_name(L):\n",
    "    out = \"\"\n",
    "    for i in sorted(L):\n",
    "        out += i[0]\n",
    "    return out\n",
    "\n",
    "print('society_name([\"Adam\", \"Sarah\", \"Malcolm\"]) ➞ ', society_name([\"Adam\", \"Sarah\", \"Malcolm\"]))\n",
    "print('society_name([\"Harry\", \"Newt\", \"Luna\", \"Cho\"]) ➞ ', society_name([\"Harry\", \"Newt\", \"Luna\", \"Cho\"]))\n",
    "print('society_name([\"Phoebe\", \"Chandler\", \"Rachel\", \"Ross\", \"Monica\", \"Joey\"]) ➞ ', society_name([\"Phoebe\", \"Chandler\", \"Rachel\", \"Ross\", \"Monica\", \"Joey\"]))"
   ]
  },
  {
   "cell_type": "markdown",
   "id": "486716e5",
   "metadata": {},
   "source": [
    "### Question4. An isogram is a word that has no duplicate letters. Create a function that takes a string and returns either True or False depending on whether or not it's an \"isogram\".\n",
    "\n",
    "Examples:\n",
    "\n",
    "1. is_isogram(\"Algorism\") ➞ True\n",
    "2. is_isogram(\"PasSword\") ➞ False\n",
    "###### Not case sensitive.\n",
    "3. is_isogram(\"Consecutive\") ➞ False\n",
    "\n",
    "Notes\n",
    "- Ignore letter case (should not be case sensitive).\n",
    "- All test cases contain valid one word strings."
   ]
  },
  {
   "cell_type": "code",
   "execution_count": 17,
   "id": "6116971b",
   "metadata": {},
   "outputs": [
    {
     "name": "stdout",
     "output_type": "stream",
     "text": [
      "is_isogram(\"Algorism\") ➞  True\n",
      "is_isogram(\"PasSword\") ➞  False\n",
      "is_isogram(\"Consecutive\") ➞  False\n",
      "is_isogram(\"Chandler\") ➞  True\n"
     ]
    }
   ],
   "source": [
    "def is_isogram(string):\n",
    "    new_string = string.lower()\n",
    "    for i in new_string:\n",
    "        if new_string.count(i) > 1:\n",
    "            return False\n",
    "    return True\n",
    "    \n",
    "print('is_isogram(\"Algorism\") ➞ ',is_isogram(\"Algorism\"))\n",
    "print('is_isogram(\"PasSword\") ➞ ',is_isogram(\"PasSword\"))\n",
    "print('is_isogram(\"Consecutive\") ➞ ',is_isogram(\"Consecutive\"))\n",
    "print('is_isogram(\"Chandler\") ➞ ',is_isogram(\"Chandler\"))"
   ]
  },
  {
   "cell_type": "markdown",
   "id": "03609119",
   "metadata": {},
   "source": [
    "### Question5. Create a function that takes a string and returns True or False, depending on whether the characters are in order or not ?\n",
    "\n",
    "Examples:\n",
    "\n",
    "1. is_in_order(\"abc\") ➞ True\n",
    "2. is_in_order(\"edabit\") ➞ False\n",
    "3. is_in_order(\"123\") ➞ True\n",
    "4. is_in_order(\"xyzz\") ➞ True\n",
    "\n",
    "Notes:\n",
    "You don't have to handle empty strings."
   ]
  },
  {
   "cell_type": "code",
   "execution_count": 19,
   "id": "fbddaf8a",
   "metadata": {},
   "outputs": [
    {
     "name": "stdout",
     "output_type": "stream",
     "text": [
      "is_in_order(\"abc\") ➞  True\n",
      "is_in_order(\"edabit\") ➞  False\n",
      "is_in_order(\"123\") ➞  True\n",
      "is_in_order(\"xyzz\") ➞  True\n"
     ]
    }
   ],
   "source": [
    "def is_in_order(string):\n",
    "    ordered_string = \"\".join(sorted(string))\n",
    "    if string == ordered_string:\n",
    "        return True\n",
    "    return False\n",
    "\n",
    "print('is_in_order(\"abc\") ➞ ', is_in_order(\"abc\"))\n",
    "print('is_in_order(\"edabit\") ➞ ', is_in_order(\"edabit\"))\n",
    "print('is_in_order(\"123\") ➞ ', is_in_order(\"123\"))\n",
    "print('is_in_order(\"xyzz\") ➞ ', is_in_order(\"xyzz\"))"
   ]
  },
  {
   "cell_type": "code",
   "execution_count": null,
   "id": "026cd8a3",
   "metadata": {},
   "outputs": [],
   "source": []
  }
 ],
 "metadata": {
  "kernelspec": {
   "display_name": "Python 3 (ipykernel)",
   "language": "python",
   "name": "python3"
  },
  "language_info": {
   "codemirror_mode": {
    "name": "ipython",
    "version": 3
   },
   "file_extension": ".py",
   "mimetype": "text/x-python",
   "name": "python",
   "nbconvert_exporter": "python",
   "pygments_lexer": "ipython3",
   "version": "3.9.13"
  }
 },
 "nbformat": 4,
 "nbformat_minor": 5
}
