{
 "cells": [
  {
   "cell_type": "markdown",
   "id": "74ad96e5",
   "metadata": {},
   "source": [
    "## 1. Write a Python Program to find sum of array?"
   ]
  },
  {
   "cell_type": "code",
   "execution_count": 1,
   "id": "68a761c6",
   "metadata": {},
   "outputs": [
    {
     "name": "stdout",
     "output_type": "stream",
     "text": [
      "The sum of array elements are =  15\n"
     ]
    }
   ],
   "source": [
    "import array\n",
    "arr= array.array(\"i\", [1, 2, 3, 4, 5])\n",
    "print(\"The sum of array elements are = \", sum(arr))"
   ]
  },
  {
   "cell_type": "markdown",
   "id": "860207b9",
   "metadata": {},
   "source": [
    "## 2. Write a Python Program to find largest element in an array?"
   ]
  },
  {
   "cell_type": "code",
   "execution_count": 4,
   "id": "63994127",
   "metadata": {},
   "outputs": [
    {
     "name": "stdout",
     "output_type": "stream",
     "text": [
      "The largest element =  5\n"
     ]
    }
   ],
   "source": [
    "arr= array.array(\"i\", [1, 2, 3, 4, 5])\n",
    "def large_ele(arr):\n",
    "    largest = arr[0]\n",
    "    for i in range(len(arr)):\n",
    "        if arr[i] > largest:\n",
    "            largest = arr[i]\n",
    "    return largest\n",
    "print(\"The largest element = \", large_ele(arr))\n",
    "    "
   ]
  },
  {
   "cell_type": "markdown",
   "id": "cf08aaf1",
   "metadata": {},
   "source": [
    "## 3. Write a Python Program for array rotation?"
   ]
  },
  {
   "cell_type": "code",
   "execution_count": 11,
   "id": "98585224",
   "metadata": {},
   "outputs": [
    {
     "name": "stdout",
     "output_type": "stream",
     "text": [
      "5\n",
      "4\n",
      "3\n",
      "2\n",
      "1\n"
     ]
    }
   ],
   "source": [
    "arr= array.array(\"i\", [1, 2, 3, 4, 5])\n",
    "rotated_arr=  arr[::-1]\n",
    "for i in range(len(rotated_arr)):\n",
    "    print(rotated_arr[i])"
   ]
  },
  {
   "cell_type": "markdown",
   "id": "4e3e9581",
   "metadata": {},
   "source": [
    "## 4. Write a Python Program to Split the array and add the first part to the end?"
   ]
  },
  {
   "cell_type": "code",
   "execution_count": 13,
   "id": "15d1688e",
   "metadata": {},
   "outputs": [
    {
     "name": "stdout",
     "output_type": "stream",
     "text": [
      "4 5 1 2 3 "
     ]
    }
   ],
   "source": [
    "arr= array.array(\"i\", [1, 2, 3, 4, 5])\n",
    "n = len(arr)\n",
    "p = 3\n",
    "\n",
    "def split_array(arr, n, p):\n",
    "    arr2 = arr[:p]\n",
    "    return (arr[p:] + arr2[::])\n",
    "arr = split_array(arr, n, p)\n",
    "for i in range(0, n):\n",
    "    print(arr[i], end=\" \")\n"
   ]
  },
  {
   "cell_type": "markdown",
   "id": "8f5827b8",
   "metadata": {},
   "source": [
    "## 5. Write a Python Program to check if given array is Monotonic?"
   ]
  },
  {
   "cell_type": "code",
   "execution_count": 7,
   "id": "82b4ce98",
   "metadata": {},
   "outputs": [
    {
     "name": "stdout",
     "output_type": "stream",
     "text": [
      "Is the given array monotonic :  True\n"
     ]
    }
   ],
   "source": [
    "arr= array.array(\"i\", [1,2,3,4,5])\n",
    "n = len(arr) \n",
    "def check_monotonic(arr):\n",
    "    if (all(arr[i] <= arr[i+1] for i in range(0, n-1)) or all(arr[i] >= arr[i+1] for i in range(0, n-1))):\n",
    "        return True\n",
    "    else: \n",
    "        return False\n",
    "    \n",
    "print(\"Is the given array monotonic : \", check_monotonic(arr))\n"
   ]
  },
  {
   "cell_type": "code",
   "execution_count": null,
   "id": "dcc38c2c",
   "metadata": {},
   "outputs": [],
   "source": []
  },
  {
   "cell_type": "code",
   "execution_count": null,
   "id": "5280fd9e",
   "metadata": {},
   "outputs": [],
   "source": []
  }
 ],
 "metadata": {
  "kernelspec": {
   "display_name": "Python 3 (ipykernel)",
   "language": "python",
   "name": "python3"
  },
  "language_info": {
   "codemirror_mode": {
    "name": "ipython",
    "version": 3
   },
   "file_extension": ".py",
   "mimetype": "text/x-python",
   "name": "python",
   "nbconvert_exporter": "python",
   "pygments_lexer": "ipython3",
   "version": "3.8.8"
  }
 },
 "nbformat": 4,
 "nbformat_minor": 5
}
