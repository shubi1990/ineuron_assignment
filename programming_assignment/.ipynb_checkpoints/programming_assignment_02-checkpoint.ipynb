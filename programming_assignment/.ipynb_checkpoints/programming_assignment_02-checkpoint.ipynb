{
 "cells": [
  {
   "cell_type": "markdown",
   "id": "dee68ff2",
   "metadata": {},
   "source": [
    "## 1. Write a Python program to convert kilometers to miles?"
   ]
  },
  {
   "cell_type": "code",
   "execution_count": 1,
   "id": "539dc2d8",
   "metadata": {},
   "outputs": [
    {
     "name": "stdout",
     "output_type": "stream",
     "text": [
      "Enter the no. of kilometers = 4\n",
      "4.0 kilometer is equal to 2.485484 miles \n"
     ]
    }
   ],
   "source": [
    "km = float(input(\"Enter distance in  kilometers = \"))\n",
    "print(\"{} kilometer is equal to {} miles. \".format(km, km*0.621371))"
   ]
  },
  {
   "cell_type": "markdown",
   "id": "1b7c4cb0",
   "metadata": {},
   "source": [
    "## 2. Write a Python program to convert Celsius to Fahrenheit?"
   ]
  },
  {
   "cell_type": "code",
   "execution_count": 3,
   "id": "c81569f5",
   "metadata": {},
   "outputs": [
    {
     "name": "stdout",
     "output_type": "stream",
     "text": [
      "Enter temprature in celsius = 20\n",
      "20.0 celsius is equal to 68.0 fahrenheit. \n"
     ]
    }
   ],
   "source": [
    "C = float(input(\"Enter temprature in celsius = \"))\n",
    "F = (C*(9/5))+32\n",
    "print(\"{} celsius is equal to {} fahrenheit. \".format(C, F))"
   ]
  },
  {
   "cell_type": "markdown",
   "id": "793c5c9f",
   "metadata": {},
   "source": [
    "## 3. Write a Python program to display calendar?"
   ]
  },
  {
   "cell_type": "code",
   "execution_count": 5,
   "id": "507ed1ab",
   "metadata": {},
   "outputs": [
    {
     "name": "stdout",
     "output_type": "stream",
     "text": [
      "Enter the year = 2022\n",
      "                                  2022\n",
      "\n",
      "      January                   February                   March\n",
      "Mo Tu We Th Fr Sa Su      Mo Tu We Th Fr Sa Su      Mo Tu We Th Fr Sa Su\n",
      "                1  2          1  2  3  4  5  6          1  2  3  4  5  6\n",
      " 3  4  5  6  7  8  9       7  8  9 10 11 12 13       7  8  9 10 11 12 13\n",
      "10 11 12 13 14 15 16      14 15 16 17 18 19 20      14 15 16 17 18 19 20\n",
      "17 18 19 20 21 22 23      21 22 23 24 25 26 27      21 22 23 24 25 26 27\n",
      "24 25 26 27 28 29 30      28                        28 29 30 31\n",
      "31\n",
      "\n",
      "       April                      May                       June\n",
      "Mo Tu We Th Fr Sa Su      Mo Tu We Th Fr Sa Su      Mo Tu We Th Fr Sa Su\n",
      "             1  2  3                         1             1  2  3  4  5\n",
      " 4  5  6  7  8  9 10       2  3  4  5  6  7  8       6  7  8  9 10 11 12\n",
      "11 12 13 14 15 16 17       9 10 11 12 13 14 15      13 14 15 16 17 18 19\n",
      "18 19 20 21 22 23 24      16 17 18 19 20 21 22      20 21 22 23 24 25 26\n",
      "25 26 27 28 29 30         23 24 25 26 27 28 29      27 28 29 30\n",
      "                          30 31\n",
      "\n",
      "        July                     August                  September\n",
      "Mo Tu We Th Fr Sa Su      Mo Tu We Th Fr Sa Su      Mo Tu We Th Fr Sa Su\n",
      "             1  2  3       1  2  3  4  5  6  7                1  2  3  4\n",
      " 4  5  6  7  8  9 10       8  9 10 11 12 13 14       5  6  7  8  9 10 11\n",
      "11 12 13 14 15 16 17      15 16 17 18 19 20 21      12 13 14 15 16 17 18\n",
      "18 19 20 21 22 23 24      22 23 24 25 26 27 28      19 20 21 22 23 24 25\n",
      "25 26 27 28 29 30 31      29 30 31                  26 27 28 29 30\n",
      "\n",
      "      October                   November                  December\n",
      "Mo Tu We Th Fr Sa Su      Mo Tu We Th Fr Sa Su      Mo Tu We Th Fr Sa Su\n",
      "                1  2          1  2  3  4  5  6                1  2  3  4\n",
      " 3  4  5  6  7  8  9       7  8  9 10 11 12 13       5  6  7  8  9 10 11\n",
      "10 11 12 13 14 15 16      14 15 16 17 18 19 20      12 13 14 15 16 17 18\n",
      "17 18 19 20 21 22 23      21 22 23 24 25 26 27      19 20 21 22 23 24 25\n",
      "24 25 26 27 28 29 30      28 29 30                  26 27 28 29 30 31\n",
      "31\n",
      "\n"
     ]
    }
   ],
   "source": [
    "import calendar\n",
    "y = int(input('Enter the year = ')) \n",
    "print(calendar.calendar(y))"
   ]
  },
  {
   "cell_type": "markdown",
   "id": "bfc03ddb",
   "metadata": {},
   "source": [
    "## 4. Write a Python program to solve quadratic equation?"
   ]
  },
  {
   "cell_type": "code",
   "execution_count": 9,
   "id": "c83eb1c4",
   "metadata": {},
   "outputs": [
    {
     "name": "stdout",
     "output_type": "stream",
     "text": [
      "Enter the value of a = 2\n",
      "Enter the value of b = 3\n",
      "Enter the value of c = 4\n",
      "The result is (-0.75-1.1989578808281798j) and (-0.75+1.1989578808281798j)\n"
     ]
    }
   ],
   "source": [
    "#quadratic equation = ax^2+bx+c=0. where a, b and c = known numbers, also a ≠ 0 x = the unknown value\n",
    "#descriminant = b2 - (4*a*c)\n",
    "#x1 = (-b-sqrt(d))/2\n",
    "#x2 = (b-sqrt(d))/2\n",
    "\n",
    "import cmath\n",
    "a = int(input(\"Enter the value of a = \"))\n",
    "b = int(input(\"Enter the value of b = \"))\n",
    "c = int(input(\"Enter the value of c = \"))\n",
    "\n",
    "d = (b**2) - (4*a*c)\n",
    "\n",
    "x1 = (-b-cmath.sqrt(d))/(2 * a)\n",
    "x2 = (-b+cmath.sqrt(d))/(2 * a)\n",
    "\n",
    "print('The result is {0} and {1}'.format(x1,x2))"
   ]
  },
  {
   "cell_type": "markdown",
   "id": "d25b1ca9",
   "metadata": {},
   "source": [
    "## 5. Write a Python program to swap two variables without temp variable?"
   ]
  },
  {
   "cell_type": "code",
   "execution_count": 11,
   "id": "6ebc2c52",
   "metadata": {},
   "outputs": [
    {
     "name": "stdout",
     "output_type": "stream",
     "text": [
      "Enter first var = 2\n",
      "Enter second var = 3\n",
      "After swapping the variables are : 3 2\n"
     ]
    }
   ],
   "source": [
    "a = input(\"Enter first var = \")\n",
    "b = input(\"Enter second var = \")\n",
    "a, b = b, a\n",
    "print(\"After swapping the variables are :\", a, b)"
   ]
  },
  {
   "cell_type": "code",
   "execution_count": null,
   "id": "1007aec8",
   "metadata": {},
   "outputs": [],
   "source": []
  }
 ],
 "metadata": {
  "kernelspec": {
   "display_name": "Python 3 (ipykernel)",
   "language": "python",
   "name": "python3"
  },
  "language_info": {
   "codemirror_mode": {
    "name": "ipython",
    "version": 3
   },
   "file_extension": ".py",
   "mimetype": "text/x-python",
   "name": "python",
   "nbconvert_exporter": "python",
   "pygments_lexer": "ipython3",
   "version": "3.8.8"
  }
 },
 "nbformat": 4,
 "nbformat_minor": 5
}
