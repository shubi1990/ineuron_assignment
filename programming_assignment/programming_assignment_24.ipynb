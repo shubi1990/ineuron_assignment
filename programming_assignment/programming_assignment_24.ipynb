{
 "cells": [
  {
   "cell_type": "markdown",
   "id": "f2cc746c",
   "metadata": {},
   "source": [
    "### Question1 Create a function that takes an integer and returns a list from 1 to the given number, where:\n",
    "1. If the number can be divided evenly by 4, amplify it by 10 (i.e. return 10 times the number).\n",
    "2. If the number cannot be divided evenly by 4, simply return the number.\n",
    "\n",
    "Examples:\n",
    "```amplify(4) ➞ [1, 2, 3, 40]\n",
    "amplify(3) ➞ [1, 2, 3]\n",
    "amplify(25) ➞ [1, 2, 3, 40, 5, 6, 7, 80, 9, 10, 11, 120, 13, 14, 15, 160, 17, 18, 19, 200, 21, 22, 23, 240, 25]\n",
    "Notes:```\n",
    "- The given integer will always be equal to or greater than 1.\n",
    "- Include the number (see example above).\n",
    "- To perform this problem with its intended purpose, try doing it with list comprehensions. If that&#39;s too difficult, just     solve the challenge any way you can."
   ]
  },
  {
   "cell_type": "code",
   "execution_count": 1,
   "id": "95076d1c",
   "metadata": {},
   "outputs": [
    {
     "name": "stdout",
     "output_type": "stream",
     "text": [
      "amplify(4) ➞  [1, 2, 3, 40]\n",
      "amplify(3) ➞  [1, 2, 3]\n",
      "amplify(25) ➞  [1, 2, 3, 40, 5, 6, 7, 80, 9, 10, 11, 120, 13, 14, 15, 160, 17, 18, 19, 200, 21, 22, 23, 240, 25]\n"
     ]
    }
   ],
   "source": [
    "def amplify(n):\n",
    "    return [i*10 if i%4==0 else i for i in range(1, n+1) ]\n",
    "\n",
    "print('amplify(4) ➞ ', amplify(4))\n",
    "print('amplify(3) ➞ ', amplify(3))\n",
    "print('amplify(25) ➞ ', amplify(25))"
   ]
  },
  {
   "cell_type": "markdown",
   "id": "9a8068ec",
   "metadata": {},
   "source": [
    "### Question2 Create a function that takes a list of numbers and return the number that&#39;s unique.\n",
    "Examples:\n",
    "```unique([3, 3, 3, 7, 3, 3]) ➞ 7\n",
    "unique([0, 0, 0.77, 0, 0]) ➞ 0.77\n",
    "unique([0, 1, 1, 1, 1, 1, 1, 1]) ➞ 0\n",
    "Notes:\n",
    "Test cases will always have exactly one unique number while all others are the same.```"
   ]
  },
  {
   "cell_type": "code",
   "execution_count": 20,
   "id": "01cc13f9",
   "metadata": {},
   "outputs": [
    {
     "name": "stdout",
     "output_type": "stream",
     "text": [
      "unique([3, 3, 3, 7, 3, 3]) ➞  7\n",
      "unique([0, 0, 0.77, 0, 0]) ➞  0.77\n",
      "unique([0, 1, 1, 1, 1, 1, 1, 1]) ➞  0\n"
     ]
    }
   ],
   "source": [
    "def unique(L):\n",
    "    for i in set(L):\n",
    "        if L.count(i) == 1:\n",
    "            return i\n",
    "print('unique([3, 3, 3, 7, 3, 3]) ➞ ', unique([3, 3, 3, 7, 3, 3]))\n",
    "print('unique([0, 0, 0.77, 0, 0]) ➞ ', unique([0, 0, 0.77, 0, 0]))\n",
    "print('unique([0, 1, 1, 1, 1, 1, 1, 1]) ➞ ', unique([0, 1, 1, 1, 1, 1, 1, 1]))"
   ]
  },
  {
   "cell_type": "markdown",
   "id": "ee161126",
   "metadata": {},
   "source": [
    "### Question3 Your task is to create a Circle constructor that creates a circle with a radius provided by an argument. The circles constructed must have two getters getArea() (PIr^2) and getPerimeter() (2PI*r) which give both respective areas and perimeter (circumference). For help with this class, I have provided you with a Rectangle constructor which you can use as a base example.\n",
    "Examples:\n",
    "```circy = Circle(11)\n",
    "circy.getArea()\n",
    "Should return 380.132711084365\n",
    "circy = Circle(4.44)\n",
    "circy.getPerimeter()\n",
    "Should return 27.897342763877365\n",
    "Notes:\n",
    "Round results up to the nearest integer.```"
   ]
  },
  {
   "cell_type": "code",
   "execution_count": 24,
   "id": "1dce2b0e",
   "metadata": {},
   "outputs": [
    {
     "name": "stdout",
     "output_type": "stream",
     "text": [
      "380.132711084365\n",
      "27.897342763877365\n"
     ]
    }
   ],
   "source": [
    "import math\n",
    "class Circle:\n",
    "    def __init__(self, radius):\n",
    "        self.radius = radius\n",
    "        \n",
    "    def getArea(self):\n",
    "        return (math.pi)*(self.radius**2)\n",
    "    \n",
    "    def getPerimeter(self):\n",
    "        return 2*(math.pi)*(self.radius)\n",
    "    \n",
    "circy = Circle(11)\n",
    "print(circy.getArea())\n",
    "circy = Circle(4.44)\n",
    "print(circy.getPerimeter())"
   ]
  },
  {
   "cell_type": "markdown",
   "id": "a76f5ed1",
   "metadata": {},
   "source": [
    "### Question4 Create a function that takes a list of strings and return a list, sorted from shortest to longest.\n",
    "Examples:\n",
    "```sort_by_length([\"Google\", \"Apple\", \"Microsoft\"]) ➞ [\"Apple\", \"Google\", \"Microsoft\"]\n",
    "sort_by_length([\"Leonardo\", \"Michelangelo\", \"Raphael\", \"Donatello\"]) ➞ [\"Raphael\", \"Leonardo\", \"Donatello\", \"Michelangelo\"]\n",
    "sort_by_length([\"Turing\", \"Einstein\", \"Jung\"]) ➞ [\"Jung\", \"Turing\", \"Einstein\"]```\n",
    "\n",
    "Notes:\n",
    "All test cases contain lists with strings of different lengths, so you won&#39;t have to deal with\n",
    "multiple strings of the same length."
   ]
  },
  {
   "cell_type": "code",
   "execution_count": 29,
   "id": "0ec19c89",
   "metadata": {},
   "outputs": [
    {
     "name": "stdout",
     "output_type": "stream",
     "text": [
      "sort_by_length([\"Google\", \"Apple\", \"Microsoft\"]) ➞  ['Apple', 'Google', 'Microsoft']\n",
      "sort_by_length([\"Leonardo\", \"Michelangelo\", \"Raphael\", \"Donatello\"]) ➞  ['Raphael', 'Leonardo', 'Donatello', 'Michelangelo']\n",
      "sort_by_length([\"Turing\", \"Einstein\", \"Jung\"]) ➞  ['Jung', 'Turing', 'Einstein']\n"
     ]
    }
   ],
   "source": [
    "def sort_by_length(L):\n",
    "    return sorted(L, key=lambda x : len(x))\n",
    "\n",
    "print('sort_by_length([\"Google\", \"Apple\", \"Microsoft\"]) ➞ ', sort_by_length([\"Google\", \"Apple\", \"Microsoft\"]))\n",
    "print('sort_by_length([\"Leonardo\", \"Michelangelo\", \"Raphael\", \"Donatello\"]) ➞ ', sort_by_length([\"Leonardo\", \"Michelangelo\", \"Raphael\", \"Donatello\"]))\n",
    "print('sort_by_length([\"Turing\", \"Einstein\", \"Jung\"]) ➞ ', sort_by_length([\"Turing\", \"Einstein\", \"Jung\"]))"
   ]
  },
  {
   "cell_type": "markdown",
   "id": "fa5f3e11",
   "metadata": {},
   "source": [
    "### Question5 Create a function that validates whether three given integers form a Pythagorean triplet. The sum of the squares of the two smallest integers must equal the square of the largest number to be validated.\n",
    "\n",
    "```Examples:\n",
    "is_triplet(3, 4, 5) ➞ True\n",
    "3² + 4² = 25\n",
    "5² = 25\n",
    "is_triplet(13, 5, 12) ➞ True\n",
    "5² + 12² = 169\n",
    "13² = 169\n",
    "is_triplet(1, 2, 3) ➞ False\n",
    "1² + 2² = 5\n",
    "3² = 9\n",
    "Notes:\n",
    "Numbers may not be given in a sorted order.```"
   ]
  },
  {
   "cell_type": "code",
   "execution_count": 32,
   "id": "ff6e51ee",
   "metadata": {},
   "outputs": [
    {
     "name": "stdout",
     "output_type": "stream",
     "text": [
      "is_triplet(3, 4, 5) ➞  True\n",
      "is_triplet(13, 5, 12) ➞  True\n",
      "is_triplet(1, 2, 3) ➞  False\n"
     ]
    }
   ],
   "source": [
    "def is_triplet(a, b, c):\n",
    "    if a > c:\n",
    "        a, c = c, a\n",
    "    if b > c:\n",
    "        b, c = c, b\n",
    "\n",
    "    \n",
    "    if a**2 + b**2 == c**2:\n",
    "        return True\n",
    "    return False\n",
    "\n",
    "print('is_triplet(3, 4, 5) ➞ ', is_triplet(3, 4, 5))\n",
    "print('is_triplet(13, 5, 12) ➞ ', is_triplet(13, 5, 12))\n",
    "print('is_triplet(1, 2, 3) ➞ ', is_triplet(1, 2, 3))"
   ]
  },
  {
   "cell_type": "code",
   "execution_count": null,
   "id": "18bf9879",
   "metadata": {},
   "outputs": [],
   "source": []
  }
 ],
 "metadata": {
  "kernelspec": {
   "display_name": "Python 3 (ipykernel)",
   "language": "python",
   "name": "python3"
  },
  "language_info": {
   "codemirror_mode": {
    "name": "ipython",
    "version": 3
   },
   "file_extension": ".py",
   "mimetype": "text/x-python",
   "name": "python",
   "nbconvert_exporter": "python",
   "pygments_lexer": "ipython3",
   "version": "3.9.13"
  }
 },
 "nbformat": 4,
 "nbformat_minor": 5
}
