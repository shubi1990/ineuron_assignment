{
 "cells": [
  {
   "cell_type": "markdown",
   "id": "a3f5b66e",
   "metadata": {},
   "source": [
    "## Question 1:\n",
    "Define a class with a generator which can iterate the numbers, which are divisible by\n",
    "7, between a given range 0 and n."
   ]
  },
  {
   "cell_type": "code",
   "execution_count": 3,
   "id": "94f89526",
   "metadata": {},
   "outputs": [
    {
     "name": "stdout",
     "output_type": "stream",
     "text": [
      "Enter the number range : 500\n",
      "0 7 14 21 28 35 42 49 56 63 70 77 84 91 98 105 112 119 126 133 140 147 154 161 168 175 182 189 196 203 210 217 224 231 238 245 252 259 266 273 280 287 294 301 308 315 322 329 336 343 350 357 364 371 378 385 392 399 406 413 420 427 434 441 448 455 462 469 476 483 490 497 "
     ]
    }
   ],
   "source": [
    "n = int(input(\"Enter the number range : \"))\n",
    "\n",
    "\n",
    "class div_generator:\n",
    "    def __init__(self,in_num):\n",
    "        self.in_num = in_num\n",
    "    def get_numbers(self):\n",
    "        for i in range(0,self.in_num+1):\n",
    "            if i%7 == 0:\n",
    "                yield i\n",
    "                \n",
    "\n",
    "output = div_generator(n)\n",
    "for i in output.get_numbers():\n",
    "    print(i,end=' ')"
   ]
  },
  {
   "cell_type": "markdown",
   "id": "0f20f71d",
   "metadata": {},
   "source": [
    "## Question 2:\n",
    "Write a program to compute the frequency of the words from the input. The output should output after sorting the key alphanumerically.\n",
    "\n",
    "Suppose the following input is supplied to the program:\n",
    "\n",
    "New to Python or choosing between Python 2 and Python 3? Read Python 2 or Python 3.Then, the output should be:\n",
    "\n",
    "2:2\n",
    "\n",
    "3.:1\n",
    "\n",
    "3?:1\n",
    "\n",
    "New:1\n",
    "\n",
    "Python:5\n",
    "\n",
    "Read:1\n",
    "\n",
    "and:1\n",
    "\n",
    "between:1\n",
    "\n",
    "choosing:1\n",
    "\n",
    "or:2\n",
    "\n",
    "to:1\n"
   ]
  },
  {
   "cell_type": "code",
   "execution_count": 10,
   "id": "67052876",
   "metadata": {},
   "outputs": [
    {
     "name": "stdout",
     "output_type": "stream",
     "text": [
      "Enter the stringNew to Python or choosing between Python 2 and Python 3? Read Python 2 or Python 3.\n",
      "New:1 to:1 Python:5 or:2 choosing:1 between:1 2:2 and:1 3?:1 Read:1 3.:1 "
     ]
    }
   ],
   "source": [
    "def checkFrequency():\n",
    "    \n",
    "        input_string=input(\"Enter the string : \")\n",
    "        frequency = {}\n",
    "        for i in input_string.split():\n",
    "            if (frequency.get(i)==None):\n",
    "                 frequency[i]=1\n",
    "            else:\n",
    "                frequency[i]+=1\n",
    "        for i in frequency:\n",
    "            print(f'{i}:{frequency[i]}',end=' ')\n",
    "checkFrequency()\n",
    "        "
   ]
  },
  {
   "cell_type": "markdown",
   "id": "6c7ed2b1",
   "metadata": {},
   "source": [
    "## Question 3:\n",
    "Define a class Person and its two child classes: Male and Female. All classes have a\n",
    "method &quot;getGender&quot; which can print &quot;Male&quot; for Male class and &quot;Female&quot; for Female\n",
    "class.\n",
    "       "
   ]
  },
  {
   "cell_type": "code",
   "execution_count": 14,
   "id": "27fcbb4a",
   "metadata": {},
   "outputs": [
    {
     "name": "stdout",
     "output_type": "stream",
     "text": [
      "Male\n",
      "Female\n"
     ]
    }
   ],
   "source": [
    "class Person:\n",
    "    def getGender():\n",
    "        pass\n",
    "class Male:\n",
    "    def getGender():\n",
    "        print(\"Male\")\n",
    "class Female:\n",
    "    def getGender():\n",
    "        print(\"Female\")\n",
    "Male.getGender()\n",
    "Female.getGender()\n",
    "        "
   ]
  },
  {
   "cell_type": "markdown",
   "id": "c46203f6",
   "metadata": {},
   "source": [
    "## Question 4:\n",
    "Please write a program to generate all sentences where subject is in [&quot;I&quot;, &quot;You&quot;] and\n",
    "verb is in [&quot;Play&quot;, &quot;Love&quot;] and the object is in [&quot;Hockey&quot;,&quot;Football&quot;]."
   ]
  },
  {
   "cell_type": "code",
   "execution_count": 16,
   "id": "4ca6bc9c",
   "metadata": {},
   "outputs": [
    {
     "name": "stdout",
     "output_type": "stream",
     "text": [
      "I Play Hockey\n",
      "I Play Football\n",
      "I Love Hockey\n",
      "I Love Football\n",
      "You Play Hockey\n",
      "You Play Football\n",
      "You Love Hockey\n",
      "You Love Football\n"
     ]
    }
   ],
   "source": [
    "def gen_sentence():\n",
    "    subject = [\"I\", \"You\"]\n",
    "    verb = [\"Play\", \"Love\"]\n",
    "    object = [\"Hockey\",\"Football\"]\n",
    "    for s in subject:\n",
    "        for v in verb:\n",
    "            for o in object:\n",
    "                print(f'{s} {v} {o}')\n",
    "gen_sentence()"
   ]
  },
  {
   "cell_type": "markdown",
   "id": "9bea131b",
   "metadata": {},
   "source": [
    "## Question 5:\n",
    "Please write a program to compress and decompress the string &quot;hello world!hello\n",
    "world!hello world!hello world!&quot;."
   ]
  },
  {
   "cell_type": "code",
   "execution_count": 2,
   "id": "0f6e4fb0",
   "metadata": {},
   "outputs": [
    {
     "name": "stdout",
     "output_type": "stream",
     "text": [
      "Compressed string is: b'x\\x9c\\xcbH\\xcd\\xc9\\xc9W(\\xcf/\\xcaIQ\\xcc \\x82\\r\\x00\\xbd[\\x11\\xf5'\n",
      "Decompressed string is: b'hello world!hello world!hello world!hello world!'\n"
     ]
    }
   ],
   "source": [
    "import zlib\n",
    "s = 'hello world!hello world!hello world!hello world!'\n",
    "\n",
    "compress_string = zlib.compress(bytes(s, 'utf-8'))\n",
    "decompress_string = zlib.decompress(compress_string)\n",
    "print(f\"Compressed string is: {compress_string}\")\n",
    "print(f\"Decompressed string is: {decompress_string}\")"
   ]
  },
  {
   "cell_type": "markdown",
   "id": "b51a2f44",
   "metadata": {},
   "source": [
    "## Question 6:\n",
    "Please write a binary search function which searches an item in a sorted list. The\n",
    "function should return the index of element to be searched in the list."
   ]
  },
  {
   "cell_type": "code",
   "execution_count": 5,
   "id": "bf460dba",
   "metadata": {},
   "outputs": [
    {
     "name": "stdout",
     "output_type": "stream",
     "text": [
      "Index of element is 4\n"
     ]
    }
   ],
   "source": [
    "def binarySearch(l, n):\n",
    "    low=0\n",
    "    high=len(l)-1\n",
    "    mid=0\n",
    "    while low <= high:\n",
    "        mid = (low+high)//2\n",
    "        \n",
    "        if l[mid]<n:\n",
    "            low = mid + 1\n",
    "            \n",
    "        elif l[mid]>n:\n",
    "            high = mid - 1\n",
    "            \n",
    "        else:\n",
    "            return mid\n",
    "        \n",
    "l = [3, 14, 32, 45, 56, 76, 98]\n",
    "n = 56\n",
    "output = binarySearch(l, n)\n",
    "print(f\"Index of element is {output}\")"
   ]
  },
  {
   "cell_type": "code",
   "execution_count": null,
   "id": "7ec2f14b",
   "metadata": {},
   "outputs": [],
   "source": []
  }
 ],
 "metadata": {
  "kernelspec": {
   "display_name": "Python 3 (ipykernel)",
   "language": "python",
   "name": "python3"
  },
  "language_info": {
   "codemirror_mode": {
    "name": "ipython",
    "version": 3
   },
   "file_extension": ".py",
   "mimetype": "text/x-python",
   "name": "python",
   "nbconvert_exporter": "python",
   "pygments_lexer": "ipython3",
   "version": "3.8.8"
  }
 },
 "nbformat": 4,
 "nbformat_minor": 5
}
