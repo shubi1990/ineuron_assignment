{
 "cells": [
  {
   "cell_type": "markdown",
   "id": "17520baf",
   "metadata": {},
   "source": [
    "## 1. Write a Python program to find words which are greater than given length k?"
   ]
  },
  {
   "cell_type": "code",
   "execution_count": 5,
   "id": "73bee2a3",
   "metadata": {},
   "outputs": [
    {
     "name": "stdout",
     "output_type": "stream",
     "text": [
      "Write a string :Write a Python program to find words which are greater than given length k\n",
      "Enter the length of word :6\n",
      "Words which are greater than given length : ['program', 'greater']\n"
     ]
    }
   ],
   "source": [
    "input_string = str(input(\"Write a string :\"))\n",
    "word_length = int(input(\"Enter the length of word :\"))\n",
    "k = []\n",
    "words = input_string.split(\" \")\n",
    "for i in words:\n",
    "    if len(i)>word_length:\n",
    "        k.append(i)\n",
    "print (\"Words which are greater than given length :\" , k)    \n"
   ]
  },
  {
   "cell_type": "markdown",
   "id": "6ef92721",
   "metadata": {},
   "source": [
    "## 2. Write a Python program for removing i-th character from a string?"
   ]
  },
  {
   "cell_type": "code",
   "execution_count": 13,
   "id": "243828bd",
   "metadata": {},
   "outputs": [
    {
     "name": "stdout",
     "output_type": "stream",
     "text": [
      "Write a string : Write a Python program for removing i-th character from a string\n",
      "Enter the index of the character : 6\n",
      "6th character :  a\n"
     ]
    }
   ],
   "source": [
    "input_string = str(input(\"Write a string : \"))\n",
    "ith_char = int(input(\"Enter the index of the character : \"))\n",
    "for i in range(len(input_string)):\n",
    "    if i==ith_char:\n",
    "        print(f\"{ith_char}th character : \", input_string[i])"
   ]
  },
  {
   "cell_type": "markdown",
   "id": "904a0a28",
   "metadata": {},
   "source": [
    "## 3. Write a Python program to split and join a string?"
   ]
  },
  {
   "cell_type": "code",
   "execution_count": 16,
   "id": "3c9bed50",
   "metadata": {},
   "outputs": [
    {
     "name": "stdout",
     "output_type": "stream",
     "text": [
      "Write a string : Write a Python program to split and join a string\n",
      "String after splitting :  ['Write', 'a', 'Python', 'program', 'to', 'split', 'and', 'join', 'a', 'string']\n",
      "String after joining :  Write a Python program to split and join a string\n"
     ]
    }
   ],
   "source": [
    "input_string = str(input(\"Write a string : \"))\n",
    "split_string = input_string.split(\" \")\n",
    "print(\"String after splitting : \",split_string)\n",
    "join_string = \" \".join(split_string)\n",
    "print(\"String after joining : \",join_string)"
   ]
  },
  {
   "cell_type": "markdown",
   "id": "9e30901a",
   "metadata": {},
   "source": [
    "## 4. Write a Python to check if a given string is binary string or not?"
   ]
  },
  {
   "cell_type": "code",
   "execution_count": 33,
   "id": "3eb8413e",
   "metadata": {},
   "outputs": [
    {
     "name": "stdout",
     "output_type": "stream",
     "text": [
      "Write a string : 11101010101010100101\n",
      "Given string is a binary string\n"
     ]
    }
   ],
   "source": [
    "input_string = input(\"Write a string : \")\n",
    "bin = {'0', '1'}\n",
    "temp = set(input_string)\n",
    "if temp==bin or temp=={'0'} or temp=={'1'}:\n",
    "    print(\"Given string is a binary string\")\n",
    "else:\n",
    "    print(\"Given string is not a binary string\")"
   ]
  },
  {
   "cell_type": "markdown",
   "id": "bfcd860c",
   "metadata": {},
   "source": [
    "## 5. Write a Python program to find uncommon words from two Strings?"
   ]
  },
  {
   "cell_type": "code",
   "execution_count": 32,
   "id": "0ce346dc",
   "metadata": {},
   "outputs": [
    {
     "name": "stdout",
     "output_type": "stream",
     "text": [
      "Write first string : hello world\n",
      "Write second string : hello python\n",
      "Uncommon words are :  {'python', 'world'}\n"
     ]
    }
   ],
   "source": [
    "string1 = input(\"Write first string : \").split()\n",
    "string2 = input(\"Write second string : \").split()\n",
    "uncommon_words = set(string1).symmetric_difference(string2)\n",
    "print(\"Uncommon words are : \",uncommon_words)"
   ]
  },
  {
   "cell_type": "markdown",
   "id": "e64450cc",
   "metadata": {},
   "source": [
    "## 6. Write a Python to find all duplicate characters in string?"
   ]
  },
  {
   "cell_type": "code",
   "execution_count": 37,
   "id": "06fea2be",
   "metadata": {},
   "outputs": [
    {
     "name": "stdout",
     "output_type": "stream",
     "text": [
      "Write a string : hello world\n",
      "Duplicate characters in string are :  ['l', 'o']\n"
     ]
    }
   ],
   "source": [
    "string = input(\"Write a string : \")\n",
    "dup_char = []\n",
    "for i in string:\n",
    "    if string.count(i)>1 and i not in dup_char:\n",
    "        dup_char.append(i)\n",
    "print(\"Duplicate characters in string are : \", dup_char)"
   ]
  },
  {
   "cell_type": "markdown",
   "id": "5592ee27",
   "metadata": {},
   "source": [
    "## 7. Write a Python Program to check if a string contains any special character?"
   ]
  },
  {
   "cell_type": "code",
   "execution_count": 47,
   "id": "b2893406",
   "metadata": {},
   "outputs": [
    {
     "name": "stdout",
     "output_type": "stream",
     "text": [
      "Write a string : hello World!\n",
      "Yes, string contains special characters\n"
     ]
    }
   ],
   "source": [
    "string = input(\"Write a string : \")\n",
    "special_char = '[@_!#$%^&*()<>?/\\|}{~:]'\n",
    "for i in range(len(string)):\n",
    "    if string[i] in special_char:\n",
    "        print(\"Yes, string contains special characters\")\n",
    "        break\n",
    "else:\n",
    "    print(\"No, string doesn't contain any special character\")"
   ]
  },
  {
   "cell_type": "code",
   "execution_count": null,
   "id": "bb926151",
   "metadata": {},
   "outputs": [],
   "source": []
  }
 ],
 "metadata": {
  "kernelspec": {
   "display_name": "Python 3 (ipykernel)",
   "language": "python",
   "name": "python3"
  },
  "language_info": {
   "codemirror_mode": {
    "name": "ipython",
    "version": 3
   },
   "file_extension": ".py",
   "mimetype": "text/x-python",
   "name": "python",
   "nbconvert_exporter": "python",
   "pygments_lexer": "ipython3",
   "version": "3.8.8"
  }
 },
 "nbformat": 4,
 "nbformat_minor": 5
}
