{
 "cells": [
  {
   "cell_type": "markdown",
   "id": "c80746f5",
   "metadata": {},
   "source": [
    "### Question1. Write a function that stutters a word as if someone is struggling to read it. Thefirst two letters are repeated twice with an ellipsis ... and space after each, and then theword is pronounced with a question mark ?.Examples\n",
    "\n",
    "stutter(&quot;incredible&quot;) ➞ &quot;in... in... incredible?&quot;\n",
    "\n",
    "stutter(&quot;enthusiastic&quot;) ➞ &quot;en... en... enthusiastic?&quot;\n",
    "\n",
    "stutter(&quot;outstanding&quot;) ➞ &quot;ou... ou... outstanding?&quot;\n",
    "\n",
    "Hint :- Assume all input is in lower case and at least two characters long."
   ]
  },
  {
   "cell_type": "code",
   "execution_count": 4,
   "id": "896fc5a4",
   "metadata": {},
   "outputs": [
    {
     "name": "stdout",
     "output_type": "stream",
     "text": [
      "Enter a word : incredible\n",
      "stutter(incredible) ➞ in... in... incredible?\n",
      "Enter a word : enthusiastic\n",
      "stutter(enthusiastic) ➞ en... en... enthusiastic?\n",
      "Enter a word : outstanding\n",
      "stutter(outstanding) ➞ ou... ou... outstanding?\n"
     ]
    }
   ],
   "source": [
    "def stutterWord():\n",
    "    inp = input(\"Enter a word : \")\n",
    "    out = inp.replace(inp[0:2], ((inp[0:2]+ '... ')*2)+inp[0:2])+'?'\n",
    "    print(f\"stutter({inp}) ➞ {out}\")\n",
    "for i in range(3):\n",
    "    stutterWord()"
   ]
  },
  {
   "cell_type": "markdown",
   "id": "37f09151",
   "metadata": {},
   "source": [
    "### 2..Create a function that takes an angle in radians and returns the corresponding angle in degrees rounded to one decimal place ?\n",
    "Examples: radians_to_degrees(1) ➞ 57.3\n",
    "\n",
    "radians_to_degrees(20) ➞ 1145.9\n",
    "\n",
    "radians_to_degrees(50) ➞ 2864.8"
   ]
  },
  {
   "cell_type": "code",
   "execution_count": 18,
   "id": "fdec7da5",
   "metadata": {},
   "outputs": [
    {
     "name": "stdout",
     "output_type": "stream",
     "text": [
      "Enter the angle in Radians: 1\n",
      "1 radians ➞ 57.3 degrees\n",
      "Enter the angle in Radians: 20\n",
      "20 radians ➞ 1145.9 degrees\n",
      "Enter the angle in Radians: 50\n",
      "50 radians ➞ 2864.8 degrees\n"
     ]
    }
   ],
   "source": [
    "import math\n",
    "def radianToDegree():\n",
    "    inp = int(input('Enter the angle in Radians: '))\n",
    "    out = (180/math.pi)*inp\n",
    "    print(f'{inp} radians ➞ {out:.1f} degrees')\n",
    "\n",
    "for x in range(3):\n",
    "    radianToDegree()"
   ]
  },
  {
   "cell_type": "markdown",
   "id": "53c7da21",
   "metadata": {},
   "source": [
    "### Question 3. In this challenge, establish if a given integer num is a Curzon number. If 1 plus2 elevated to num is exactly divisible by 1 plus 2 multiplied by num, then num is a Curzon number.\n",
    "### Given a non-negative integer num, implement a function that returns True if num is a Curzon number, or False otherwise.\n",
    "Examples\n",
    "is_curzon(5) ➞ True\n",
    "#### 2 ** 5 + 1 = 33\n",
    "#### 2 * 5 + 1 = 11\n",
    "#### 33 is a multiple of 11\n",
    "is_curzon(10) ➞ False\n",
    "#### 2 ** 10 + 1 = 1025\n",
    "#### 2 * 10 + 1 = 21\n",
    "#### 1025 is not a multiple of 21\n",
    "is_curzon(14) ➞ True\n",
    "#### 2 ** 14 + 1 = 16385\n",
    "#### 2 * 14 + 1 = 29\n",
    "#### 16385 is a multiple of 29"
   ]
  },
  {
   "cell_type": "code",
   "execution_count": 1,
   "id": "baa40cd5",
   "metadata": {},
   "outputs": [
    {
     "name": "stdout",
     "output_type": "stream",
     "text": [
      "Enter a number = 5\n",
      "is_curzon(5) ➞ True \n",
      "Enter a number = 10\n",
      "is_curzon(10) ➞ False \n",
      "Enter a number = 14\n",
      "is_curzon(14) ➞ True \n"
     ]
    }
   ],
   "source": [
    "def isCurzon(n):\n",
    "    \n",
    "    if ((2**inp)+1) % ((2*inp)+1)==0:\n",
    "        return True\n",
    "    else:\n",
    "        return False\n",
    "    \n",
    "for i in range(3):\n",
    "    inp = int(input(\"Enter a number = \"))\n",
    "\n",
    "    print(\"is_curzon({}) ➞ {} \".format(inp, isCurzon(inp)))\n"
   ]
  },
  {
   "cell_type": "markdown",
   "id": "4c6f5ff2",
   "metadata": {},
   "source": [
    "### 4.Given the side length x find the area of a hexagon ?\n",
    "Examples: area_of_hexagon(1) ➞ 2.6\n",
    "\n",
    "area_of_hexagon(2) ➞ 10.4\n",
    "\n",
    "area_of_hexagon(3) ➞ 23.4"
   ]
  },
  {
   "cell_type": "code",
   "execution_count": 9,
   "id": "e725a40b",
   "metadata": {},
   "outputs": [
    {
     "name": "stdout",
     "output_type": "stream",
     "text": [
      "Enter the length of the side of hexagon = 1\n",
      "area_of_hexagon(1) ➞ 2.6 \n",
      "Enter the length of the side of hexagon = 2\n",
      "area_of_hexagon(2) ➞ 10.4 \n",
      "Enter the length of the side of hexagon = 3\n",
      "area_of_hexagon(3) ➞ 23.4 \n"
     ]
    }
   ],
   "source": [
    "import math\n",
    "def areaOfHexagon(s):\n",
    "    area = ((3*math.sqrt(3))/2)*(pow(inp,2))\n",
    "    return area\n",
    "\n",
    "for i in range(3):\n",
    "    inp=int(input(\"Enter the length of the side of hexagon = \"))\n",
    "    print(\"area_of_hexagon({}) ➞ {:.1f} \".format(inp, areaOfHexagon(inp)))\n",
    "    "
   ]
  },
  {
   "cell_type": "markdown",
   "id": "368fba03",
   "metadata": {},
   "source": [
    "### 5.Create a function that returns a base-2 (binary) representation of a base-10 (decimal) string number. \n",
    "To convert is simple:((2) means base-2 and (10) means base-10)\n",
    "010101001(2) = 1 + 8 + 32 + 128.\n",
    "Going from right to left, the value of the most right bit is 1, now from that every bit to the left will be x2 the value, value of an 8 bit binary numbers are (256, 128, 64, 32, 16, 8, 4, 2, 1).\n",
    "Examples:\n",
    "##### binary(1) ➞ \"1\" \n",
    "##### 1* 1 = 1 \n",
    "##### binary(5) ➞ \"101\" \n",
    "##### 1 1 + 1 4 = 5 \n",
    "##### binary(10) ➞ \"1010\" \n",
    "##### 1 2 + 1 8 = 10"
   ]
  },
  {
   "cell_type": "code",
   "execution_count": 17,
   "id": "e335c549",
   "metadata": {},
   "outputs": [
    {
     "name": "stdout",
     "output_type": "stream",
     "text": [
      "Enter a decimal number = 1\n",
      "binary(0) ➞ 1 \n",
      "Enter a decimal number = 5\n",
      "binary(0) ➞ 101 \n",
      "Enter a decimal number = 10\n",
      "binary(0) ➞ 1010 \n"
     ]
    }
   ],
   "source": [
    "def decToBin(n):\n",
    "    inp = int(input(\"Enter a decimal number = \"))\n",
    "    binary=\"\"\n",
    "    while inp>0:\n",
    "        binary = binary + str(inp%2)\n",
    "        inp=inp//2\n",
    "    return binary[::-1]\n",
    "\n",
    "for i in range(3):\n",
    "    print(f\"binary({inp}) ➞ {decToBin(inp)} \")\n",
    "    "
   ]
  },
  {
   "cell_type": "code",
   "execution_count": null,
   "id": "7f7cd554",
   "metadata": {},
   "outputs": [],
   "source": []
  }
 ],
 "metadata": {
  "kernelspec": {
   "display_name": "Python 3 (ipykernel)",
   "language": "python",
   "name": "python3"
  },
  "language_info": {
   "codemirror_mode": {
    "name": "ipython",
    "version": 3
   },
   "file_extension": ".py",
   "mimetype": "text/x-python",
   "name": "python",
   "nbconvert_exporter": "python",
   "pygments_lexer": "ipython3",
   "version": "3.9.13"
  }
 },
 "nbformat": 4,
 "nbformat_minor": 5
}
