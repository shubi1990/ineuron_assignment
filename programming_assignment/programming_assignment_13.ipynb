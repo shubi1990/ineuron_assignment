{
 "cells": [
  {
   "cell_type": "markdown",
   "id": "441e1c7e",
   "metadata": {},
   "source": [
    "## Question 1:\n",
    "Write a program that calculates and prints the value according to the given formula: Q = Square root of [(2 * C * D)/H]\n",
    "\n",
    "Following are the fixed values of C and H: C is 50. H is 30.\n",
    "\n",
    "D is the variable whose values should be input to your program in a comma-separated sequence."
   ]
  },
  {
   "cell_type": "code",
   "execution_count": 13,
   "id": "4c0f588d",
   "metadata": {},
   "outputs": [
    {
     "name": "stdout",
     "output_type": "stream",
     "text": [
      "Enter the input values in a comma_separated sequence : 100, 150, 180\n",
      "Output: 18,22,24\n"
     ]
    }
   ],
   "source": [
    "from math import sqrt\n",
    "num = eval(input(\"Enter the input values in a comma_separated sequence : \"))\n",
    "def calculate_Q(n):\n",
    "    result=[]\n",
    "    C=50\n",
    "    H=30\n",
    "    for D in n:\n",
    "        Q = str(int(sqrt((2 * C * D)/H)))\n",
    "        result.append(Q)\n",
    "    return (','.join(result))\n",
    "output = calculate_Q(num)\n",
    "print(f\"Output: {output}\")"
   ]
  },
  {
   "cell_type": "markdown",
   "id": "12cc69a3",
   "metadata": {},
   "source": [
    "## Question 2:\n",
    "Write a program which takes 2 digits, X,Y as input and generates a 2-dimensional array. Theelement value in the i-th row and j-th column of the array should be i*j.\n",
    "Note: i=0,1.., X-1; j=0,1,¡Y-1.\n",
    "\n",
    "Example: Suppose the following inputs are given to the program: 3,5\n",
    "\n",
    "Then, the output of the program should be: [[0, 0, 0, 0, 0], [0, 1, 2, 3, 4], [0, 2, 4, 6, 8]]"
   ]
  },
  {
   "cell_type": "code",
   "execution_count": 12,
   "id": "d25d2d93",
   "metadata": {},
   "outputs": [
    {
     "name": "stdout",
     "output_type": "stream",
     "text": [
      "Enter the number of rows : 3\n",
      "Enter the number of columns : 5\n",
      "The final array :  [[0, 0, 0, 0, 0], [0, 1, 2, 3, 4], [0, 2, 4, 6, 8]]\n"
     ]
    }
   ],
   "source": [
    "X=int(input(\"Enter the number of rows : \"))\n",
    "Y=int(input(\"Enter the number of columns : \"))\n",
    "\n",
    "def printArray(X, Y):\n",
    "    result=[]\n",
    "    for i in range(X):\n",
    "        result.insert(X, [])\n",
    "        for j in range(Y):\n",
    "            result[i].append(i*j)\n",
    "    return (result)\n",
    "arr = printArray(X, Y)\n",
    "print(\"The final array : \", arr)"
   ]
  },
  {
   "cell_type": "markdown",
   "id": "f6b05fe8",
   "metadata": {},
   "source": [
    "## Question 3:\n",
    "Write a program that accepts a comma separated sequence of words as input and prints the words in a comma-separated sequence after sorting them alphabetically.\n",
    "\n",
    "Suppose the following input is supplied to the program: without,hello,bag,world\n",
    "\n",
    "Then, the output should be: bag,hello,without,world"
   ]
  },
  {
   "cell_type": "code",
   "execution_count": 12,
   "id": "d563142f",
   "metadata": {},
   "outputs": [
    {
     "name": "stdout",
     "output_type": "stream",
     "text": [
      "Enter the string : without,hello,bag,world\n",
      "The sorted string :  bag,hello,without,world\n"
     ]
    }
   ],
   "source": [
    "s= input(\"Enter the string : \")\n",
    "def sortString(s):\n",
    "    str= s.split(',')\n",
    "    result=','.join(sorted(str))\n",
    "    return result\n",
    "sorted_string = sortString(s)\n",
    "print(\"The sorted string : \",sorted_string)"
   ]
  },
  {
   "cell_type": "markdown",
   "id": "3c0961fd",
   "metadata": {},
   "source": [
    "## Question 4:\n",
    "Write a program that accepts a sequence of whitespace separated words as input and prints the words after removing all duplicate words and sorting them alphanumerically.\n",
    "\n",
    "Suppose the following input is supplied to the program:\n",
    "\n",
    "hello world and practice makes perfect and hello world again\n",
    "\n",
    "Then, the output should be: again and hello makes perfect practice world"
   ]
  },
  {
   "cell_type": "code",
   "execution_count": 4,
   "id": "592b6ffa",
   "metadata": {},
   "outputs": [
    {
     "name": "stdout",
     "output_type": "stream",
     "text": [
      "Enter the string : hello world and practice makes perfect and hello world again\n",
      "The sorted string :  again and hello makes perfect practice world\n"
     ]
    }
   ],
   "source": [
    "s=input(\"Enter the string : \")\n",
    "def sortedString(s):\n",
    "    str= s.split(' ')\n",
    "    output= ' '.join(sorted(list(set(str))))\n",
    "    return output\n",
    "sort_string = sortedString(s)\n",
    "print(\"The sorted string : \",sort_string)"
   ]
  },
  {
   "cell_type": "markdown",
   "id": "8a5dda4c",
   "metadata": {},
   "source": [
    "## Question 5:\n",
    "Write a program that accepts a sentence and calculate the number of letters and digits.\n",
    "\n",
    "Suppose the following input is supplied to the program:\n",
    "\n",
    "hello world! 123\n",
    "\n",
    "Then, the output should be:\n",
    "\n",
    "LETTERS 10\n",
    "\n",
    "DIGITS 3"
   ]
  },
  {
   "cell_type": "code",
   "execution_count": 2,
   "id": "6d962893",
   "metadata": {},
   "outputs": [
    {
     "name": "stdout",
     "output_type": "stream",
     "text": [
      "Enter the string : hello world! 123\n",
      "LETTERS 10 \n",
      "DIGITS 3\n"
     ]
    }
   ],
   "source": [
    "s= input(\"Enter the string : \")\n",
    "def alnumCount(s):\n",
    "    letters = 'ABCDEFGHIJKLMNOPQRSTUVWXYZabcdefghijklmnopqrstuvwxyz'\n",
    "    digits = '0123456789'\n",
    "    total_letters= 0\n",
    "    total_digits=0\n",
    "    for i in s:\n",
    "        if i in letters:\n",
    "            total_letters +=1\n",
    "        if i in digits:\n",
    "            total_digits +=1\n",
    "    return total_letters, total_digits\n",
    "letter, digit = alnumCount(s)\n",
    "print(f\"LETTERS {letter} \\nDIGITS {digit}\")"
   ]
  },
  {
   "cell_type": "markdown",
   "id": "07e1d1df",
   "metadata": {},
   "source": [
    "## Question 6:\n",
    "A website requires the users to input username and password to register. Write a program to\n",
    "\n",
    "check the validity of password input by users.\n",
    "\n",
    "Following are the criteria for checking the password:\n",
    "\n",
    "1. At least 1 letter between [a-z]\n",
    "\n",
    "2. At least 1 number between [0-9]\n",
    "\n",
    "1. At least 1 letter between [A-Z]\n",
    "\n",
    "3. At least 1 character from [$#@]\n",
    "\n",
    "4. Minimum length of transaction password: 6\n",
    "\n",
    "5. Maximum length of transaction password: 12\n",
    "\n",
    "Your program should accept a sequence of comma separated passwords and will check them\n",
    "\n",
    "according to the above criteria. Passwords that match the criteria are to be printed, each\n",
    "\n",
    "separated by a comma.\n",
    "\n",
    "Example\n",
    "\n",
    "If the following passwords are given as input to the program:\n",
    "\n",
    "ABd1234@1,a F1#,2w3E*,2We3345\n",
    "\n",
    "Then, the output of the program should be:\n",
    "\n",
    "ABd1234@1"
   ]
  },
  {
   "cell_type": "code",
   "execution_count": 3,
   "id": "438ef6d0",
   "metadata": {},
   "outputs": [
    {
     "name": "stdout",
     "output_type": "stream",
     "text": [
      "Enter the number of passwords : ABd1234@1,a F1#,2w3E*,2We3345\n",
      "correct password :  ABd1234@1\n"
     ]
    }
   ],
   "source": [
    "input_pwd = input(\"Enter the number of passwords : \")\n",
    "def checkPassword(s):\n",
    "    special_characters = \"$#@\"\n",
    "    \n",
    "    \n",
    "    for i in s.split(\",\"):\n",
    "        if len(i) <= 12 and len(i) >=6:\n",
    "            if any(k.isupper() for k in i):\n",
    "                if any(k.islower() for k in  i):\n",
    "                    if any(k for k in i if k in special_characters):\n",
    "                        return i\n",
    "pwd = checkPassword(input_pwd)\n",
    "print(\"correct password : \", pwd)\n",
    "            "
   ]
  }
 ],
 "metadata": {
  "kernelspec": {
   "display_name": "Python 3 (ipykernel)",
   "language": "python",
   "name": "python3"
  },
  "language_info": {
   "codemirror_mode": {
    "name": "ipython",
    "version": 3
   },
   "file_extension": ".py",
   "mimetype": "text/x-python",
   "name": "python",
   "nbconvert_exporter": "python",
   "pygments_lexer": "ipython3",
   "version": "3.8.8"
  }
 },
 "nbformat": 4,
 "nbformat_minor": 5
}
