{
 "cells": [
  {
   "cell_type": "markdown",
   "id": "634b29bd",
   "metadata": {},
   "source": [
    "### Question1 Create a function that takes three integer arguments (a, b, c) and returns the amount of integers which are of equal value.\n",
    "Examples:\n",
    "```equal(3, 4, 3) ➞ 2\n",
    "equal(1, 1, 1) ➞ 3\n",
    "equal(3, 4, 1) ➞ 0\n",
    "Notes:\n",
    "Your function must return 0, 2 or 3.```"
   ]
  },
  {
   "cell_type": "code",
   "execution_count": 2,
   "id": "ec19d1c7",
   "metadata": {},
   "outputs": [
    {
     "name": "stdout",
     "output_type": "stream",
     "text": [
      "equal(3, 4, 3) ➞  2\n",
      "equal(1, 1, 1) ➞  3\n",
      "equal(3, 4, 1) ➞  0\n"
     ]
    }
   ],
   "source": [
    "def equal(a,b,c):\n",
    "    if a == b == c:\n",
    "        return 3\n",
    "    elif a == b or a == c or b == c:\n",
    "        return 2\n",
    "    else:\n",
    "        return 0\n",
    "    \n",
    "print('equal(3, 4, 3) ➞ ', equal(3, 4, 3))\n",
    "print('equal(1, 1, 1) ➞ ', equal(1, 1, 1))\n",
    "print('equal(3, 4, 1) ➞ ', equal(3, 4, 1))"
   ]
  },
  {
   "cell_type": "markdown",
   "id": "62944d45",
   "metadata": {},
   "source": [
    "### Question2.Write a function that converts a dictionary into a list of keys-values tuples.\n",
    "Examples:\n",
    "\n",
    "```dict_to_list({ \"D\": 1, \"B\": 2, \"C\": 3 }) ➞ [(\"B\", 2), (\"C\", 3), (\"D\", 1)] \n",
    "dict_to_list({ \"likes\": 2, \"dislikes\": 3, \"followers\": 10 }) ➞ [(\"dislikes\", 3), (\"followers\", 10), (\"likes\", 2)]\n",
    "Notes:\n",
    "Return the elements in the list in alphabetical order.```"
   ]
  },
  {
   "cell_type": "code",
   "execution_count": 5,
   "id": "754c134c",
   "metadata": {},
   "outputs": [
    {
     "name": "stdout",
     "output_type": "stream",
     "text": [
      "dict_to_list({ \"D\": 1, \"B\": 2, \"C\": 3 }) ➞  [('B', 2), ('C', 3), ('D', 1)]\n",
      "dict_to_list({ \"likes\": 2, \"dislikes\": 3, \"followers\": 10 }) ➞  [('dislikes', 3), ('followers', 10), ('likes', 2)]\n"
     ]
    }
   ],
   "source": [
    "def dict_to_list(d):\n",
    "    l = []\n",
    "    for key, value in d.items():\n",
    "        l.append((key, value))\n",
    "    return sorted(l)\n",
    "\n",
    "print('dict_to_list({ \"D\": 1, \"B\": 2, \"C\": 3 }) ➞ ', dict_to_list({ \"D\": 1, \"B\": 2, \"C\": 3 }))\n",
    "print('dict_to_list({ \"likes\": 2, \"dislikes\": 3, \"followers\": 10 }) ➞ ', dict_to_list({ \"likes\": 2, \"dislikes\": 3, \"followers\": 10 }))"
   ]
  },
  {
   "cell_type": "markdown",
   "id": "913bebff",
   "metadata": {},
   "source": [
    "### Question 3.Write a function that creates a dictionary with each (key, value) pair being the (lower case, upper case) versions of a letter, respectively.\n",
    "Examples:\n",
    "```mapping([\"p\", \"s\"]) ➞ { \"p\": \"P\", \"s\": \"S\" }\n",
    "mapping([\"a\", \"b\", \"c\"]) ➞ { \"a\": \"A\", \"b\": \"B\", \"c\": \"C\" }\n",
    "mapping([\"a\", \"v\", \"y\", \"z\"]) ➞ { \"a\": \"A\", \"v\": \"V\", \"y\": \"Y\", \"z\": \"Z\" }\n",
    "Notes:\n",
    "All of the letters in the input list will always be lowercase.```"
   ]
  },
  {
   "cell_type": "code",
   "execution_count": 27,
   "id": "cdd89906",
   "metadata": {},
   "outputs": [
    {
     "name": "stdout",
     "output_type": "stream",
     "text": [
      "mapping([\"p\", \"s\"]) ➞  {'p': 'P', 's': 'S'}\n",
      "mapping([\"a\", \"b\", \"c\"]) ➞  {'a': 'A', 'b': 'B', 'c': 'C'}\n",
      "mapping([\"a\", \"v\", \"y\", \"z\"]) ➞  {'a': 'A', 'v': 'V', 'y': 'Y', 'z': 'Z'}\n"
     ]
    }
   ],
   "source": [
    "def mapping(l):\n",
    "    d = {}\n",
    "    for i in l:\n",
    "        d[i] = i.upper()\n",
    "    return d\n",
    "print('mapping([\"p\", \"s\"]) ➞ ', mapping([\"p\", \"s\"]))\n",
    "print('mapping([\"a\", \"b\", \"c\"]) ➞ ', mapping([\"a\", \"b\", \"c\"]))\n",
    "print('mapping([\"a\", \"v\", \"y\", \"z\"]) ➞ ', mapping([\"a\", \"v\", \"y\", \"z\"]))"
   ]
  },
  {
   "cell_type": "markdown",
   "id": "58fff0f5",
   "metadata": {},
   "source": [
    "### Question 4.Write a function, that replaces all vowels in a string with a specified vowel.\n",
    "Examples:\n",
    "```vow_replace(\"apples and bananas\", \"u\") ➞ \"upplus und bununus\"\n",
    "vow_replace(\"cheese casserole\", \"o\") ➞ \"chooso cossorolo\"\n",
    "vow_replace(\"stuffed jalapeno poppers\", \"e\") ➞ \"steffed jelepene peppers\"\n",
    "Notes:\n",
    "All words will be lowercase. Y is not considered a vowel.```"
   ]
  },
  {
   "cell_type": "code",
   "execution_count": 2,
   "id": "100c25bb",
   "metadata": {},
   "outputs": [
    {
     "name": "stdout",
     "output_type": "stream",
     "text": [
      "vow_replace(\"apples and bananas\", \"u\") ➞  upplus und bununus\n",
      "vow_replace(\"cheese casserole\", \"o\") ➞  chooso cossorolo\n",
      "vow_replace(\"stuffed jalapeno poppers\", \"e\") ➞  steffed jelepene peppers\n"
     ]
    }
   ],
   "source": [
    "def vow_replace(s, v):\n",
    "    return ''.join([v if i in 'aeiou' else i for i in s])\n",
    "print('vow_replace(\"apples and bananas\", \"u\") ➞ ', vow_replace(\"apples and bananas\", \"u\"))\n",
    "print('vow_replace(\"cheese casserole\", \"o\") ➞ ', vow_replace(\"cheese casserole\", \"o\"))\n",
    "print('vow_replace(\"stuffed jalapeno poppers\", \"e\") ➞ ', vow_replace(\"stuffed jalapeno poppers\", \"e\"))"
   ]
  },
  {
   "cell_type": "markdown",
   "id": "99f189c0",
   "metadata": {},
   "source": [
    "### Question5 .Create a function that takes a string as input and capitalizes a letter if its ASCII code is even and returns its lower case version if its ASCII code is odd.\n",
    "Examples:\n",
    "```ascii_capitalize(\"to be or not to be!\") ➞ \"To Be oR NoT To Be!\"\n",
    "ascii_capitalize(\"THE LITTLE MERMAID\") ➞ \"THe LiTTLe meRmaiD\"\n",
    "ascii_capitalize(\"Oh what a beautiful morning.\") ➞ \"oH wHaT a BeauTiFuL moRNiNg.\"```"
   ]
  },
  {
   "cell_type": "code",
   "execution_count": 4,
   "id": "84a9b5e6",
   "metadata": {},
   "outputs": [
    {
     "name": "stdout",
     "output_type": "stream",
     "text": [
      "ascii_capitalize(\"to be or not to be!\") ➞  To Be oR NoT To Be!\n",
      "ascii_capitalize(\"THE LITTLE MERMAID\") ➞  THe LiTTLe meRmaiD\n",
      "ascii_capitalize(\"Oh what a beautiful morning.\") ➞  oH wHaT a BeauTiFuL moRNiNg.\n"
     ]
    }
   ],
   "source": [
    "def ascii_capitalize(s):\n",
    "    return ''.join([i.upper() if (ord(i)%2==0) else i.lower() for i in s])\n",
    "print('ascii_capitalize(\"to be or not to be!\") ➞ ', ascii_capitalize(\"to be or not to be!\"))\n",
    "print('ascii_capitalize(\"THE LITTLE MERMAID\") ➞ ', ascii_capitalize(\"THE LITTLE MERMAID\"))\n",
    "print('ascii_capitalize(\"Oh what a beautiful morning.\") ➞ ', ascii_capitalize(\"Oh what a beautiful morning.\"))"
   ]
  },
  {
   "cell_type": "code",
   "execution_count": null,
   "id": "8f60bbb4",
   "metadata": {},
   "outputs": [],
   "source": []
  }
 ],
 "metadata": {
  "kernelspec": {
   "display_name": "Python 3 (ipykernel)",
   "language": "python",
   "name": "python3"
  },
  "language_info": {
   "codemirror_mode": {
    "name": "ipython",
    "version": 3
   },
   "file_extension": ".py",
   "mimetype": "text/x-python",
   "name": "python",
   "nbconvert_exporter": "python",
   "pygments_lexer": "ipython3",
   "version": "3.9.13"
  }
 },
 "nbformat": 4,
 "nbformat_minor": 5
}
