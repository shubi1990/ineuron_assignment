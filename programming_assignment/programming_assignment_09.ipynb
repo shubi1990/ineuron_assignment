{
 "cells": [
  {
   "cell_type": "markdown",
   "id": "d4637f13",
   "metadata": {},
   "source": [
    "## 1. Write a Python program to check if the given number is a Disarium Number?"
   ]
  },
  {
   "cell_type": "code",
   "execution_count": 15,
   "id": "123f9675",
   "metadata": {},
   "outputs": [
    {
     "name": "stdout",
     "output_type": "stream",
     "text": [
      "Enter the number : 135\n",
      "135 is a Disarium Number\n"
     ]
    }
   ],
   "source": [
    "num = input(\"Enter the number : \")\n",
    "def isDisarium(num):\n",
    "    sum = 0\n",
    "    for i in range(len(num)):\n",
    "        sum += int(num[i]) ** (i + 1)\n",
    "    return sum\n",
    "\n",
    "result = isDisarium(num)\n",
    "if result == int(num):\n",
    "    print(f\"{num} is a Disarium Number\")\n",
    "else:\n",
    "    print(f\"{num} is not a Disarium Number\")"
   ]
  },
  {
   "cell_type": "markdown",
   "id": "7a4170eb",
   "metadata": {},
   "source": [
    "## 2. Write a Python program to print all disarium numbers between 1 to 100?"
   ]
  },
  {
   "cell_type": "code",
   "execution_count": 16,
   "id": "119f69e5",
   "metadata": {},
   "outputs": [
    {
     "name": "stdout",
     "output_type": "stream",
     "text": [
      "All rhe Disarium number in between 1-100 are : [1, 2, 3, 4, 5, 6, 7, 8, 9, 89]\n"
     ]
    }
   ],
   "source": [
    "def DisariumNumber(start=1, end=100):\n",
    "    num = []\n",
    "    for i in range(start, end+1):\n",
    "        sum = 0\n",
    "        for j in range(len(str(i))):\n",
    "             sum += int(str(i)[j]) ** (j + 1)\n",
    "        if sum == i:\n",
    "            num.append(i)\n",
    "    return num\n",
    "\n",
    "print(\"All the Disarium number in between 1-100 are :\",DisariumNumber(1, 100) )\n",
    "            "
   ]
  },
  {
   "cell_type": "markdown",
   "id": "28f1ef3a",
   "metadata": {},
   "source": [
    "## 3. Write a Python program to check if the given number is Happy Number?"
   ]
  },
  {
   "cell_type": "code",
   "execution_count": 5,
   "id": "e67ac1b9",
   "metadata": {},
   "outputs": [
    {
     "name": "stdout",
     "output_type": "stream",
     "text": [
      "Enter a number: 49\n",
      "It's a Happy number\n"
     ]
    }
   ],
   "source": [
    "def isHappynum():\n",
    "    n=int(input(\"Enter a number: \"))\n",
    "    temp=n\n",
    "    add=0\n",
    "    while(True):\n",
    "        while(temp>0):\n",
    "            remn = temp%10\n",
    "            temp = temp//10\n",
    "            add += remn**2\n",
    "        \n",
    "        if(add==1):\n",
    "            print(\"It's a Happy number\")\n",
    "            break\n",
    "        elif(add==4):\n",
    "            print(\"It's not a Happy Number\")\n",
    "            break\n",
    "        else:\n",
    "            temp = add\n",
    "            add = 0\n",
    "isHappynum()"
   ]
  },
  {
   "cell_type": "markdown",
   "id": "2dc7ea4b",
   "metadata": {},
   "source": [
    "## 4. Write a Python program to print all happy numbers between 1 and 100?"
   ]
  },
  {
   "cell_type": "code",
   "execution_count": 4,
   "id": "499a1395",
   "metadata": {},
   "outputs": [
    {
     "name": "stdout",
     "output_type": "stream",
     "text": [
      "The lists of Happy Numbers in between 1-100 are :  [1, 7, 10, 13, 19, 23, 28, 31, 32, 44, 49, 68, 70, 79, 82, 86, 91, 94, 97, 100]\n"
     ]
    }
   ],
   "source": [
    "def happynumList(start=1, end=100):\n",
    "    happyNumbers = []\n",
    "    for n in range(start, end+1):\n",
    "        temp=n\n",
    "        add=0\n",
    "        while(True):\n",
    "            while(temp>0):\n",
    "                remn = temp%10\n",
    "                temp = temp//10\n",
    "                add += remn**2\n",
    "        \n",
    "            if(add==1):\n",
    "                happyNumbers.append(n)\n",
    "                break\n",
    "            elif(add==4):\n",
    "                break\n",
    "            else:\n",
    "                temp = add\n",
    "                add = 0\n",
    "    return happyNumbers\n",
    "print(\"The lists of Happy Numbers in between 1-100 are : \",isHappynum(1, 100))"
   ]
  },
  {
   "cell_type": "markdown",
   "id": "dc7bdd53",
   "metadata": {},
   "source": [
    "## 5. Write a Python program to determine whether the given number is a Harshad Number?"
   ]
  },
  {
   "cell_type": "code",
   "execution_count": 7,
   "id": "e775903f",
   "metadata": {},
   "outputs": [
    {
     "name": "stdout",
     "output_type": "stream",
     "text": [
      "Enter a number = 153\n",
      "Number is a Harshad Number 153\n"
     ]
    }
   ],
   "source": [
    "def isHarshadnum():\n",
    "    n = int(input(\"Enter a number = \"))\n",
    "    temp = n\n",
    "    sum = 0\n",
    "    rem = 0\n",
    "    while temp > 0:\n",
    "        rem = temp % 10\n",
    "        sum += rem\n",
    "        temp //= 10\n",
    "    \n",
    "    if n % sum == 0:\n",
    "        print(f\"Number is a Harshad Number {n}\")\n",
    "    else:\n",
    "        print(f\"Number is not a Harshad Number {n}\")\n",
    "isHarshadnum()"
   ]
  },
  {
   "cell_type": "markdown",
   "id": "4b218868",
   "metadata": {},
   "source": [
    "## 6. Write a Python program to print all pronic numbers between 1 and 100?"
   ]
  },
  {
   "cell_type": "code",
   "execution_count": 21,
   "id": "8c81ac9a",
   "metadata": {},
   "outputs": [
    {
     "name": "stdout",
     "output_type": "stream",
     "text": [
      "The lists of Happy Numbers in between 1-100 are :  [2, 6, 12, 20, 30, 42, 56, 72, 90]\n"
     ]
    }
   ],
   "source": [
    "def pronicnumList(n):\n",
    "    pronicNumbers = []\n",
    "    for i in range(1, n):\n",
    "        num = i * (i + 1)\n",
    "        if num <= n:\n",
    "            pronicNumbers.append(num)\n",
    "        else:\n",
    "            i += 1\n",
    "        \n",
    "    return pronicNumbers\n",
    "print(\"The lists of Happy Numbers in between 1-100 are : \",pronicnumList(101))"
   ]
  },
  {
   "cell_type": "code",
   "execution_count": null,
   "id": "4aa643c1",
   "metadata": {},
   "outputs": [],
   "source": []
  }
 ],
 "metadata": {
  "kernelspec": {
   "display_name": "Python 3 (ipykernel)",
   "language": "python",
   "name": "python3"
  },
  "language_info": {
   "codemirror_mode": {
    "name": "ipython",
    "version": 3
   },
   "file_extension": ".py",
   "mimetype": "text/x-python",
   "name": "python",
   "nbconvert_exporter": "python",
   "pygments_lexer": "ipython3",
   "version": "3.8.8"
  }
 },
 "nbformat": 4,
 "nbformat_minor": 5
}
