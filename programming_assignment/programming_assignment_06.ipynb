{
 "cells": [
  {
   "cell_type": "markdown",
   "id": "1e30915a",
   "metadata": {},
   "source": [
    "## 1. Write a Python Program to Display Fibonacci Sequence Using Recursion?"
   ]
  },
  {
   "cell_type": "code",
   "execution_count": 2,
   "id": "f959b6ad",
   "metadata": {},
   "outputs": [
    {
     "name": "stdout",
     "output_type": "stream",
     "text": [
      "Enter the length of the series = 10\n",
      "0 1 1 2 3 5 8 13 21 34 "
     ]
    }
   ],
   "source": [
    "terms = int(input(\"Enter the length of the series = \"))\n",
    "\n",
    "def recur_fib(n):\n",
    "    if n <= 1:\n",
    "        return n\n",
    "    else:\n",
    "        return (recur_fib(n -1) + recur_fib(n - 2))\n",
    "    \n",
    "for i in range(terms):\n",
    "    print(recur_fib(i), end = \" \")"
   ]
  },
  {
   "cell_type": "markdown",
   "id": "b0fa08fe",
   "metadata": {},
   "source": [
    "## 2. Write a Python Program to Find Factorial of Number Using Recursion?"
   ]
  },
  {
   "cell_type": "code",
   "execution_count": 5,
   "id": "9b336c99",
   "metadata": {},
   "outputs": [
    {
     "name": "stdout",
     "output_type": "stream",
     "text": [
      "Enter a number = 5\n",
      "The factorial of the given number is 120\n"
     ]
    }
   ],
   "source": [
    "num = int(input(\"Enter a number = \"))\n",
    "\n",
    "def recur_fact(num):\n",
    "    if num < 1:\n",
    "        return 1\n",
    "    else:\n",
    "        return (num * recur_fact(num - 1))\n",
    "    \n",
    "print(\"The factorial of the given number is {}\".format(recur_fact(num)))"
   ]
  },
  {
   "cell_type": "markdown",
   "id": "0543aa4e",
   "metadata": {},
   "source": [
    "## 3. Write a Python Program to calculate your Body Mass Index?"
   ]
  },
  {
   "cell_type": "code",
   "execution_count": 8,
   "id": "0ff756e7",
   "metadata": {},
   "outputs": [
    {
     "name": "stdout",
     "output_type": "stream",
     "text": [
      "Enter the height in (mtr): 1.75\n",
      "Enter the weight in (kg): 90\n",
      "The body mass index is 29.387755102040817\n",
      "You are over weight.\n"
     ]
    }
   ],
   "source": [
    "height = float(input(\"Enter the height in (mtr): \"))  \n",
    "weight = float(input(\"Enter the weight in (kg): \"))  \n",
    " \n",
    "BMI = weight / height**2  \n",
    "  \n",
    "print(\"The body mass index is\", BMI)  \n",
    " \n",
    "if BMI <= 18.5:  \n",
    "    print(\"You are underweight.\")  \n",
    "elif BMI <= 24.9:  \n",
    "    print(\"You are healthy.\")  \n",
    "elif BMI <= 29.9:  \n",
    "    print(\"You are over weight.\")  \n",
    "else:  \n",
    "    print(\"You are suffering from obesity.\")  "
   ]
  },
  {
   "cell_type": "markdown",
   "id": "e120aee5",
   "metadata": {},
   "source": [
    "## 4. Write a Python Program to calculate the natural logarithm of any number?"
   ]
  },
  {
   "cell_type": "code",
   "execution_count": 10,
   "id": "e2d29018",
   "metadata": {},
   "outputs": [
    {
     "name": "stdout",
     "output_type": "stream",
     "text": [
      "Enter a number = 10\n",
      "Natural logarithm of the given number is 2.302585092994046 \n"
     ]
    }
   ],
   "source": [
    "import math\n",
    "\n",
    "num = int(input(\"Enter a number = \"))\n",
    "\n",
    "def log_num(num):\n",
    "    return math.log(num)\n",
    "\n",
    "print(\"Natural logarithm of the given number is {} \".format(log_num(num)))"
   ]
  },
  {
   "cell_type": "markdown",
   "id": "283a9999",
   "metadata": {},
   "source": [
    "## 5. Write a Python Program for cube sum of first n natural numbers?"
   ]
  },
  {
   "cell_type": "code",
   "execution_count": 14,
   "id": "dbd7142e",
   "metadata": {},
   "outputs": [
    {
     "name": "stdout",
     "output_type": "stream",
     "text": [
      "Enter a number = 3\n",
      "The cube sum of the 3 is 36.\n"
     ]
    }
   ],
   "source": [
    "def cube_sum_num(n):\n",
    "    sum = 0\n",
    "    for i in range(n + 1):\n",
    "        sum += i**3\n",
    "    return sum\n",
    "n = int(input(\"Enter a number = \"))\n",
    "result = cube_sum_num(n)\n",
    "print(f\"The cube sum of the {n} is {result}.\")\n",
    "        "
   ]
  },
  {
   "cell_type": "code",
   "execution_count": null,
   "id": "49f605e1",
   "metadata": {},
   "outputs": [],
   "source": []
  }
 ],
 "metadata": {
  "kernelspec": {
   "display_name": "Python 3 (ipykernel)",
   "language": "python",
   "name": "python3"
  },
  "language_info": {
   "codemirror_mode": {
    "name": "ipython",
    "version": 3
   },
   "file_extension": ".py",
   "mimetype": "text/x-python",
   "name": "python",
   "nbconvert_exporter": "python",
   "pygments_lexer": "ipython3",
   "version": "3.8.8"
  }
 },
 "nbformat": 4,
 "nbformat_minor": 5
}
