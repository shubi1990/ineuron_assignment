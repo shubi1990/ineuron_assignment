{
 "cells": [
  {
   "cell_type": "markdown",
   "id": "42ab94ce",
   "metadata": {},
   "source": [
    "### Question 1: Please write a program using generator to print the numbers which can be divisible by 5 and 7 between 0 and n in comma separated form while n is input by console.\n",
    "Example:\n",
    "If the following n is given as input to the program:\n",
    "100\n",
    "\n",
    "Then, the output of the program should be:\n",
    "0,35,70"
   ]
  },
  {
   "cell_type": "code",
   "execution_count": 6,
   "id": "d17dd0ba",
   "metadata": {},
   "outputs": [
    {
     "name": "stdout",
     "output_type": "stream",
     "text": [
      "Enter a number = 100\n",
      "0,35,70,"
     ]
    }
   ],
   "source": [
    "def showDiv(num):\n",
    "    for i in range(0, num+1):\n",
    "        if (i%5 == 0) and (i%7 ==0):\n",
    "            yield (i)\n",
    "num = int(input(\"Enter a number = \"))            \n",
    "for j in showDiv(num):\n",
    "    print(j, end=\",\")"
   ]
  },
  {
   "cell_type": "markdown",
   "id": "0c433a32",
   "metadata": {},
   "source": [
    "### Question 2:Please write a program using generator to print the even numbers between 0 and n in commaseparated form while n is input by console.\n",
    "Example:\n",
    "If the following n is given as input to the program:10\n",
    "\n",
    "Then, the output of the program should be:0,2,4,6,8,10"
   ]
  },
  {
   "cell_type": "code",
   "execution_count": 8,
   "id": "9fe5532e",
   "metadata": {},
   "outputs": [
    {
     "name": "stdout",
     "output_type": "stream",
     "text": [
      "Enter a number = 10\n",
      "0,2,4,6,8,10,"
     ]
    }
   ],
   "source": [
    "def evenNumGen(num):\n",
    "    for i in range(0, num+1):\n",
    "        if i%2 == 0:\n",
    "            yield (i)\n",
    "            \n",
    "num = int(input(\"Enter a number = \")) \n",
    "for j in evenNumGen(num):\n",
    "    print(j, end=\",\")"
   ]
  },
  {
   "cell_type": "markdown",
   "id": "86f2bdb6",
   "metadata": {},
   "source": [
    "### Question 3:The Fibonacci Sequence is computed based on the following formula:\n",
    "f(n)=0 if n=0\n",
    "\n",
    "f(n)=1 if n=1\n",
    "\n",
    "f(n)=f(n-1)+f(n-2) if n&gt;1\n",
    "\n",
    "Please write a program using list comprehension to print the Fibonacci Sequence in comma\n",
    "separated form with a given n input by console.\n",
    "\n",
    "Example:\n",
    "If the following n is given as input to the program:7\n",
    "\n",
    "Then, the output of the program should be:0,1,1,2,3,5,8,13"
   ]
  },
  {
   "cell_type": "code",
   "execution_count": 11,
   "id": "06de896f",
   "metadata": {},
   "outputs": [
    {
     "name": "stdout",
     "output_type": "stream",
     "text": [
      "Enter a number = 7\n"
     ]
    },
    {
     "data": {
      "text/plain": [
       "[0, 1, 1, 2, 3, 5, 8, 13]"
      ]
     },
     "execution_count": 11,
     "metadata": {},
     "output_type": "execute_result"
    }
   ],
   "source": [
    "def fib(n):\n",
    "    if n == 0:\n",
    "        return 0\n",
    "    if n == 1:\n",
    "        return 1\n",
    "    else:\n",
    "        return fib(n - 1) + fib(n - 2)\n",
    "n = int(input(\"Enter a number = \"))   \n",
    "[fib(i) for i in range(n+1)]"
   ]
  },
  {
   "cell_type": "markdown",
   "id": "fdc2211b",
   "metadata": {},
   "source": [
    "### 4.Assuming that we have some email addresses in the \"username@companyname.com\" format, please write program to print the user name of a given email address. Both user names and company names are composed of letters only ?\n",
    "Example:\n",
    "If the following email address is given as input to the program: john@google.com\n",
    "\n",
    "Then, the output of the program should be: john"
   ]
  },
  {
   "cell_type": "code",
   "execution_count": 14,
   "id": "a2023637",
   "metadata": {},
   "outputs": [
    {
     "name": "stdout",
     "output_type": "stream",
     "text": [
      "Enter your mail-id : john@google.com\n",
      "john\n"
     ]
    }
   ],
   "source": [
    "def getUserName():\n",
    "    email = input(\"Enter your mail-id : \")\n",
    "    user_name = email.split(\"@\")\n",
    "    print(user_name[0])\n",
    "getUserName()"
   ]
  },
  {
   "cell_type": "markdown",
   "id": "560b8357",
   "metadata": {},
   "source": [
    "### Question 5:Define a class named Shape and its subclass Square. The Square class has an init functionwhich takes a length as argument. Both classes have a area function which can print the areaof the shape where Shape&#39;s area is 0 by default."
   ]
  },
  {
   "cell_type": "code",
   "execution_count": 15,
   "id": "3e779e99",
   "metadata": {},
   "outputs": [
    {
     "name": "stdout",
     "output_type": "stream",
     "text": [
      "The area of the square is :  100\n"
     ]
    }
   ],
   "source": [
    "class Shape:\n",
    "    def area(self):\n",
    "        return 0\n",
    "class Square:\n",
    "    def __init__(self, length):\n",
    "        self.length = length\n",
    "    def area(self):\n",
    "        return self.length**2\n",
    "square = Square(10)\n",
    "print(\"The area of the square is : \", square.area())"
   ]
  },
  {
   "cell_type": "code",
   "execution_count": null,
   "id": "3590f6a3",
   "metadata": {},
   "outputs": [],
   "source": []
  }
 ],
 "metadata": {
  "kernelspec": {
   "display_name": "Python 3 (ipykernel)",
   "language": "python",
   "name": "python3"
  },
  "language_info": {
   "codemirror_mode": {
    "name": "ipython",
    "version": 3
   },
   "file_extension": ".py",
   "mimetype": "text/x-python",
   "name": "python",
   "nbconvert_exporter": "python",
   "pygments_lexer": "ipython3",
   "version": "3.9.13"
  }
 },
 "nbformat": 4,
 "nbformat_minor": 5
}
