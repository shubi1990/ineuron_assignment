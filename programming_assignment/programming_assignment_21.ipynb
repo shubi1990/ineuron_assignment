{
 "cells": [
  {
   "cell_type": "markdown",
   "id": "500e0219",
   "metadata": {},
   "source": [
    "### Question1. Write a function that takes a list and a number as arguments. Add the number to the end of the list, then remove the first element of the list. The function should then return the updated list.\n",
    "\n",
    "Examples:\n",
    "\n",
    "- next_in_line([5, 6, 7, 8, 9], 1) ➞ [6, 7, 8, 9, 1]\n",
    "- next_in_line([7, 6, 3, 23, 17], 10) ➞ [6, 3, 23, 17, 10]\n",
    "- next_in_line([1, 10, 20, 42 ], 6) ➞ [10, 20, 42, 6]\n",
    "- next_in_line([], 6) ➞ \"No list has been selected\""
   ]
  },
  {
   "cell_type": "code",
   "execution_count": 1,
   "id": "36be4772",
   "metadata": {},
   "outputs": [
    {
     "name": "stdout",
     "output_type": "stream",
     "text": [
      "next_in_line([5, 6, 7, 8, 9], 1) ➞  [6, 7, 8, 9, 1]\n",
      "next_in_line([7, 6, 3, 23, 17], 10) ➞  [6, 3, 23, 17, 10]\n",
      "next_in_line([1, 10, 20, 42 ], 6) ➞  [10, 20, 42, 6]\n",
      "next_in_line([], 6) ➞  No list has been selected\n"
     ]
    }
   ],
   "source": [
    "def next_in_line(L,ele):\n",
    "    if len(L)>1:\n",
    "        L.append(ele)\n",
    "        L.remove(L[0])\n",
    "        return L\n",
    "    else: \n",
    "        return \"No list has been selected\"\n",
    "\n",
    "print(\"next_in_line([5, 6, 7, 8, 9], 1) ➞ \",next_in_line([5, 6, 7, 8, 9], 1))\n",
    "print(\"next_in_line([7, 6, 3, 23, 17], 10) ➞ \",next_in_line([7, 6, 3, 23, 17], 10))\n",
    "print(\"next_in_line([1, 10, 20, 42 ], 6) ➞ \",next_in_line([1, 10, 20, 42 ], 6))\n",
    "print(\"next_in_line([], 6) ➞ \",next_in_line([], 6))"
   ]
  },
  {
   "cell_type": "markdown",
   "id": "59475bc9",
   "metadata": {},
   "source": [
    "### Question2. Create the function that takes a list of dictionaries and returns the sum of people&#39;s budgets.\n",
    "\n",
    "Examples:\n",
    "\n",
    "get_budgets([ { \"name\": \"John\", \"age\": 21, \"budget\": 23000 }, { \"name\": \"Steve\", \"age\": 32, \"budget\": 40000 }, { \"name\": \"Martin\", \"age\": 16, \"budget\": 2700 } ]) ➞ 65700\n",
    "\n",
    "get_budgets([ { \"name\": \"John\", \"age\": 21, \"budget\": 29000 }, { \"name\": \"Steve\", \"age\": 32, \"budget\": 32000 }, { \"name\": \"Martin\", \"age\": 16, \"budget\": 1600 } ]) ➞ 62600"
   ]
  },
  {
   "cell_type": "code",
   "execution_count": 4,
   "id": "0d89c5e2",
   "metadata": {},
   "outputs": [
    {
     "name": "stdout",
     "output_type": "stream",
     "text": [
      "get_budgets([ { \"name\": \"John\", \"age\": 21, \"budget\": 23000 }, { \"name\": \"Steve\", \"age\": 32, \"budget\": 40000 }, { \"name\": \"Martin\", \"age\": 16, \"budget\": 2700 } ]) ➞  65700\n",
      "get_budgets([ { \"name\": \"John\", \"age\": 21, \"budget\": 29000 }, { \"name\": \"Steve\", \"age\": 32, \"budget\": 32000 }, { \"name\": \"Martin\", \"age\": 16, \"budget\": 1600 } ]) ➞  62600\n"
     ]
    }
   ],
   "source": [
    "def get_budgets(L):\n",
    "    sum = 0\n",
    "    for i in L:\n",
    "        sum += i[\"budget\"]\n",
    "    return sum\n",
    "print('get_budgets([ { \"name\": \"John\", \"age\": 21, \"budget\": 23000 }, { \"name\": \"Steve\", \"age\": 32, \"budget\": 40000 }, { \"name\": \"Martin\", \"age\": 16, \"budget\": 2700 } ]) ➞ ', get_budgets([ { \"name\": \"John\", \"age\": 21, \"budget\": 23000 }, { \"name\": \"Steve\", \"age\": 32, \"budget\": 40000 }, { \"name\": \"Martin\", \"age\": 16, \"budget\": 2700 } ]))\n",
    "print('get_budgets([ { \"name\": \"John\", \"age\": 21, \"budget\": 29000 }, { \"name\": \"Steve\", \"age\": 32, \"budget\": 32000 }, { \"name\": \"Martin\", \"age\": 16, \"budget\": 1600 } ]) ➞ ', get_budgets([ { \"name\": \"John\", \"age\": 21, \"budget\": 29000 }, { \"name\": \"Steve\", \"age\": 32, \"budget\": 32000 }, { \"name\": \"Martin\", \"age\": 16, \"budget\": 1600 } ]))"
   ]
  },
  {
   "cell_type": "markdown",
   "id": "932247bd",
   "metadata": {},
   "source": [
    "### Question3. Create a function that takes a string and returns a string with its letters in alphabetical order.\n",
    "\n",
    "Examples:\n",
    "\n",
    "- alphabet_soup(\"hello\") ➞ \"ehllo\"\n",
    "- alphabet_soup(\"edabit\") ➞ \"abdeit\"\n",
    "- alphabet_soup(\"hacker\") ➞ \"acehkr\"\n",
    "- alphabet_soup(\"geek\") ➞ \"eegk\"\n",
    "- alphabet_soup(\"javascript\") ➞ \"aacijprstv\""
   ]
  },
  {
   "cell_type": "code",
   "execution_count": 5,
   "id": "80d84157",
   "metadata": {},
   "outputs": [
    {
     "name": "stdout",
     "output_type": "stream",
     "text": [
      "alphabet_soup(\"hello\") ➞  ehllo\n",
      "alphabet_soup(\"edabit\") ➞  abdeit\n",
      "alphabet_soup(\"hacker\") ➞  acehkr\n",
      "alphabet_soup(\"geek\") ➞  eegk\n",
      "alphabet_soup(\"javascript\") ➞  aacijprstv\n"
     ]
    }
   ],
   "source": [
    "def alphabet_soup(string):\n",
    "    ordered_string = ''.join(sorted(string))\n",
    "    return ordered_string\n",
    "\n",
    "print('alphabet_soup(\"hello\") ➞ ', alphabet_soup(\"hello\"))\n",
    "print('alphabet_soup(\"edabit\") ➞ ', alphabet_soup(\"edabit\"))\n",
    "print('alphabet_soup(\"hacker\") ➞ ', alphabet_soup(\"hacker\"))\n",
    "print('alphabet_soup(\"geek\") ➞ ', alphabet_soup(\"geek\"))\n",
    "print('alphabet_soup(\"javascript\") ➞ ', alphabet_soup(\"javascript\"))"
   ]
  },
  {
   "cell_type": "markdown",
   "id": "b5d10ec6",
   "metadata": {},
   "source": [
    "### Question4. Suppose that you invest 10,000 for 10 years at an interest rate of 6% compounded monthly. What will be the value of your investment at the end of the 10 year period?\n",
    "### Create a function that accepts the principal p, the term in years t, the interest rate r, and the number of compounding periods per year n. The function returns the value at the end of term rounded to the nearest cent.\n",
    "\n",
    "For the example above:\n",
    "\n",
    "- compound_interest(10000, 10, 0.06, 12) ➞ 18193.97 \n",
    "### Note that the interest rate is given as a decimal and n=12 because with monthly compounding there are 12 periods per year. Compounding can also be done annually, quarterly, weekly, or daily.\n",
    "\n",
    "Examples:\n",
    "\n",
    "- compound_interest(100, 1, 0.05, 1) ➞ 105.0\n",
    "- compound_interest(3500, 15, 0.1, 4) ➞ 15399.26\n",
    "- compound_interest(100000, 20, 0.15, 365) ➞ 2007316.26"
   ]
  },
  {
   "cell_type": "code",
   "execution_count": 7,
   "id": "cbaad75d",
   "metadata": {},
   "outputs": [
    {
     "name": "stdout",
     "output_type": "stream",
     "text": [
      "compound_interest(10000, 10, 0.06, 12) ➞  18193.9673403229\n",
      "compound_interest(100, 1, 0.05, 1) ➞  105.0\n",
      "compound_interest(3500, 15, 0.1, 4) ➞  15399.264120852586\n",
      "compound_interest(100000, 20, 0.15, 365) ➞  2007316.2632325366\n"
     ]
    }
   ],
   "source": [
    "def compound_interest(p, t, r, n):\n",
    "    return p*(1+(r/n))**(t*n)\n",
    "\n",
    "print('compound_interest(10000, 10, 0.06, 12) ➞ ', compound_interest(10000, 10, 0.06, 12))\n",
    "print('compound_interest(100, 1, 0.05, 1) ➞ ', compound_interest(100, 1, 0.05, 1))\n",
    "print('compound_interest(3500, 15, 0.1, 4) ➞ ', compound_interest(3500, 15, 0.1, 4))\n",
    "print('compound_interest(100000, 20, 0.15, 365) ➞ ', compound_interest(100000, 20, 0.15, 365))"
   ]
  },
  {
   "cell_type": "markdown",
   "id": "8d5546e9",
   "metadata": {},
   "source": [
    "### Question5. Write a function that takes a list of elements and returns only the integers.\n",
    "\n",
    "Examples:\n",
    "\n",
    "- return_only_integer([9, 2, \"space\", \"car\", \"lion\", 16]) ➞ [9, 2, 16]\n",
    "- return_only_integer([\"hello\", 81, \"basketball\", 123, \"fox\"]) ➞ [81, 123]\n",
    "- return_only_integer([10, \"121\", 56, 20, \"car\", 3, \"lion\"]) ➞ [10, 56, 20,3]\n",
    "- return_only_integer([\"String\", True, 3.3, 1]) ➞ [1]"
   ]
  },
  {
   "cell_type": "code",
   "execution_count": 8,
   "id": "b623dc5d",
   "metadata": {},
   "outputs": [
    {
     "name": "stdout",
     "output_type": "stream",
     "text": [
      "return_only_integer([9, 2, \"space\", \"car\", \"lion\", 16]) ➞  [9, 2, 16]\n",
      "return_only_integer([\"hello\", 81, \"basketball\", 123, \"fox\"]) ➞  [81, 123]\n",
      "return_only_integer([10, \"121\", 56, 20, \"car\", 3, \"lion\"]) ➞  [10, 56, 20, 3]\n",
      "return_only_integer([\"String\", True, 3.3, 1]) ➞  [1]\n"
     ]
    }
   ],
   "source": [
    "def return_only_integer(L):\n",
    "    new_list = []\n",
    "    for i in L:\n",
    "        if type(i) == int:\n",
    "            new_list.append(i)\n",
    "    return new_list\n",
    "\n",
    "print('return_only_integer([9, 2, \"space\", \"car\", \"lion\", 16]) ➞ ', return_only_integer([9, 2, \"space\", \"car\", \"lion\", 16]))\n",
    "print('return_only_integer([\"hello\", 81, \"basketball\", 123, \"fox\"]) ➞ ', return_only_integer([\"hello\", 81, \"basketball\", 123, \"fox\"]))\n",
    "print('return_only_integer([10, \"121\", 56, 20, \"car\", 3, \"lion\"]) ➞ ', return_only_integer([10, \"121\", 56, 20, \"car\", 3, \"lion\"]))\n",
    "print('return_only_integer([\"String\", True, 3.3, 1]) ➞ ', return_only_integer([\"String\", True, 3.3, 1]))"
   ]
  },
  {
   "cell_type": "code",
   "execution_count": null,
   "id": "01fd9336",
   "metadata": {},
   "outputs": [],
   "source": []
  }
 ],
 "metadata": {
  "kernelspec": {
   "display_name": "Python 3 (ipykernel)",
   "language": "python",
   "name": "python3"
  },
  "language_info": {
   "codemirror_mode": {
    "name": "ipython",
    "version": 3
   },
   "file_extension": ".py",
   "mimetype": "text/x-python",
   "name": "python",
   "nbconvert_exporter": "python",
   "pygments_lexer": "ipython3",
   "version": "3.9.13"
  }
 },
 "nbformat": 4,
 "nbformat_minor": 5
}
